{
 "cells": [
  {
   "cell_type": "code",
   "execution_count": 14,
   "metadata": {},
   "outputs": [],
   "source": [
    ":opt no-lint"
   ]
  },
  {
   "cell_type": "code",
   "execution_count": 2,
   "metadata": {},
   "outputs": [],
   "source": [
    "import Control.Monad.Trans.State\n",
    "import Text.Trifecta\n",
    "import Text.Parser.Combinators\n",
    "import Control.Applicative ((<|>))\n",
    "import Text.RawString.QQ"
   ]
  },
  {
   "cell_type": "markdown",
   "metadata": {},
   "source": [
    "# 24 State\n",
    "## 24.1 Parser combinators\n",
    "Chapter content:\n",
    "• Use a parsing library to cover the basics of parsing.\n",
    "• Demonstrate the power of parser combinators.\n",
    "• Marshall and unmarshall some JSON data.\n",
    "• Talk about tokenization.\n",
    "## 24.2 A few more words of introduction\n",
    "Due to the size of the field, the chapter explains parsing with a outside-in approach.\n",
    "## 24.3 Understanding the parsing process\n",
    "A parser combinator is a higher-order function that takes parsers as input and returns a new parser as output. In term of lambda calculus, combinators are expressions with no free variables.\n",
    "Usually, the argument passing is elided, because the interface of parsers will often be like the `State` monad, which permits `Reader`-style implicit argument passing.\n",
    "Combinators allow for recursion and for gluing together parsers in a modular fashion to parse data according to complex rules.\n",
    "#### A bit like...\n",
    "`Parser` is similar to `State`, plus `Maybe`. Parsing is like scrolling a cursor over a text, while mutating the internal state.\n",
    "### Exercises: Parsing practice\n",
    "1. Modify the parsers to expect an end-of-file closing the input stream"
   ]
  },
  {
   "cell_type": "code",
   "execution_count": 3,
   "metadata": {},
   "outputs": [
    {
     "data": {
      "text/plain": [
       "Failure (ErrInfo {_errDoc = \u001b[1m(interactive)\u001b[0m:\u001b[1m1\u001b[0m:\u001b[1m2\u001b[0m: \u001b[91merror\u001b[0m: expected: end of input\n",
       "123\u001b[1m\u001b[94m<EOF>\u001b[0;1m\u001b[0m \n",
       " \u001b[92m^\u001b[0m       , _errDeltas = [Columns 1 1]})"
      ]
     },
     "metadata": {},
     "output_type": "display_data"
    },
    {
     "data": {
      "text/plain": [
       "Failure (ErrInfo {_errDoc = \u001b[1m(interactive)\u001b[0m:\u001b[1m1\u001b[0m:\u001b[1m3\u001b[0m: \u001b[91merror\u001b[0m: expected: end of input\n",
       "123\u001b[1m\u001b[94m<EOF>\u001b[0;1m\u001b[0m \n",
       "  \u001b[92m^\u001b[0m      , _errDeltas = [Columns 2 2]})"
      ]
     },
     "metadata": {},
     "output_type": "display_data"
    }
   ],
   "source": [
    "one = char '1' >> eof\n",
    "\n",
    "oneTwo = char '1' >> char '2' >> eof\n",
    "\n",
    "print $ parseString one mempty \"123\"\n",
    "print $ parseString oneTwo mempty \"123\""
   ]
  },
  {
   "cell_type": "markdown",
   "metadata": {},
   "source": [
    "2. Use string to make a `Parser` that parses `“1”`, `“12”`, and `“123”` out of the example input, respectively. Try combining it with `stop`, too."
   ]
  },
  {
   "cell_type": "code",
   "execution_count": 4,
   "metadata": {},
   "outputs": [
    {
     "data": {
      "text/plain": [
       "Success \"1\""
      ]
     },
     "metadata": {},
     "output_type": "display_data"
    },
    {
     "data": {
      "text/plain": [
       "Success \"12\""
      ]
     },
     "metadata": {},
     "output_type": "display_data"
    },
    {
     "data": {
      "text/plain": [
       "Success \"123\""
      ]
     },
     "metadata": {},
     "output_type": "display_data"
    },
    {
     "data": {
      "text/plain": [
       "Failure (ErrInfo {_errDoc = \u001b[1m(interactive)\u001b[0m:\u001b[1m1\u001b[0m:\u001b[1m2\u001b[0m: \u001b[91merror\u001b[0m: unexpected\n",
       "    stop\n",
       "1\u001b[1m\u001b[94m<EOF>\u001b[0;1m\u001b[0m \n",
       " \u001b[92m^\u001b[0m     , _errDeltas = [Columns 1 1]})"
      ]
     },
     "metadata": {},
     "output_type": "display_data"
    }
   ],
   "source": [
    "stop = unexpected \"stop\"\n",
    "\n",
    "oneTwoThree = string \"123\" <|> string \"12\" <|> string \"1\"\n",
    "oneTwoThree' = oneTwoThree <* stop\n",
    "\n",
    "print $ parseString oneTwoThree mempty \"1\"\n",
    "print $ parseString oneTwoThree mempty \"12\"\n",
    "print $ parseString oneTwoThree mempty \"123\"\n",
    "print $ parseString oneTwoThree' mempty \"1\""
   ]
  },
  {
   "cell_type": "markdown",
   "metadata": {},
   "source": [
    "3. Try writing a `Parser` that does what `string` does, but using `char`."
   ]
  },
  {
   "cell_type": "code",
   "execution_count": 5,
   "metadata": {},
   "outputs": [],
   "source": [
    "stringAsChar :: CharParsing m => String -> m String\n",
    "stringAsChar = try . traverse char"
   ]
  },
  {
   "cell_type": "markdown",
   "metadata": {},
   "source": [
    "## 24.4 Parsing fractions\n",
    "In the example, it ensures only correct fractions are parsed, while a monadic `fail` is returned when denominator is 0.\n",
    "### Exercise: Unit of success\n",
    "Write a parser such that it returns the integer successfully when it receives an input with an integer, followed by an EOF, and fail in all other cases:"
   ]
  },
  {
   "cell_type": "code",
   "execution_count": 6,
   "metadata": {},
   "outputs": [
    {
     "data": {
      "text/plain": [
       "Success 123"
      ]
     },
     "metadata": {},
     "output_type": "display_data"
    },
    {
     "data": {
      "text/plain": [
       "Failure (ErrInfo {_errDoc = \u001b[1m(interactive)\u001b[0m:\u001b[1m1\u001b[0m:\u001b[1m4\u001b[0m: \u001b[91merror\u001b[0m: expected: digit,\n",
       "    end of input\n",
       "123abc\u001b[1m\u001b[94m<EOF>\u001b[0;1m\u001b[0m \n",
       "   \u001b[92m^\u001b[0m        , _errDeltas = [Columns 3 3]})"
      ]
     },
     "metadata": {},
     "output_type": "display_data"
    }
   ],
   "source": [
    "parseInteger :: Parser Integer\n",
    "parseInteger = integer <* eof\n",
    "\n",
    "parseString parseInteger mempty \"123\"\n",
    "parseString parseInteger mempty \"123abc\""
   ]
  },
  {
   "cell_type": "markdown",
   "metadata": {},
   "source": [
    "## 24.5 Haskell’s parsing ecosystem\n",
    "Haskell has several excellent parsing libraries available.\n",
    "### Type classes of parsers\n",
    "The type class `Parsing` has `Alternative` as a superclass. It includes function:\n",
    "- `try`: takes a parser that may consume input and, on failure, goes back to where it started and fails if we don’t consume any input.\n",
    "- `unexpected`: used to emit an error on an unexpected token.\n",
    "\n",
    "It is superclass of `CharParsing` which defined functions such as `notChar`, `anyChar`, `string`, `text`.\n",
    "## 24.6 Alternative\n",
    "`<|>` is like a disjunction of two parsers. `Alternative` is a superclass of `Applicative` and defines common parsing functions such as `many`, `some`.\n",
    "It is possible to `fmap` a type over a parser: the results of the parsing will be wrapped inside the type.\n",
    "### Exercise: Try try\n",
    "Make a parser, using the existing fraction parser plus a new decimal parser, that can parse either decimals or fractions."
   ]
  },
  {
   "cell_type": "code",
   "execution_count": 7,
   "metadata": {},
   "outputs": [
    {
     "data": {
      "text/plain": [
       "Success (Right (1 % 2))"
      ]
     },
     "metadata": {},
     "output_type": "display_data"
    },
    {
     "data": {
      "text/plain": [
       "Success (Left 0.5)"
      ]
     },
     "metadata": {},
     "output_type": "display_data"
    }
   ],
   "source": [
    "import Data.Ratio ((%))\n",
    "\n",
    "virtuousParseFraction :: Parser Rational\n",
    "virtuousParseFraction = do\n",
    "  numerator <- decimal\n",
    "  char '/'\n",
    "  denominator <- decimal\n",
    "  case denominator of\n",
    "    0 -> fail \"denominator cannot be zero\"\n",
    "    _ -> return (numerator % denominator)\n",
    "\n",
    "type DecimalOrFraction = Either Double Rational\n",
    "\n",
    "parseDecimalOrFraction :: Parser DecimalOrFraction\n",
    "parseDecimalOrFraction = (Left <$> try double) <|> (Right <$> try virtuousParseFraction)\n",
    "\n",
    "print $ parseString parseDecimalOrFraction mempty \"1/2\"\n",
    "print $ parseString parseDecimalOrFraction mempty \"0.5\""
   ]
  },
  {
   "cell_type": "markdown",
   "metadata": {},
   "source": [
    "## 24.7 Parsing configuration files\n",
    "The chapter shows how to hierarchically combine smaller parsers in order to build a parser to INI files.\n",
    "## 24.8 Character and token parsers\n",
    "Haskell parsing libraries usually offer the same API for both lexing and parsing. Lexers (or tokenizers) and parsers hare primarily differentiated by their purposes and classes of grammar. Tokenization isn’t exclusively about whitespace: it’s about ignoring noise.\n",
    "Overuse of tokenizing parsers or mixture with character parsers can make your parser slow or hard\n",
    "to understand.\n",
    "## 24.9 Polymorphic parsers\n",
    "If we take the time to assert polymorphic types for our parsers, we can get parsers that can be run using various parsing libraries.\n",
    "Anyway, you may need to understand the particularities of each one.\n",
    "#### Failure and backtracking\n",
    "Backtracking is returning the cursor to where it was before a failing parser consumed input.\n",
    "With backtracking, error attribution can become more complicated. To avoid this, consider using the `<?>` operator to annotate parse rules any time you use `try`.\n",
    "## 24.10 Marshalling from an AST to a datatype\n",
    "The chapter advises not to mix `ByteString` with `Lazy.ByteString`.\n",
    "Also, it shows how to marshal and unmarshal to/from Json with `aeson` library. For each type, two conversion instances must be implemented. Sum types are supported.\n",
    "## 24.11 Chapter exercises\n",
    "1. Write a parser for semantic versions as defined by http://semver.org/. After making a working parser, write an `Ord` instance for the `SemVer` type that obeys the specification outlined on the SemVer website:"
   ]
  },
  {
   "cell_type": "code",
   "execution_count": 8,
   "metadata": {},
   "outputs": [
    {
     "data": {
      "text/plain": [
       "Success (SemVer 2 1 1 [] [])"
      ]
     },
     "metadata": {},
     "output_type": "display_data"
    },
    {
     "data": {
      "text/plain": [
       "Success (SemVer 1 0 0 [NOSS \"x\",NOSI 7,NOSS \"z\",NOSI 92] [])"
      ]
     },
     "metadata": {},
     "output_type": "display_data"
    },
    {
     "data": {
      "text/plain": [
       "Success (SemVer 1 0 0 [NOSS \"gamma\"] [NOSI 2])"
      ]
     },
     "metadata": {},
     "output_type": "display_data"
    },
    {
     "data": {
      "text/plain": [
       "Success (SemVer 1 0 0 [NOSS \"beta\"] [NOSS \"oof\",NOSS \"sha\",NOSS \"41af286\"])"
      ]
     },
     "metadata": {},
     "output_type": "display_data"
    },
    {
     "data": {
      "text/plain": [
       "True"
      ]
     },
     "metadata": {},
     "output_type": "display_data"
    }
   ],
   "source": [
    "import Text.Read (readMaybe)\n",
    "\n",
    "data NumberOrString = NOSS String | NOSI Integer deriving (Eq, Ord, Show)\n",
    "\n",
    "type Major = Integer\n",
    "type Minor = Integer\n",
    "type Patch = Integer\n",
    "type Release = [NumberOrString]\n",
    "type Metadata = [NumberOrString]\n",
    "\n",
    "data SemVer = SemVer Major Minor Patch Release Metadata deriving (Eq, Show)\n",
    "\n",
    "instance Ord SemVer where\n",
    "  compare (SemVer major minor patch rel _) (SemVer major' minor' patch' rel' _) =\n",
    "    mconcat\n",
    "      [ compare major major'\n",
    "      , compare minor minor'\n",
    "      , compare patch patch'\n",
    "      , compare rel rel'\n",
    "      ]\n",
    "\n",
    "parseSemVer :: Parser SemVer\n",
    "parseSemVer =  do\n",
    "  major     <- decimal\n",
    "  char '.'\n",
    "  minor     <- decimal\n",
    "  char '.'\n",
    "  patch     <- decimal\n",
    "  release   <- option [] releaseP\n",
    "  metadata  <- option [] metadataP\n",
    "  eof\n",
    "  return $ SemVer major minor patch release metadata\n",
    "\n",
    "releaseP :: Parser Release\n",
    "releaseP = char '-' *>  sepBy1 labelP (char '.')\n",
    "\n",
    "metadataP :: Parser Metadata\n",
    "metadataP = char '+' *> sepBy1 labelP (char '.')\n",
    "\n",
    "labelP :: Parser NumberOrString\n",
    "labelP = do\n",
    "  nos <- some $ oneOf ['a'..'z'] <|> oneOf ['A'..'Z'] <|> digit <|> char '-'\n",
    "  case readMaybe nos of\n",
    "      Nothing -> return $ NOSS nos\n",
    "      Just int -> return $ NOSI int\n",
    "\n",
    "parseString parseSemVer mempty \"2.1.1\"\n",
    "parseString parseSemVer mempty \"1.0.0-x.7.z.92\"\n",
    "parseString parseSemVer mempty \"1.0.0-gamma+002\"\n",
    "parseString parseSemVer mempty \"1.0.0-beta+oof.sha.41af286\"\n",
    "\n",
    "big = SemVer 2 1 1 [] []\n",
    "little = SemVer 2 1 0 [] []\n",
    "big > little"
   ]
  },
  {
   "cell_type": "markdown",
   "metadata": {},
   "source": [
    "2. Write a parser for positive integer values. Don’t reuse the preexisting `digit` or `integer` functions."
   ]
  },
  {
   "cell_type": "code",
   "execution_count": 5,
   "metadata": {},
   "outputs": [
    {
     "data": {
      "text/plain": [
       "Success '1'"
      ]
     },
     "metadata": {},
     "output_type": "display_data"
    },
    {
     "data": {
      "text/plain": [
       "Failure (ErrInfo {_errDoc = \u001b[1m(interactive)\u001b[0m:\u001b[1m1\u001b[0m:\u001b[1m1\u001b[0m: \u001b[91merror\u001b[0m: expected: ['0'..'9']\n",
       "abc\u001b[1m\u001b[94m<EOF>\u001b[0;1m\u001b[0m \n",
       "\u001b[92m^\u001b[0m        , _errDeltas = [Columns 0 0]})"
      ]
     },
     "metadata": {},
     "output_type": "display_data"
    },
    {
     "data": {
      "text/plain": [
       "Success 123"
      ]
     },
     "metadata": {},
     "output_type": "display_data"
    },
    {
     "data": {
      "text/plain": [
       "Success 123"
      ]
     },
     "metadata": {},
     "output_type": "display_data"
    }
   ],
   "source": [
    "import Data.Char (digitToInt)\n",
    "\n",
    "parseDigit :: Parser Char\n",
    "parseDigit = oneOf ['0'..'9'] <?> \"['0'..'9']\"\n",
    "\n",
    "base10Integer :: Parser Integer\n",
    "base10Integer = read' <$> some parseDigit\n",
    "\n",
    "read' :: String -> Integer\n",
    "read' = listToInteger . map (toInteger . digitToInt)\n",
    "  where listToInteger :: [Integer] -> Integer\n",
    "        listToInteger = foldl (\\acc a -> acc * 10 + a) 0\n",
    "\n",
    "parseString parseDigit mempty \"123\"\n",
    "parseString parseDigit mempty \"abc\"\n",
    "parseString base10Integer mempty \"123abc\"\n",
    "parseString base10Integer mempty \"123\""
   ]
  },
  {
   "cell_type": "markdown",
   "metadata": {},
   "source": [
    "3. Extend the parser you wrote to handle negative and positive integers. Try writing a new parser in terms of the one you already have in order to do this:"
   ]
  },
  {
   "cell_type": "code",
   "execution_count": 51,
   "metadata": {},
   "outputs": [
    {
     "data": {
      "text/plain": [
       "Success (-123)"
      ]
     },
     "metadata": {},
     "output_type": "display_data"
    }
   ],
   "source": [
    "base10Integer' :: Parser Integer\n",
    "base10Integer' = do\n",
    "   sign <- op <$> optional (char '+' <|> char '-')\n",
    "   sign <$> base10Integer\n",
    "     \n",
    "op sign = case sign of\n",
    "  Just '-' -> negate\n",
    "  _        -> id\n",
    "    \n",
    "parseString base10Integer' mempty \"-123abc\""
   ]
  },
  {
   "cell_type": "markdown",
   "metadata": {},
   "source": [
    "4. Write a parser for US/Canada phone numbers with varying formats:"
   ]
  },
  {
   "cell_type": "code",
   "execution_count": 41,
   "metadata": {},
   "outputs": [
    {
     "data": {
      "text/plain": [
       "Success (PhoneNumber 123 456 7890)"
      ]
     },
     "metadata": {},
     "output_type": "display_data"
    },
    {
     "data": {
      "text/plain": [
       "Success (PhoneNumber 123 456 7890)"
      ]
     },
     "metadata": {},
     "output_type": "display_data"
    },
    {
     "data": {
      "text/plain": [
       "Success (PhoneNumber 123 456 7890)"
      ]
     },
     "metadata": {},
     "output_type": "display_data"
    },
    {
     "data": {
      "text/plain": [
       "Success (PhoneNumber 123 456 7890)"
      ]
     },
     "metadata": {},
     "output_type": "display_data"
    }
   ],
   "source": [
    "type NumberingPlanArea = Int\n",
    "type Exchange = Int\n",
    "type LineNumber = Int\n",
    "\n",
    "data PhoneNumber = PhoneNumber NumberingPlanArea Exchange LineNumber deriving (Eq, Show)\n",
    "\n",
    "parsePhone :: Parser PhoneNumber\n",
    "parsePhone = do\n",
    "  _ <- optional $ string \"1-\"\n",
    "  a <- count 3 digit <|> char '(' *> count 3 digit <* char ')'\n",
    "  _ <- optional $ oneOf [' ', '-']\n",
    "  b <- count 3 digit\n",
    "  _ <- optional $ oneOf [' ', '-']\n",
    "  c <- count 4 digit\n",
    "  pure $ PhoneNumber (read a) (read b) (read c)\n",
    "\n",
    "parseString parsePhone mempty \"123-456-7890\"\n",
    "parseString parsePhone mempty \"1234567890\"\n",
    "parseString parsePhone mempty \"(123) 456-7890\"\n",
    "parseString parsePhone mempty \"1-123-456-7890\""
   ]
  },
  {
   "cell_type": "markdown",
   "metadata": {},
   "source": [
    "5. Write a parser for a log file format, and sum the time spent in each activity. Additionally, provide an alternative aggregation of the data that provides average time spent per activity per day. The format supports the use of comments, which your parser will have to ignore. The # characters followed by a date mark the beginning of a particular day."
   ]
  },
  {
   "cell_type": "code",
   "execution_count": 15,
   "metadata": {},
   "outputs": [
    {
     "data": {
      "text/plain": [
       "+++ OK, passed 100 tests."
      ]
     },
     "metadata": {},
     "output_type": "display_data"
    }
   ],
   "source": [
    "{-# LANGUAGE OverloadedStrings, QuasiQuotes #-}\n",
    "\n",
    "import Control.Monad           (void)\n",
    "import Text.Printf             (printf)\n",
    "import Text.Parser.Char        (char, anyChar, newline, space, spaces, string)\n",
    "import Text.Parser.Token       (decimal)\n",
    "import Test.QuickCheck         (Arbitrary, Property, arbitrary, quickCheck, (==>), generate, elements, listOf)\n",
    "\n",
    "type Year = Integer\n",
    "type Month = Integer\n",
    "type Day = Integer\n",
    "type Hour = Integer\n",
    "type Minute = Integer\n",
    "type Description = String\n",
    "\n",
    "data Date = Date Year Month Day  deriving (Eq, Ord) -- WWWW usare import Data.Date\n",
    "\n",
    "instance Show Date where\n",
    "  show (Date year month day) = printf \"%04d\" year ++ \"-\" ++ printf \"%02d\" month ++ \"-\" ++ printf \"%02d\" day\n",
    "\n",
    "instance Arbitrary Date where\n",
    "  arbitrary = Date <$> elements [2000..2020] <*> elements [1..12] <*> elements [1..30]\n",
    "\n",
    "\n",
    "data Time = Time Hour Minute deriving (Eq, Ord)\n",
    "\n",
    "instance Show Time where\n",
    "  show (Time hour min) = printf \"%02d\" hour ++ \":\" ++ printf \"%02d\" min\n",
    "  \n",
    "instance Arbitrary Time where\n",
    "  arbitrary = Time <$> elements [0..23] <*> elements [0..59]\n",
    "\n",
    "\n",
    "data Activity = Activity Time Description deriving (Eq)\n",
    "\n",
    "instance Show Activity where\n",
    "  show (Activity time desc) = show time ++ \" \" ++ desc\n",
    "\n",
    "instance Arbitrary Activity where\n",
    "  arbitrary = Activity <$> arbitrary <*> listOf (elements ['a' .. 'z'])\n",
    "\n",
    "\n",
    "data DailyLog = DailyLog Date [Activity] deriving (Eq)\n",
    "\n",
    "instance Show DailyLog where\n",
    "  show (DailyLog date activities) = unlines $ (\"# \" ++ show date) : map show activities\n",
    "\n",
    "instance Arbitrary DailyLog where\n",
    "  arbitrary = do\n",
    "    date <- arbitrary\n",
    "    activities <- arbitrary\n",
    "    pure $ DailyLog date [activities]\n",
    "    \n",
    "newtype Log = Log [DailyLog] deriving (Eq)\n",
    "\n",
    "instance Show Log where\n",
    "  show (Log dailies) = concatMap show dailies\n",
    "  \n",
    "instance Arbitrary Log where\n",
    "  arbitrary = do\n",
    "    daily <- arbitrary\n",
    "    pure $ Log [daily]\n",
    "\n",
    "\n",
    "skipComment :: Parser ()\n",
    "skipComment = char '-' *> char '-' *> skipRestOfLine\n",
    "\n",
    "skipRestOfLine :: Parser ()\n",
    "skipRestOfLine = void $ manyTill anyChar (void newline <|> eof)\n",
    "\n",
    "skipSpaceAndComments :: Parser ()\n",
    "skipSpaceAndComments = skipMany (skipComment <|> skipSome space)\n",
    "\n",
    "dateP :: Parser Date\n",
    "dateP = Date <$> (decimal <* char '-') <*> (decimal <* char '-') <*> decimal\n",
    "\n",
    "dateLineP :: Parser Date\n",
    "dateLineP = char '#' *> char ' ' *> dateP <* skipRestOfLine\n",
    "\n",
    "timeP :: Parser Time\n",
    "timeP = Time <$> (decimal <* char ':') <*> decimal\n",
    "\n",
    "descriptionP :: Parser Description\n",
    "descriptionP = manyTill anyChar (try skipComment <|> void newline <|> eof)\n",
    "\n",
    "activityP :: Parser Activity\n",
    "activityP = Activity <$> timeP <*> (char ' ' *> descriptionP)\n",
    "\n",
    "activitiesP :: Parser [Activity]\n",
    "activitiesP = some (skipSpaceAndComments *> activityP <* skipSpaceAndComments)\n",
    "\n",
    "dayP :: Parser DailyLog\n",
    "dayP = do\n",
    "  skipSpaceAndComments\n",
    "  date <- dateLineP\n",
    "  activities <- activitiesP\n",
    "  pure $ DailyLog date activities\n",
    "\n",
    "logP :: Parser Log\n",
    "logP = Log <$> some dayP\n",
    "\n",
    "maybeSuccess :: Result a -> Maybe a\n",
    "maybeSuccess (Success a) = Just a\n",
    "maybeSuccess _ = Nothing\n",
    "\n",
    "runLogParser :: String -> Maybe Log\n",
    "runLogParser = maybeSuccess . parseString logP mempty\n",
    "\n",
    "prop_correctParsing :: Log -> Bool\n",
    "prop_correctParsing x = runLogParser (show x) == Just x\n",
    "\n",
    "quickCheck prop_correctParsing"
   ]
  },
  {
   "cell_type": "markdown",
   "metadata": {},
   "source": [
    "6. Write a parser for IPv4 addresses:"
   ]
  },
  {
   "cell_type": "code",
   "execution_count": 13,
   "metadata": {},
   "outputs": [
    {
     "data": {
      "text/html": [
       "<style>/* Styles used for the Hoogle display in the pager */\n",
       ".hoogle-doc {\n",
       "display: block;\n",
       "padding-bottom: 1.3em;\n",
       "padding-left: 0.4em;\n",
       "}\n",
       ".hoogle-code {\n",
       "display: block;\n",
       "font-family: monospace;\n",
       "white-space: pre;\n",
       "}\n",
       ".hoogle-text {\n",
       "display: block;\n",
       "}\n",
       ".hoogle-name {\n",
       "color: green;\n",
       "font-weight: bold;\n",
       "}\n",
       ".hoogle-head {\n",
       "font-weight: bold;\n",
       "}\n",
       ".hoogle-sub {\n",
       "display: block;\n",
       "margin-left: 0.4em;\n",
       "}\n",
       ".hoogle-package {\n",
       "font-weight: bold;\n",
       "font-style: italic;\n",
       "}\n",
       ".hoogle-module {\n",
       "font-weight: bold;\n",
       "}\n",
       ".hoogle-class {\n",
       "font-weight: bold;\n",
       "}\n",
       ".get-type {\n",
       "color: green;\n",
       "font-weight: bold;\n",
       "font-family: monospace;\n",
       "display: block;\n",
       "white-space: pre-wrap;\n",
       "}\n",
       ".show-type {\n",
       "color: green;\n",
       "font-weight: bold;\n",
       "font-family: monospace;\n",
       "margin-left: 1em;\n",
       "}\n",
       ".mono {\n",
       "font-family: monospace;\n",
       "display: block;\n",
       "}\n",
       ".err-msg {\n",
       "color: red;\n",
       "font-style: italic;\n",
       "font-family: monospace;\n",
       "white-space: pre;\n",
       "display: block;\n",
       "}\n",
       "#unshowable {\n",
       "color: red;\n",
       "font-weight: bold;\n",
       "}\n",
       ".err-msg.in.collapse {\n",
       "padding-top: 0.7em;\n",
       "}\n",
       ".highlight-code {\n",
       "white-space: pre;\n",
       "font-family: monospace;\n",
       "}\n",
       ".suggestion-warning { \n",
       "font-weight: bold;\n",
       "color: rgb(200, 130, 0);\n",
       "}\n",
       ".suggestion-error { \n",
       "font-weight: bold;\n",
       "color: red;\n",
       "}\n",
       ".suggestion-name {\n",
       "font-weight: bold;\n",
       "}\n",
       "</style><div class=\"suggestion-name\" style=\"clear:both;\">Use newtype instead of data</div><div class=\"suggestion-row\" style=\"float: left;\"><div class=\"suggestion-warning\">Found:</div><div class=\"highlight-code\" id=\"haskell\">data IPAddress\n",
       "  = IPAddress Word32\n",
       "  deriving (Eq, Ord, Show)</div></div><div class=\"suggestion-row\" style=\"float: left;\"><div class=\"suggestion-warning\">Why Not:</div><div class=\"highlight-code\" id=\"haskell\">newtype IPAddress\n",
       "  = IPAddress Word32\n",
       "  deriving (Eq, Ord, Show)</div></div>"
      ],
      "text/plain": [
       "Line 4: Use newtype instead of data\n",
       "Found:\n",
       "data IPAddress\n",
       "  = IPAddress Word32\n",
       "  deriving (Eq, Ord, Show)\n",
       "Why not:\n",
       "newtype IPAddress\n",
       "  = IPAddress Word32\n",
       "  deriving (Eq, Ord, Show)"
      ]
     },
     "metadata": {},
     "output_type": "display_data"
    },
    {
     "data": {
      "text/plain": [
       "Failure (ErrInfo {_errDoc = \u001b[1m(interactive)\u001b[0m:\u001b[1m1\u001b[0m:\u001b[1m11\u001b[0m: \u001b[91merror\u001b[0m: expected: digit\n",
       "172.16.257.1\u001b[1m\u001b[94m<EOF>\u001b[0;1m\u001b[0m \n",
       "          \u001b[92m^\u001b[0m       , _errDeltas = [Columns 10 10]})"
      ]
     },
     "metadata": {},
     "output_type": "display_data"
    },
    {
     "data": {
      "text/plain": [
       "Success (IPAddress 3430416399)"
      ]
     },
     "metadata": {},
     "output_type": "display_data"
    }
   ],
   "source": [
    "import Data.Word\n",
    "import Control.Monad (guard)\n",
    "\n",
    "data IPAddress = IPAddress Word32 deriving (Eq, Ord, Show)\n",
    "\n",
    "ipv4P :: Parser IPAddress\n",
    "ipv4P = do\n",
    "  x4 <- octetP\n",
    "  [x3, x2, x1] <- count 3 (char '.' *> octetP)\n",
    "  pure $ IPAddress $ x4 * 256^3 + x3 * 256^2 + x2 * 256 + x1\n",
    "\n",
    "octetP :: Num a => Parser a\n",
    "octetP = do\n",
    "  oct <- decimal\n",
    "  guard $ (oct >= 0) && (oct <= 255)\n",
    "  pure $ fromIntegral oct\n",
    "\n",
    "print $ parseString ipv4P mempty \"172.16.257.1\"\n",
    "print $ parseString ipv4P mempty \"204.120.0.15\""
   ]
  },
  {
   "cell_type": "markdown",
   "metadata": {},
   "source": [
    "7. Same as before, but IPv6:"
   ]
  },
  {
   "cell_type": "code",
   "execution_count": 9,
   "metadata": {},
   "outputs": [
    {
     "data": {
      "text/plain": [
       "Failure (ErrInfo {_errDoc = \u001b[1m(interactive)\u001b[0m:\u001b[1m1\u001b[0m:\u001b[1m1\u001b[0m: \u001b[91merror\u001b[0m: unspecified\n",
       "    error\n",
       "0:0:0:0:0:ffff:ac10:fe01\u001b[1m\u001b[94m<EOF>\u001b[0;1m\u001b[0m \n",
       "\u001b[92m^\u001b[0m                             , _errDeltas = [Columns 0 0]})"
      ]
     },
     "metadata": {},
     "output_type": "display_data"
    },
    {
     "data": {
      "text/plain": [
       "Failure (ErrInfo {_errDoc = \u001b[1m(interactive)\u001b[0m:\u001b[1m1\u001b[0m:\u001b[1m1\u001b[0m: \u001b[91merror\u001b[0m: unspecified\n",
       "    error\n",
       "0:0:0:0:0:ffff:cc78:f\u001b[1m\u001b[94m<EOF>\u001b[0;1m\u001b[0m \n",
       "\u001b[92m^\u001b[0m                          , _errDeltas = [Columns 0 0]})"
      ]
     },
     "metadata": {},
     "output_type": "display_data"
    },
    {
     "data": {
      "text/plain": [
       "Failure (ErrInfo {_errDoc = \u001b[1m(interactive)\u001b[0m:\u001b[1m1\u001b[0m:\u001b[1m1\u001b[0m: \u001b[91merror\u001b[0m: unspecified\n",
       "    error\n",
       "FE80:0000:0000:0000:0202:B3FF:FE1E:8329\u001b[1m\u001b[94m<EOF>\u001b[0;1m\u001b[0m \n",
       "\u001b[92m^\u001b[0m                                            , _errDeltas = [Columns 0 0]})"
      ]
     },
     "metadata": {},
     "output_type": "display_data"
    },
    {
     "data": {
      "text/plain": [
       "Success (IPAddress6 2306139568115548160 2260596444381562)"
      ]
     },
     "metadata": {},
     "output_type": "display_data"
    }
   ],
   "source": [
    "import Data.Word\n",
    "import Data.List.Split (splitOn)\n",
    "import Data.Bits       (shiftL)\n",
    "import Numeric         (readHex)\n",
    "\n",
    "data IPAddress6 = IPAddress6 Word64 Word64 deriving (Eq, Ord, Show)\n",
    "\n",
    "ipv6P :: Parser IPAddress6\n",
    "ipv6P = try ipV6FullP <|> ipV6AbbrP \n",
    "\n",
    "ipV6FullP :: Parser IPAddress6\n",
    "ipV6FullP = toIPAddress6 <$> some hexDigit `sepBy` colon\n",
    "\n",
    "ipV6AbbrP :: Parser IPAddress6\n",
    "ipV6AbbrP = do\n",
    "  before <- manyTill ipv6DigitP $ try $ string \"::\"\n",
    "  after <- many ipv6DigitP\n",
    "  let bs = splitOn \":\" before\n",
    "  let as = splitOn \":\" after\n",
    "  return $ toIPAddress6 $ bs ++ replicate (8 - length bs - length as) \"0\" ++ as\n",
    "\n",
    "ipv6DigitP :: Parser Char\n",
    "ipv6DigitP = oneOf ['a'..'f'] <|> oneOf ['A'..'F'] <|> digit <|> char ':'\n",
    "\n",
    "toIPAddress6 :: [String] -> IPAddress6\n",
    "toIPAddress6 xs = let\n",
    "    [x8, x7, x6, x5, x4, x3, x2, x1] = xs\n",
    "  in\n",
    "    IPAddress6 (toWord64 [x8, x7, x6, x5]) (toWord64 [x4, x3, x2, x1])\n",
    "\n",
    "toWord64 :: [String] -> Word64\n",
    "toWord64 xs  = let\n",
    "    [x4, x3, x2, x1] = fmap (fromIntegral . fst) $ xs >>= readHex\n",
    "  in\n",
    "    sum [shiftL x4 48, shiftL x3 32, shiftL x2 16, shiftL x1 0]\n",
    "\n",
    "print $ parseString ipv6P mempty \"0:0:0:0:0:ffff:ac10:fe01\"\n",
    "print $ parseString ipv6P mempty \"0:0:0:0:0:ffff:cc78:f\"\n",
    "print $ parseString ipv6P mempty \"FE80:0000:0000:0000:0202:B3FF:FE1E:8329\"\n",
    "print $ parseString ipv6P mempty \"2001:DB8::8:800:200C:417A\""
   ]
  },
  {
   "cell_type": "markdown",
   "metadata": {},
   "source": [
    "8. Remove the derived `Show` instances from the `IPAddress`/`IPAddress6` types, and write your own `Show` instance for each type that renders in the typical textual format appropriate to each."
   ]
  },
  {
   "cell_type": "code",
   "execution_count": 157,
   "metadata": {},
   "outputs": [
    {
     "data": {
      "text/html": [
       "<style>/* Styles used for the Hoogle display in the pager */\n",
       ".hoogle-doc {\n",
       "display: block;\n",
       "padding-bottom: 1.3em;\n",
       "padding-left: 0.4em;\n",
       "}\n",
       ".hoogle-code {\n",
       "display: block;\n",
       "font-family: monospace;\n",
       "white-space: pre;\n",
       "}\n",
       ".hoogle-text {\n",
       "display: block;\n",
       "}\n",
       ".hoogle-name {\n",
       "color: green;\n",
       "font-weight: bold;\n",
       "}\n",
       ".hoogle-head {\n",
       "font-weight: bold;\n",
       "}\n",
       ".hoogle-sub {\n",
       "display: block;\n",
       "margin-left: 0.4em;\n",
       "}\n",
       ".hoogle-package {\n",
       "font-weight: bold;\n",
       "font-style: italic;\n",
       "}\n",
       ".hoogle-module {\n",
       "font-weight: bold;\n",
       "}\n",
       ".hoogle-class {\n",
       "font-weight: bold;\n",
       "}\n",
       ".get-type {\n",
       "color: green;\n",
       "font-weight: bold;\n",
       "font-family: monospace;\n",
       "display: block;\n",
       "white-space: pre-wrap;\n",
       "}\n",
       ".show-type {\n",
       "color: green;\n",
       "font-weight: bold;\n",
       "font-family: monospace;\n",
       "margin-left: 1em;\n",
       "}\n",
       ".mono {\n",
       "font-family: monospace;\n",
       "display: block;\n",
       "}\n",
       ".err-msg {\n",
       "color: red;\n",
       "font-style: italic;\n",
       "font-family: monospace;\n",
       "white-space: pre;\n",
       "display: block;\n",
       "}\n",
       "#unshowable {\n",
       "color: red;\n",
       "font-weight: bold;\n",
       "}\n",
       ".err-msg.in.collapse {\n",
       "padding-top: 0.7em;\n",
       "}\n",
       ".highlight-code {\n",
       "white-space: pre;\n",
       "font-family: monospace;\n",
       "}\n",
       ".suggestion-warning { \n",
       "font-weight: bold;\n",
       "color: rgb(200, 130, 0);\n",
       "}\n",
       ".suggestion-error { \n",
       "font-weight: bold;\n",
       "color: red;\n",
       "}\n",
       ".suggestion-name {\n",
       "font-weight: bold;\n",
       "}\n",
       "</style><span class='get-type'>showHex :: forall a. (Integral a, Show a) => a -> ShowS</span>"
      ],
      "text/plain": [
       "showHex :: forall a. (Integral a, Show a) => a -> ShowS"
      ]
     },
     "metadata": {},
     "output_type": "display_data"
    },
    {
     "data": {
      "text/plain": [
       "Success 172.16.254.1"
      ]
     },
     "metadata": {},
     "output_type": "display_data"
    },
    {
     "data": {
      "text/plain": [
       "Success 2001:db8:0:0:8:800:200c:417a"
      ]
     },
     "metadata": {},
     "output_type": "display_data"
    }
   ],
   "source": [
    "import Data.List  (intersperse, intercalate)\n",
    "import Numeric    (showHex)\n",
    "import Data.Bits  (shiftR, (.&.))\n",
    "\n",
    "instance Show IPAddress where\n",
    "  show (IPAddress w) = intercalate \".\" $ fmap show\n",
    "    [ shiftR x 24 .&. 0xff\n",
    "    , shiftR x 16 .&. 0xff\n",
    "    , shiftR x  8 .&. 0xff\n",
    "    ,        x    .&. 0xff\n",
    "    ]\n",
    "      where\n",
    "        x = fromIntegral w\n",
    "\n",
    "instance Show IPAddress6 where\n",
    "  show (IPAddress6 hi lo) = (foldr ($) \"\" . intersperse (\":\" ++) . fmap showHex) $ quads hi ++ quads lo\n",
    "    where \n",
    "      quads w =\n",
    "        let\n",
    "          x = fromIntegral w\n",
    "        in\n",
    "          [ shiftR x 48 .&. 0xffff\n",
    "          , shiftR x 32 .&. 0xffff\n",
    "          , shiftR x 16 .&. 0xffff\n",
    "          ,        x    .&. 0xffff\n",
    "          ]\n",
    "\n",
    "print $ parseString ipv4P mempty \"172.16.254.1\"\n",
    "print $ parseString ipv6P mempty \"2001:DB8::8:800:200C:417A\""
   ]
  },
  {
   "cell_type": "markdown",
   "metadata": {},
   "source": [
    "9. Write a function that converts between your types for `IPAddress` and `IPAddress6`."
   ]
  },
  {
   "cell_type": "code",
   "execution_count": 84,
   "metadata": {},
   "outputs": [],
   "source": [
    "ipv4ToIpv6 :: IPAddress -> IPAddress6\n",
    "ipv4ToIpv6 (IPAddress w32) = IPAddress6 0 (fromIntegral w32)"
   ]
  },
  {
   "cell_type": "markdown",
   "metadata": {},
   "source": [
    "10. Write a parser for the DOT language that GraphViz uses to express graphs in plain text"
   ]
  },
  {
   "cell_type": "code",
   "execution_count": 27,
   "metadata": {},
   "outputs": [
    {
     "data": {
      "text/plain": [
       "DotGraph {strictGraph = False, directedGraph = True, graphID = Just (Str \"sm0\"), graphStatements = DotStmts {attrStmts = [], subGraphs = [], nodeStmts = [DotNode {nodeID = \"A\", nodeAttributes = []},DotNode {nodeID = \"B\", nodeAttributes = []}], edgeStmts = [DotEdge {fromNode = \"A\", toNode = \"B\", edgeAttributes = []}]}}"
      ]
     },
     "metadata": {},
     "output_type": "display_data"
    }
   ],
   "source": [
    "{-# LANGUAGE OverloadedStrings #-}\n",
    "{-# LANGUAGE QuasiQuotes #-} \n",
    "\n",
    "import Data.GraphViz as DG\n",
    "import Data.Text.Lazy as T\n",
    "import Text.RawString.QQ\n",
    "\n",
    "type DG = DG.DotGraph String\n",
    "\n",
    "c1 :: T.Text\n",
    "c1 = [r|\n",
    "digraph \"sm0\" {\n",
    "  A\n",
    "  B\n",
    "  A -> B\n",
    "}\n",
    "|]\n",
    "\n",
    "print (DG.parseDotGraph c1 :: DG)"
   ]
  },
  {
   "cell_type": "markdown",
   "metadata": {},
   "source": [
    "## 24.12 Definitions\n",
    "1. A *parser* parses.\n",
    "2. A *parser combinator* combines two or more parsers to produce a new parser (eg.: `<|>`, `>>`, `some`, `many`)\n",
    "3. *Marshalling/unmarshalling*: cf. serialization and deserialization.\n",
    "4. A *tokenizer*, or *lexer*, converts text, usually a stream of characters, into meaningful symbols."
   ]
  }
 ],
 "metadata": {
  "kernelspec": {
   "display_name": "Haskell",
   "language": "haskell",
   "name": "haskell"
  },
  "language_info": {
   "codemirror_mode": "ihaskell",
   "file_extension": ".hs",
   "name": "haskell",
   "pygments_lexer": "Haskell",
   "version": "8.6.5"
  }
 },
 "nbformat": 4,
 "nbformat_minor": 4
}
