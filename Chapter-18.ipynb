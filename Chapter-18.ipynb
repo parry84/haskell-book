{
 "cells": [
  {
   "cell_type": "code",
   "execution_count": 16,
   "metadata": {},
   "outputs": [],
   "source": [
    ":opt no-lint"
   ]
  },
  {
   "cell_type": "code",
   "execution_count": 1,
   "metadata": {},
   "outputs": [],
   "source": [
    "import Test.QuickCheck\n",
    "import Test.QuickCheck.Checkers\n",
    "import Test.QuickCheck.Classes"
   ]
  },
  {
   "cell_type": "markdown",
   "metadata": {},
   "source": [
    "# 18 Monad\n",
    "## 18.1 Monad\n",
    "Used by current Haskell implementation for IO actions. They are applicative functors with particularities.\n",
    "## 18.2 Sorry—a monad is not a burrito\n",
    "In newer GHC versions, the type class definition has an `Applicative` constraints.\n",
    "Hence, `fmap` can be written using monadic operations:"
   ]
  },
  {
   "cell_type": "code",
   "execution_count": 3,
   "metadata": {},
   "outputs": [],
   "source": [
    "fmap f xs = xs >>= return . f"
   ]
  },
  {
   "cell_type": "markdown",
   "metadata": {},
   "source": [
    "### Core operations\n",
    "The Monad type class defines three core operations:\n",
    "* bind: `>>=`\n",
    "* next: `>>`\n",
    "* `return` (same as `pure`)\n",
    "You only need to define `>>=` for a minimally complete `Monad` instance.\n",
    "\n",
    "### The novel part of Monad\n",
    "`>>=` is similar to `<$>` and `<*>`. \n",
    "The difference is that `Monad` can alter the structure, while `Functor` and `Applicative` leave it untouched.\n",
    " `Monad`, in a sense, is a generalization of `concat`.\n",
    "Hence, we can define a `Monad` by implementing `join`.\n",
    "#### The answer is the exercise\n",
    "Write bind in terms of `fmap` and `join`."
   ]
  },
  {
   "cell_type": "code",
   "execution_count": 4,
   "metadata": {},
   "outputs": [],
   "source": [
    "import Control.Monad (join)\n",
    "\n",
    "bind :: Monad m => (a -> m b) -> m a -> m b\n",
    "bind f ma = join $ fmap f ma"
   ]
  },
  {
   "cell_type": "markdown",
   "metadata": {},
   "source": [
    "### What Monad is not\n",
    "`Monad` is an abstract concept. Try to understand it from the perspective of the `IO Monad` may lead to limited intuitions.\n",
    "\n",
    "A monad is not:\n",
    "* Impure: monadic functions are pure functions. `IO` is an abstract datatype that allows for impure actions and it has a `Monad` instance.\n",
    "* An embedded language for imperative programming. While monads are often used for sequencing actions, there are commutative monads that do not order actions.\n",
    "* A value: the type class describes a specific relationship between elements in a domain and defines some operations over them.\n",
    "4. About strictness: the monadic operations of bind and return are non-strict.\n",
    "Using monads also doesn’t require knowing math. Or category theory. It does not require mystical trips to the tops of mountains or starving oneself in a desert somewhere.\n",
    "\n",
    "### Monad also lifts!\n",
    "For backward compatibility reasons, the `Monad` class also includes a set of `lift` functions that are the same as the ones we already saw in `Applicative`.\n",
    "## 18.3 do syntax and monads\n",
    "`*>` is a sequencing operation equivalent to `>>` but defined with an `Applicative` constraints."
   ]
  },
  {
   "cell_type": "code",
   "execution_count": 5,
   "metadata": {},
   "outputs": [],
   "source": [
    "import Control.Applicative ((*>))\n",
    "\n",
    "sequencing :: IO ()\n",
    "sequencing = do\n",
    "  putStrLn \"blah\"\n",
    "  putStrLn \"another thing\""
   ]
  },
  {
   "cell_type": "markdown",
   "metadata": {},
   "source": [
    "is desugared into:"
   ]
  },
  {
   "cell_type": "code",
   "execution_count": 6,
   "metadata": {},
   "outputs": [],
   "source": [
    "sequencing'' :: IO ()\n",
    "sequencing'' =\n",
    "  putStrLn \"blah\" *>\n",
    "  putStrLn \"another thing\""
   ]
  },
  {
   "cell_type": "markdown",
   "metadata": {},
   "source": [
    "and"
   ]
  },
  {
   "cell_type": "code",
   "execution_count": 7,
   "metadata": {},
   "outputs": [],
   "source": [
    "binding :: IO ()\n",
    "binding = do\n",
    "  name <- getLine\n",
    "  putStrLn name"
   ]
  },
  {
   "cell_type": "markdown",
   "metadata": {},
   "source": [
    "is desugared into:"
   ]
  },
  {
   "cell_type": "code",
   "execution_count": 8,
   "metadata": {},
   "outputs": [],
   "source": [
    "binding' :: IO ()\n",
    "binding' =\n",
    "  getLine >>= putStrLn"
   ]
  },
  {
   "cell_type": "markdown",
   "metadata": {},
   "source": [
    "#### When fmap alone isn’t enough\n",
    "In order to merge `IO` effects is necessary to use a monadic join instead of a `fmap` (it is not able to operate on the structure in order to flatten it). Also for `IO`, monadic actions are still pure, and the sequencing operations are ways of\n",
    "nesting lambdas. `IO` allows for side effects, but since those effects are constrained within the `IO` type, all the rest of it is still a pure lambda calculus.\n",
    "## 18.4 Examples of Monad use\n",
    "### List\n",
    "The `Monad` instance of `[]` essentially apply a function and concatenate the results into a single list.\n",
    "### Maybe\n",
    "A sequence of `Maybe` `Monad` has a fail-fast semantic. The differences with `Applicative` instance are:\n",
    "1. With the `Applicative`, each Maybe computation fails or succeeds independently of one another. You’re lifting functions that are also `Just` or `Nothing` over `Maybe` values.\n",
    "2. With the `Monad`, computations contributing to the final result can choose to return `Nothing` based on previous computations.\n",
    "\n",
    "### Either\n",
    "The `Either` `Monad` short-circuits on the first `Left` value. It must because in the `Monad`, later values can depend on previous ones. So, there is no `Monad` for `Validation`.\n",
    "The `Applicative` apply for a type must not change behavior if derived from the `Monad` instance’s bind operation.\n",
    "To derive `ap` from `Monad` instance:"
   ]
  },
  {
   "cell_type": "code",
   "execution_count": 9,
   "metadata": {},
   "outputs": [],
   "source": [
    "ap :: (Monad m) => m (a -> b) -> m a -> m b\n",
    "ap m m' = do\n",
    "  x <- m\n",
    "  x' <- m'\n",
    "  return (x x')"
   ]
  },
  {
   "cell_type": "markdown",
   "metadata": {},
   "source": [
    "The derivation shows the `m` and `m'` extractions are independent, hence `Applicative` does not require the full monadic strength (which use use `m` into `m'`)\n",
    "\n",
    "\n",
    "### Short Exercise: Either Monad\n",
    "Implement the `Either` `Monad`:"
   ]
  },
  {
   "cell_type": "code",
   "execution_count": 10,
   "metadata": {},
   "outputs": [],
   "source": [
    "data Sum a b = First a | Second b deriving (Eq, Show)\n",
    "\n",
    "instance Functor (Sum a) where\n",
    "  fmap f (Second x) = Second $ f x\n",
    "\n",
    "instance Applicative (Sum a) where\n",
    "  pure = Second\n",
    "  (Second f) <*> (Second x) = Second $ f x\n",
    "  (First x)  <*> _          = First x\n",
    "  _          <*> (First x)  = First x\n",
    "\n",
    "instance Monad (Sum a) where\n",
    "  return = pure\n",
    "  (Second x) >>= f = f x\n",
    "  (First x)  >>= _ = First x"
   ]
  },
  {
   "cell_type": "markdown",
   "metadata": {},
   "source": [
    "## 18.5 Monad laws\n",
    "### Identity laws\n",
    "`Monad` has two identity laws:\n",
    "1. right identity\n",
    "`m >>= return = m`\n",
    "2. left identity\n",
    "`return x >>= f = f x`\n",
    "\n",
    "### Associativity\n",
    "`(m >>= f) >>= g=m >>= (\\x -> f x >>= g)`\n"
   ]
  },
  {
   "cell_type": "code",
   "execution_count": 11,
   "metadata": {},
   "outputs": [],
   "source": [
    "newtype Identity a = Identity a deriving (Eq, Ord, Show)\n",
    "\n",
    "instance Functor Identity where\n",
    "  fmap f (Identity x) = Identity $ f x\n",
    "\n",
    "instance Applicative Identity where\n",
    "  pure = Identity\n",
    "  (Identity f) <*> (Identity x) = Identity $ f x"
   ]
  },
  {
   "cell_type": "markdown",
   "metadata": {},
   "source": [
    "2. left identity:\n",
    "\n",
    "`return x >>= f = f x`"
   ]
  },
  {
   "cell_type": "markdown",
   "metadata": {},
   "source": [
    "### 18.6 Application and composition\n",
    "In order to compose monadic functions it is not possible to use `.`. Instead, we need the _Kleisli composition_ which is:\n",
    "\n",
    "`(>=>) :: Monad m => (a -> m b) -> (b -> m c) -> a -> m c`\n",
    "### 18.7 Chapter exercises\n",
    "Write `Monad` instances for the following types. Use the QuickCheck properties we showed you to validate your instances.\n",
    "1. Welcome to the `Nope Monad`, where nothing happens and nobody cares:"
   ]
  },
  {
   "cell_type": "code",
   "execution_count": 12,
   "metadata": {},
   "outputs": [
    {
     "data": {
      "text/plain": [
       "\n",
       "monad laws:\n",
       "  left  identity: +++ OK, passed 500 tests.\n",
       "  right identity: +++ OK, passed 500 tests.\n",
       "  associativity:  +++ OK, passed 500 tests.\n",
       "  pure:           +++ OK, passed 500 tests.\n",
       "  ap:             +++ OK, passed 500 tests."
      ]
     },
     "metadata": {},
     "output_type": "display_data"
    }
   ],
   "source": [
    "data Nope a = NopeDotJpg deriving (Eq, Show)\n",
    "\n",
    "instance Functor Nope where\n",
    "  fmap _ _ = NopeDotJpg\n",
    "\n",
    "instance Applicative Nope where\n",
    "  pure _ = NopeDotJpg\n",
    "  _ <*> _ = NopeDotJpg\n",
    "\n",
    "instance Monad Nope where\n",
    "  return = pure\n",
    "  _ >>= _ = NopeDotJpg\n",
    "\n",
    "instance Arbitrary a => Arbitrary (Nope a) where\n",
    "  arbitrary = pure NopeDotJpg\n",
    "\n",
    "instance Eq a => EqProp (Nope a) where\n",
    "  (=-=) = eq\n",
    "\n",
    "quickBatch $ monad NopeDotJpg"
   ]
  },
  {
   "cell_type": "markdown",
   "metadata": {},
   "source": [
    "2. "
   ]
  },
  {
   "cell_type": "code",
   "execution_count": 13,
   "metadata": {},
   "outputs": [
    {
     "data": {
      "text/plain": [
       "\n",
       "monad laws:\n",
       "  left  identity: +++ OK, passed 500 tests.\n",
       "  right identity: +++ OK, passed 500 tests.\n",
       "  associativity:  +++ OK, passed 500 tests.\n",
       "  pure:           +++ OK, passed 500 tests.\n",
       "  ap:             +++ OK, passed 500 tests."
      ]
     },
     "metadata": {},
     "output_type": "display_data"
    }
   ],
   "source": [
    "data BahEither b a = PLeft a | PRight b deriving (Eq, Show)\n",
    "\n",
    "instance Functor (BahEither b) where\n",
    "  fmap _ (PRight x) = PRight x\n",
    "  fmap f (PLeft x) = PLeft $ f x\n",
    "\n",
    "instance Applicative (BahEither b) where\n",
    "  pure = PLeft\n",
    "  (PLeft f) <*> (PLeft x) = PLeft $ f x\n",
    "  _ <*> (PRight x) = PRight x\n",
    "  (PRight x) <*> _ = PRight x\n",
    "\n",
    "instance Monad (BahEither b) where\n",
    "  return = pure\n",
    "  (PLeft x) >>= f = f x\n",
    "  (PRight x) >>= _ = PRight x\n",
    "\n",
    "instance (Arbitrary b, Arbitrary a) => Arbitrary (BahEither b a) where\n",
    "  arbitrary = do\n",
    "    f <- arbitrary\n",
    "    x <- arbitrary\n",
    "    elements [PLeft f, PRight x]\n",
    "      \n",
    "instance (Eq b, Eq a)  => EqProp (BahEither b a) where\n",
    "  (=-=) = eq\n",
    "\n",
    "x = (\"1\", \"2\", \"3\")\n",
    "quickBatch $ monad (PLeft x)"
   ]
  },
  {
   "cell_type": "markdown",
   "metadata": {},
   "source": [
    "3. Write a `Monad` instance for `Identity`:"
   ]
  },
  {
   "cell_type": "code",
   "execution_count": 20,
   "metadata": {},
   "outputs": [
    {
     "data": {
      "text/plain": [
       "\n",
       "monad laws:\n",
       "  left  identity: +++ OK, passed 500 tests.\n",
       "  right identity: +++ OK, passed 500 tests.\n",
       "  associativity:  +++ OK, passed 500 tests.\n",
       "  pure:           +++ OK, passed 500 tests.\n",
       "  ap:             +++ OK, passed 500 tests."
      ]
     },
     "metadata": {},
     "output_type": "display_data"
    }
   ],
   "source": [
    "newtype Identity a = Identity a deriving (Eq, Ord, Show)\n",
    "\n",
    "instance Functor Identity where\n",
    "  fmap f (Identity x) = Identity $ f x\n",
    "\n",
    "instance Applicative Identity where\n",
    "  pure = Identity\n",
    "  (Identity f) <*> (Identity x) = Identity $ f x\n",
    "\n",
    "instance Monad Identity where\n",
    "  return = pure\n",
    "  (Identity x) >>= f = f x\n",
    "  \n",
    "instance (Arbitrary a) => Arbitrary (Identity a) where\n",
    "  arbitrary = do\n",
    "    x <- arbitrary\n",
    "    pure $ Identity x\n",
    "      \n",
    "instance (Eq a) => EqProp (Identity a) where\n",
    "  (=-=) = eq\n",
    "\n",
    "x = (\"1\", \"2\", \"3\")\n",
    "quickBatch $ monad (Identity x)"
   ]
  },
  {
   "cell_type": "markdown",
   "metadata": {},
   "source": [
    "4. "
   ]
  },
  {
   "cell_type": "code",
   "execution_count": 21,
   "metadata": {},
   "outputs": [
    {
     "data": {
      "text/plain": [
       "\n",
       "monad laws:\n",
       "  left  identity: +++ OK, passed 500 tests.\n",
       "  right identity: +++ OK, passed 500 tests.\n",
       "  associativity:  +++ OK, passed 500 tests.\n",
       "  pure:           +++ OK, passed 500 tests.\n",
       "  ap:             +++ OK, passed 500 tests."
      ]
     },
     "metadata": {},
     "output_type": "display_data"
    }
   ],
   "source": [
    "data List a = Nil | Cons a (List a) deriving (Eq, Show)\n",
    "\n",
    "instance Functor List where\n",
    "  fmap _ Nil = Nil\n",
    "  fmap f (Cons x xs) = Cons (f x) (fmap f xs)\n",
    "\n",
    "instance Applicative List where\n",
    "  pure x = Cons x Nil\n",
    "  fs <*> xs = flatMap (<$> xs) fs\n",
    "\n",
    "instance Monad List where\n",
    "  return = pure\n",
    "  (>>=) = flip flatMap\n",
    "  \n",
    "append :: List a -> List a -> List a\n",
    "append Nil ys = ys\n",
    "append (Cons x xs) ys = Cons x $ xs `append` ys\n",
    "\n",
    "fold :: (a -> b -> b) -> b -> List a -> b\n",
    "fold _ b Nil = b\n",
    "fold f b (Cons h t) = f h (fold f b t)\n",
    "\n",
    "concat' :: List (List a) -> List a\n",
    "concat' = fold append Nil\n",
    "\n",
    "flatMap :: (a -> List b) -> List a -> List b\n",
    "flatMap f = concat' . fmap f \n",
    "\n",
    "instance (Arbitrary a) => Arbitrary (List a) where\n",
    "  arbitrary = do\n",
    "    x <- arbitrary\n",
    "    pure $ Cons x Nil\n",
    "      \n",
    "instance Eq a => EqProp (List a) where\n",
    "  xs =-= ys = xs' `eq` ys'\n",
    "    where\n",
    "      xs' = let l = xs in take' 100 l\n",
    "      ys' = let l = ys in take' 100 l\n",
    "      \n",
    "take' :: Int -> List a -> List a\n",
    "take' 0 _ = Nil\n",
    "take' _ Nil = Nil\n",
    "take' n (Cons x xs) = Cons x (take' (n - 1) xs)\n",
    "\n",
    "x = (\"1\", \"2\", \"3\")\n",
    "quickBatch $ monad (Cons x Nil)"
   ]
  },
  {
   "cell_type": "markdown",
   "metadata": {},
   "source": [
    "Write the following functions using the methods provided by `Monad` and `Functor`.\n",
    "\n",
    "1. "
   ]
  },
  {
   "cell_type": "code",
   "execution_count": 28,
   "metadata": {},
   "outputs": [],
   "source": [
    "import Control.Monad (join)\n",
    "\n",
    "j :: Monad m => m (m a) -> m a\n",
    "j = (>>= id)"
   ]
  },
  {
   "cell_type": "markdown",
   "metadata": {},
   "source": [
    "2. "
   ]
  },
  {
   "cell_type": "code",
   "execution_count": 27,
   "metadata": {},
   "outputs": [],
   "source": [
    "l1 :: Monad m => (a -> b) -> m a -> m b\n",
    "l1 = fmap"
   ]
  },
  {
   "cell_type": "markdown",
   "metadata": {},
   "source": [
    "3. "
   ]
  },
  {
   "cell_type": "code",
   "execution_count": 26,
   "metadata": {},
   "outputs": [],
   "source": [
    "import Control.Monad (liftM2)\n",
    "\n",
    "l2 :: Monad m => (a -> b -> c) -> m a -> m b -> m c\n",
    "l2 = liftM2"
   ]
  },
  {
   "cell_type": "markdown",
   "metadata": {},
   "source": [
    "4. "
   ]
  },
  {
   "cell_type": "code",
   "execution_count": 25,
   "metadata": {},
   "outputs": [],
   "source": [
    "import Control.Monad (ap)\n",
    "\n",
    "a :: Monad m => m a -> m (a -> b) -> m b\n",
    "a = flip ap"
   ]
  },
  {
   "cell_type": "markdown",
   "metadata": {},
   "source": [
    "5. You’ll need recursion for this one:"
   ]
  },
  {
   "cell_type": "code",
   "execution_count": 23,
   "metadata": {},
   "outputs": [],
   "source": [
    "meh :: Monad m => [a] -> (a -> m b) -> m [b]\n",
    "meh (x : xs) f = (:) <$> f x <*> meh xs f"
   ]
  },
  {
   "cell_type": "markdown",
   "metadata": {},
   "source": [
    "6. Hint: reuse `meh`:"
   ]
  },
  {
   "cell_type": "code",
   "execution_count": 24,
   "metadata": {},
   "outputs": [],
   "source": [
    "flipType :: Monad m => [m a] -> m [a]\n",
    "flipType = flip meh id"
   ]
  },
  {
   "cell_type": "markdown",
   "metadata": {},
   "source": [
    "## 18.8 Definitions\n",
    "1. `Monad` is a type class reifying an abstraction consisting in functorially applying a function that produces more structure itself and using `join` to reduce the nested structure.\n",
    "2. A _monadic function_ is one that generates more structure after having already been lifted over monadic structure.\n",
    "3. _Bind_: could mean binding a value to a variable but in the context of monads it means `>>=`."
   ]
  }
 ],
 "metadata": {
  "kernelspec": {
   "display_name": "Haskell",
   "language": "haskell",
   "name": "haskell"
  },
  "language_info": {
   "codemirror_mode": "ihaskell",
   "file_extension": ".hs",
   "name": "haskell",
   "pygments_lexer": "Haskell",
   "version": "8.6.5"
  }
 },
 "nbformat": 4,
 "nbformat_minor": 4
}
