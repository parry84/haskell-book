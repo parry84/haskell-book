{
 "cells": [
  {
   "cell_type": "code",
   "execution_count": 40,
   "metadata": {},
   "outputs": [],
   "source": [
    ":opt no-lint"
   ]
  },
  {
   "cell_type": "code",
   "execution_count": 41,
   "metadata": {},
   "outputs": [],
   "source": [
    "import Test.QuickCheck\n",
    "import Test.QuickCheck.Checkers\n",
    "import Test.QuickCheck.Classes"
   ]
  },
  {
   "cell_type": "markdown",
   "metadata": {},
   "source": [
    "# 17 Applicative\n",
    "## 17.1 Applicative\n",
    "Applicatives are monoidal functors. They allows for function application lifted over structure (like `Functor`), but the function is also embedded into a structure, hence the two structures must be combined.\n",
    "## 17.2 Defining Applicative\n",
    "An `Applicative` instance must also have a `Functor` instance.\n",
    "The `pure` function lifts something into functorial (applicative) structure.\n",
    "The `<*>` infix operator is similar to `fmap` but the functorial structure is also around the applied function.\n",
    "Moreover, the `Control.Applicative` library provides other convenient functions: `liftA` (basically the same as `fmap`), `liftA2`, and `liftA3`.\n",
    "## 17.3 Functor vs. Applicative\n",
    "Defining a `Functor` in terms of a provided `Applicative` instance:"
   ]
  },
  {
   "cell_type": "code",
   "execution_count": 42,
   "metadata": {},
   "outputs": [],
   "source": [
    "fmap' f x = pure f <*> x"
   ]
  },
  {
   "cell_type": "markdown",
   "metadata": {},
   "source": [
    "## 17.4 Applicative functors are monoidal functors\n",
    "Let's compare:"
   ]
  },
  {
   "cell_type": "code",
   "execution_count": 43,
   "metadata": {},
   "outputs": [
    {
     "data": {
      "text/html": [
       "<style>/* Styles used for the Hoogle display in the pager */\n",
       ".hoogle-doc {\n",
       "display: block;\n",
       "padding-bottom: 1.3em;\n",
       "padding-left: 0.4em;\n",
       "}\n",
       ".hoogle-code {\n",
       "display: block;\n",
       "font-family: monospace;\n",
       "white-space: pre;\n",
       "}\n",
       ".hoogle-text {\n",
       "display: block;\n",
       "}\n",
       ".hoogle-name {\n",
       "color: green;\n",
       "font-weight: bold;\n",
       "}\n",
       ".hoogle-head {\n",
       "font-weight: bold;\n",
       "}\n",
       ".hoogle-sub {\n",
       "display: block;\n",
       "margin-left: 0.4em;\n",
       "}\n",
       ".hoogle-package {\n",
       "font-weight: bold;\n",
       "font-style: italic;\n",
       "}\n",
       ".hoogle-module {\n",
       "font-weight: bold;\n",
       "}\n",
       ".hoogle-class {\n",
       "font-weight: bold;\n",
       "}\n",
       ".get-type {\n",
       "color: green;\n",
       "font-weight: bold;\n",
       "font-family: monospace;\n",
       "display: block;\n",
       "white-space: pre-wrap;\n",
       "}\n",
       ".show-type {\n",
       "color: green;\n",
       "font-weight: bold;\n",
       "font-family: monospace;\n",
       "margin-left: 1em;\n",
       "}\n",
       ".mono {\n",
       "font-family: monospace;\n",
       "display: block;\n",
       "}\n",
       ".err-msg {\n",
       "color: red;\n",
       "font-style: italic;\n",
       "font-family: monospace;\n",
       "white-space: pre;\n",
       "display: block;\n",
       "}\n",
       "#unshowable {\n",
       "color: red;\n",
       "font-weight: bold;\n",
       "}\n",
       ".err-msg.in.collapse {\n",
       "padding-top: 0.7em;\n",
       "}\n",
       ".highlight-code {\n",
       "white-space: pre;\n",
       "font-family: monospace;\n",
       "}\n",
       ".suggestion-warning { \n",
       "font-weight: bold;\n",
       "color: rgb(200, 130, 0);\n",
       "}\n",
       ".suggestion-error { \n",
       "font-weight: bold;\n",
       "color: red;\n",
       "}\n",
       ".suggestion-name {\n",
       "font-weight: bold;\n",
       "}\n",
       "</style><span class='get-type'>($) :: forall a b. (a -> b) -> a -> b</span>"
      ],
      "text/plain": [
       "($) :: forall a b. (a -> b) -> a -> b"
      ]
     },
     "metadata": {},
     "output_type": "display_data"
    },
    {
     "data": {
      "text/html": [
       "<style>/* Styles used for the Hoogle display in the pager */\n",
       ".hoogle-doc {\n",
       "display: block;\n",
       "padding-bottom: 1.3em;\n",
       "padding-left: 0.4em;\n",
       "}\n",
       ".hoogle-code {\n",
       "display: block;\n",
       "font-family: monospace;\n",
       "white-space: pre;\n",
       "}\n",
       ".hoogle-text {\n",
       "display: block;\n",
       "}\n",
       ".hoogle-name {\n",
       "color: green;\n",
       "font-weight: bold;\n",
       "}\n",
       ".hoogle-head {\n",
       "font-weight: bold;\n",
       "}\n",
       ".hoogle-sub {\n",
       "display: block;\n",
       "margin-left: 0.4em;\n",
       "}\n",
       ".hoogle-package {\n",
       "font-weight: bold;\n",
       "font-style: italic;\n",
       "}\n",
       ".hoogle-module {\n",
       "font-weight: bold;\n",
       "}\n",
       ".hoogle-class {\n",
       "font-weight: bold;\n",
       "}\n",
       ".get-type {\n",
       "color: green;\n",
       "font-weight: bold;\n",
       "font-family: monospace;\n",
       "display: block;\n",
       "white-space: pre-wrap;\n",
       "}\n",
       ".show-type {\n",
       "color: green;\n",
       "font-weight: bold;\n",
       "font-family: monospace;\n",
       "margin-left: 1em;\n",
       "}\n",
       ".mono {\n",
       "font-family: monospace;\n",
       "display: block;\n",
       "}\n",
       ".err-msg {\n",
       "color: red;\n",
       "font-style: italic;\n",
       "font-family: monospace;\n",
       "white-space: pre;\n",
       "display: block;\n",
       "}\n",
       "#unshowable {\n",
       "color: red;\n",
       "font-weight: bold;\n",
       "}\n",
       ".err-msg.in.collapse {\n",
       "padding-top: 0.7em;\n",
       "}\n",
       ".highlight-code {\n",
       "white-space: pre;\n",
       "font-family: monospace;\n",
       "}\n",
       ".suggestion-warning { \n",
       "font-weight: bold;\n",
       "color: rgb(200, 130, 0);\n",
       "}\n",
       ".suggestion-error { \n",
       "font-weight: bold;\n",
       "color: red;\n",
       "}\n",
       ".suggestion-name {\n",
       "font-weight: bold;\n",
       "}\n",
       "</style><span class='get-type'>(<$>) :: forall (f :: * -> *) a b. Functor f => (a -> b) -> f a -> f b</span>"
      ],
      "text/plain": [
       "(<$>) :: forall (f :: * -> *) a b. Functor f => (a -> b) -> f a -> f b"
      ]
     },
     "metadata": {},
     "output_type": "display_data"
    },
    {
     "data": {
      "text/html": [
       "<style>/* Styles used for the Hoogle display in the pager */\n",
       ".hoogle-doc {\n",
       "display: block;\n",
       "padding-bottom: 1.3em;\n",
       "padding-left: 0.4em;\n",
       "}\n",
       ".hoogle-code {\n",
       "display: block;\n",
       "font-family: monospace;\n",
       "white-space: pre;\n",
       "}\n",
       ".hoogle-text {\n",
       "display: block;\n",
       "}\n",
       ".hoogle-name {\n",
       "color: green;\n",
       "font-weight: bold;\n",
       "}\n",
       ".hoogle-head {\n",
       "font-weight: bold;\n",
       "}\n",
       ".hoogle-sub {\n",
       "display: block;\n",
       "margin-left: 0.4em;\n",
       "}\n",
       ".hoogle-package {\n",
       "font-weight: bold;\n",
       "font-style: italic;\n",
       "}\n",
       ".hoogle-module {\n",
       "font-weight: bold;\n",
       "}\n",
       ".hoogle-class {\n",
       "font-weight: bold;\n",
       "}\n",
       ".get-type {\n",
       "color: green;\n",
       "font-weight: bold;\n",
       "font-family: monospace;\n",
       "display: block;\n",
       "white-space: pre-wrap;\n",
       "}\n",
       ".show-type {\n",
       "color: green;\n",
       "font-weight: bold;\n",
       "font-family: monospace;\n",
       "margin-left: 1em;\n",
       "}\n",
       ".mono {\n",
       "font-family: monospace;\n",
       "display: block;\n",
       "}\n",
       ".err-msg {\n",
       "color: red;\n",
       "font-style: italic;\n",
       "font-family: monospace;\n",
       "white-space: pre;\n",
       "display: block;\n",
       "}\n",
       "#unshowable {\n",
       "color: red;\n",
       "font-weight: bold;\n",
       "}\n",
       ".err-msg.in.collapse {\n",
       "padding-top: 0.7em;\n",
       "}\n",
       ".highlight-code {\n",
       "white-space: pre;\n",
       "font-family: monospace;\n",
       "}\n",
       ".suggestion-warning { \n",
       "font-weight: bold;\n",
       "color: rgb(200, 130, 0);\n",
       "}\n",
       ".suggestion-error { \n",
       "font-weight: bold;\n",
       "color: red;\n",
       "}\n",
       ".suggestion-name {\n",
       "font-weight: bold;\n",
       "}\n",
       "</style><span class='get-type'>(<*>) :: forall (f :: * -> *) a b. Applicative f => f (a -> b) -> f a -> f b</span>"
      ],
      "text/plain": [
       "(<*>) :: forall (f :: * -> *) a b. Applicative f => f (a -> b) -> f a -> f b"
      ]
     },
     "metadata": {},
     "output_type": "display_data"
    },
    {
     "data": {
      "text/html": [
       "<style>/* Styles used for the Hoogle display in the pager */\n",
       ".hoogle-doc {\n",
       "display: block;\n",
       "padding-bottom: 1.3em;\n",
       "padding-left: 0.4em;\n",
       "}\n",
       ".hoogle-code {\n",
       "display: block;\n",
       "font-family: monospace;\n",
       "white-space: pre;\n",
       "}\n",
       ".hoogle-text {\n",
       "display: block;\n",
       "}\n",
       ".hoogle-name {\n",
       "color: green;\n",
       "font-weight: bold;\n",
       "}\n",
       ".hoogle-head {\n",
       "font-weight: bold;\n",
       "}\n",
       ".hoogle-sub {\n",
       "display: block;\n",
       "margin-left: 0.4em;\n",
       "}\n",
       ".hoogle-package {\n",
       "font-weight: bold;\n",
       "font-style: italic;\n",
       "}\n",
       ".hoogle-module {\n",
       "font-weight: bold;\n",
       "}\n",
       ".hoogle-class {\n",
       "font-weight: bold;\n",
       "}\n",
       ".get-type {\n",
       "color: green;\n",
       "font-weight: bold;\n",
       "font-family: monospace;\n",
       "display: block;\n",
       "white-space: pre-wrap;\n",
       "}\n",
       ".show-type {\n",
       "color: green;\n",
       "font-weight: bold;\n",
       "font-family: monospace;\n",
       "margin-left: 1em;\n",
       "}\n",
       ".mono {\n",
       "font-family: monospace;\n",
       "display: block;\n",
       "}\n",
       ".err-msg {\n",
       "color: red;\n",
       "font-style: italic;\n",
       "font-family: monospace;\n",
       "white-space: pre;\n",
       "display: block;\n",
       "}\n",
       "#unshowable {\n",
       "color: red;\n",
       "font-weight: bold;\n",
       "}\n",
       ".err-msg.in.collapse {\n",
       "padding-top: 0.7em;\n",
       "}\n",
       ".highlight-code {\n",
       "white-space: pre;\n",
       "font-family: monospace;\n",
       "}\n",
       ".suggestion-warning { \n",
       "font-weight: bold;\n",
       "color: rgb(200, 130, 0);\n",
       "}\n",
       ".suggestion-error { \n",
       "font-weight: bold;\n",
       "color: red;\n",
       "}\n",
       ".suggestion-name {\n",
       "font-weight: bold;\n",
       "}\n",
       "</style><span class='get-type'>mappend :: forall a. Monoid a => a -> a -> a</span>"
      ],
      "text/plain": [
       "mappend :: forall a. Monoid a => a -> a -> a"
      ]
     },
     "metadata": {},
     "output_type": "display_data"
    }
   ],
   "source": [
    ":t ($)\n",
    ":t (<$>)\n",
    ":t (<*>)\n",
    ":t mappend"
   ]
  },
  {
   "cell_type": "markdown",
   "metadata": {},
   "source": [
    "When `f` is a type with a `Monoid` instance, we have a `Monoid` for our structure and function application for our values.\n",
    "Example:"
   ]
  },
  {
   "cell_type": "code",
   "execution_count": 44,
   "metadata": {},
   "outputs": [
    {
     "data": {
      "text/plain": [
       "(\"Woo Hoo!\",1)"
      ]
     },
     "metadata": {},
     "output_type": "display_data"
    }
   ],
   "source": [
    "(\"Woo\", (+1)) <*> (\" Hoo!\", 0)"
   ]
  },
  {
   "cell_type": "markdown",
   "metadata": {},
   "source": [
    "the monoidal bit may not be easily recognizable as the canonical `mappend` of that type, because some types can have multiple monoids.\n",
    "## 17.5 Applicative in use\n",
    "The `[]` instance behaves as follow:\n",
    "* application: each function of the left list is applied to each element of the right list\n",
    "* structure: all the resulting list are concatenated using the `Monoid` instance of `[]`\n",
    "For `Maybe` instance compare `Just f <*> Just a = Just (f a)` with `mappend (Just a) (Just a') = Just (mappend a a')`\n",
    "#### Exercises: Lookups\n",
    "In the following exercises, you will need to use the given terms to make the expressions type check:\n",
    "1. `pure`\n",
    "2. `(<$>)`\n",
    "3. `(<*>)`\n",
    "\n",
    "Make the following expressions type check:\n",
    "1. "
   ]
  },
  {
   "cell_type": "code",
   "execution_count": 45,
   "metadata": {},
   "outputs": [],
   "source": [
    "added :: Maybe Integer\n",
    "added = (+3) <$> (lookup 3 $ zip [1, 2, 3] [4, 5, 6])"
   ]
  },
  {
   "cell_type": "markdown",
   "metadata": {},
   "source": [
    "2. "
   ]
  },
  {
   "cell_type": "code",
   "execution_count": 46,
   "metadata": {},
   "outputs": [],
   "source": [
    "y :: Maybe Integer\n",
    "y = lookup 3 $ zip [1, 2, 3] [4, 5, 6]\n",
    "\n",
    "z :: Maybe Integer\n",
    "z = lookup 2 $ zip [1, 2, 3] [4, 5, 6]\n",
    "\n",
    "tupled :: Maybe (Integer, Integer)\n",
    "tupled = (,) <$> y <*> z"
   ]
  },
  {
   "cell_type": "markdown",
   "metadata": {},
   "source": [
    "3. "
   ]
  },
  {
   "cell_type": "code",
   "execution_count": 47,
   "metadata": {},
   "outputs": [],
   "source": [
    "import Data.List (elemIndex)\n",
    "\n",
    "x :: Maybe Int\n",
    "x = elemIndex 3 [1, 2, 3, 4, 5]\n",
    "\n",
    "y :: Maybe Int\n",
    "y = elemIndex 4 [1, 2, 3, 4, 5]\n",
    "\n",
    "max' :: Int -> Int -> Int\n",
    "max' = max\n",
    "\n",
    "maxed :: Maybe Int\n",
    "maxed = max' <$> x <*> y"
   ]
  },
  {
   "cell_type": "markdown",
   "metadata": {},
   "source": [
    "4. "
   ]
  },
  {
   "cell_type": "code",
   "execution_count": 48,
   "metadata": {},
   "outputs": [],
   "source": [
    "xs = [1, 2, 3]\n",
    "ys = [4, 5, 6]\n",
    "\n",
    "x :: Maybe Integer\n",
    "x = lookup 3 $ zip xs ys\n",
    "\n",
    "y :: Maybe Integer\n",
    "y = lookup 2 $ zip xs ys\n",
    "\n",
    "summed :: Maybe Integer\n",
    "summed = sum <$> ((,) <$> x <*> y)"
   ]
  },
  {
   "cell_type": "markdown",
   "metadata": {},
   "source": [
    "### Identity\n",
    "The `Identity` type introduces structure without changing the semantics.\n",
    "#### Exercise: Identity instance\n",
    "Write an `Applicative` instance for `Identity`:"
   ]
  },
  {
   "cell_type": "code",
   "execution_count": 49,
   "metadata": {},
   "outputs": [],
   "source": [
    "newtype Identity a = Identity a deriving (Eq, Ord, Show)\n",
    "\n",
    "instance Functor Identity where\n",
    "  fmap f (Identity x) = Identity $ f x\n",
    "\n",
    "instance Applicative Identity where\n",
    "  pure = Identity\n",
    "  (Identity f) <*> (Identity x) = Identity $ f x"
   ]
  },
  {
   "cell_type": "markdown",
   "metadata": {},
   "source": [
    "### Constant\n",
    "It provides a strucure and also acts like the `const` function (remove function application)\n",
    "#### Exercise: Constant instance\n",
    "Write an `Applicative` instance for `Constant`:"
   ]
  },
  {
   "cell_type": "code",
   "execution_count": 50,
   "metadata": {},
   "outputs": [],
   "source": [
    "newtype Constant a b = Constant { getConstant :: a } deriving (Eq, Ord, Show)\n",
    "\n",
    "instance Functor (Constant a) where\n",
    "  fmap _ = Constant . getConstant \n",
    "\n",
    "instance Monoid a => Applicative (Constant a) where\n",
    "  pure _ = Constant mempty\n",
    "  (Constant _) <*> (Constant x) = Constant x"
   ]
  },
  {
   "cell_type": "markdown",
   "metadata": {},
   "source": [
    "### Maybe Applicative\n",
    "The `Maybe` applicative can be used to build a type that must be a `Just` only when all its parameters are `Just`.\n",
    "#### Exercise: Fixer upper\n",
    "Given the functions and values provided, use `<$>`, `<*>` and `pure` to fill in missing bits of the broken code below to make it work:\n",
    "1. "
   ]
  },
  {
   "cell_type": "code",
   "execution_count": 51,
   "metadata": {},
   "outputs": [
    {
     "data": {
      "text/plain": [
       "Just \"Hello\""
      ]
     },
     "metadata": {},
     "output_type": "display_data"
    }
   ],
   "source": [
    "const <$> Just \"Hello\" <*> pure \"World\""
   ]
  },
  {
   "cell_type": "markdown",
   "metadata": {},
   "source": [
    "2. "
   ]
  },
  {
   "cell_type": "code",
   "execution_count": 52,
   "metadata": {},
   "outputs": [
    {
     "data": {
      "text/plain": [
       "Just (90,10,\"Tierness\",[1,2,3])"
      ]
     },
     "metadata": {},
     "output_type": "display_data"
    }
   ],
   "source": [
    "(,,,) <$> Just 90 <*> Just 10 <*> Just \"Tierness\" <*> pure [1, 2, 3]"
   ]
  },
  {
   "cell_type": "markdown",
   "metadata": {},
   "source": [
    "## 17.6 Applicative laws\n",
    "1. Identity: `pure id <*> v = v`\n",
    "2. Composition: `pure (.) <*> u <*> v <*> w = u <*> (v <*> w)`\n",
    "3. Homomorphism (structure-preserving map between two algebraic structures): `pure f <*> pure x = pure (f x)`\n",
    "This law is enabled by the `Monoid` constraint. The general idea of the homomorphism law is that applying the function doesn’t change the structure around the values.\n",
    "4. Interchange: `u <*> pure y = pure ($ y) <*> u`\n",
    "\n",
    "## 17.7 You knew this was coming\n",
    "We can test the properties with `checkers` library:"
   ]
  },
  {
   "cell_type": "code",
   "execution_count": 53,
   "metadata": {},
   "outputs": [
    {
     "data": {
      "text/plain": [
       "\n",
       "applicative:\n",
       "  identity:     +++ OK, passed 500 tests.\n",
       "  composition:  +++ OK, passed 500 tests.\n",
       "  homomorphism: +++ OK, passed 500 tests.\n",
       "  interchange:  +++ OK, passed 500 tests.\n",
       "  functor:      +++ OK, passed 500 tests."
      ]
     },
     "metadata": {},
     "output_type": "display_data"
    }
   ],
   "source": [
    "xs = [(\"b\", \"w\", 1)]\n",
    "quickBatch $ applicative xs"
   ]
  },
  {
   "cell_type": "markdown",
   "metadata": {},
   "source": [
    "## 17.8 `ZipList` Monoid\n",
    "The default monoid of lists in the GHC `Prelude` is concatenation. An alternative monoid is `ZipList` that combines the values of the two lists as parallel sequences using a monoid provided by the values themselves.\n",
    "### Zero vs. Identity\n",
    "Implementation of `pure` must satisfy identity `mempty = pure mempty` into `Monoid` instance of `ZipList`.\n",
    "#### List Applicative exercise\n",
    "Implement `Applicative` for lists. Use the `checkers` library to validate the instance:"
   ]
  },
  {
   "cell_type": "code",
   "execution_count": 54,
   "metadata": {},
   "outputs": [
    {
     "data": {
      "text/plain": [
       "\n",
       "applicative:\n",
       "  identity:     +++ OK, passed 500 tests.\n",
       "  composition:  +++ OK, passed 500 tests.\n",
       "  homomorphism: +++ OK, passed 500 tests.\n",
       "  interchange:  +++ OK, passed 500 tests.\n",
       "  functor:      +++ OK, passed 500 tests."
      ]
     },
     "metadata": {},
     "output_type": "display_data"
    }
   ],
   "source": [
    "data List a = Nil | Cons a (List a) deriving (Eq, Show)\n",
    "\n",
    "instance Functor List where\n",
    "  fmap _ Nil = Nil\n",
    "  fmap f (Cons x xs) = Cons (f x) (fmap f xs)\n",
    "\n",
    "instance Applicative List where\n",
    "  pure = flip Cons Nil\n",
    "  fs <*> xs = flatMap (<$> xs) fs\n",
    "  -- below the previous implementation without flatMap\n",
    "  -- Nil <*> _ = Nil\n",
    "  -- (Cons f fs) <*> xs = append (f <$> xs) (fs <*> xs)\n",
    "  \n",
    "append :: List a -> List a -> List a\n",
    "append Nil ys = ys\n",
    "append (Cons x xs) ys = Cons x $ xs `append` ys\n",
    "\n",
    "fold :: (a -> b -> b) -> b -> List a -> b\n",
    "fold _ b Nil = b\n",
    "fold f b (Cons h t) = f h (fold f b t)\n",
    "\n",
    "concat' :: List (List a) -> List a\n",
    "concat' = fold append Nil\n",
    "\n",
    "-- write this one in terms of concat' and fmap\n",
    "flatMap :: (a -> List b) -> List a -> List b\n",
    "flatMap f  = concat' . fmap f \n",
    "\n",
    "instance Arbitrary a => Arbitrary (List a) where\n",
    "  arbitrary = do\n",
    "      x <- arbitrary\n",
    "      pure $ Cons x Nil\n",
    "      \n",
    "instance Eq a => EqProp (List a) where\n",
    "  xs =-= ys = xs' `eq` ys'\n",
    "    where\n",
    "      xs' = let l = xs in take' 100 l\n",
    "      ys' = let l = ys in take' 100 l\n",
    "\n",
    "take' :: Int -> List a -> List a\n",
    "take' 0 _ = Nil\n",
    "take' _ Nil = Nil\n",
    "take' n (Cons x xs) = Cons x (take' (n - 1) xs)\n",
    "\n",
    "x = (\"1\", \"2\", \"3\")\n",
    "quickBatch $ applicative (Cons x Nil)"
   ]
  },
  {
   "cell_type": "markdown",
   "metadata": {},
   "source": [
    "`Applicative`, unlike `Functor`, is not guaranteed to have a unique implementation for a given datatype.\n",
    "#### `ZipList` Applicative exercise\n",
    "Implement the `ZipList` Applicative. Use the `checkers` library to validate the instance."
   ]
  },
  {
   "cell_type": "code",
   "execution_count": 55,
   "metadata": {},
   "outputs": [
    {
     "data": {
      "text/plain": [
       "\n",
       "applicative:\n",
       "  identity:     +++ OK, passed 500 tests.\n",
       "  composition:  +++ OK, passed 500 tests.\n",
       "  homomorphism: +++ OK, passed 500 tests.\n",
       "  interchange:  +++ OK, passed 500 tests.\n",
       "  functor:      +++ OK, passed 500 tests."
      ]
     },
     "metadata": {},
     "output_type": "display_data"
    }
   ],
   "source": [
    "newtype ZipList' a = ZipList' (List a) deriving (Eq, Show)\n",
    "      \n",
    "instance Functor ZipList' where\n",
    "  fmap f (ZipList' xs) = ZipList' $ fmap f xs\n",
    "  \n",
    "instance Applicative ZipList' where\n",
    "  pure = ZipList' . pure\n",
    "  (ZipList' fs) <*> (ZipList' xs) = ZipList' $ zipList fs xs\n",
    "    where\n",
    "      zipList _   Nil = Nil\n",
    "      zipList Nil _   = Nil\n",
    "      zipList (Cons f Nil) (Cons x xs)  = Cons (f x) (pure f <*> xs)\n",
    "      zipList (Cons f fs)  (Cons x Nil) = Cons (f x) (fs <*> pure x)\n",
    "      zipList (Cons f fs)  (Cons x xs)  = Cons (f x) (zipList fs xs)\n",
    "\n",
    "instance Arbitrary a => Arbitrary (ZipList' a) where\n",
    "  arbitrary = ZipList' <$> arbitrary\n",
    "\n",
    "instance Eq a => EqProp (ZipList' a) where\n",
    "  (=-=) = eq\n",
    "\n",
    "x = (\"1\", \"2\", \"3\")\n",
    "quickBatch $ applicative (ZipList' (Cons x Nil))"
   ]
  },
  {
   "cell_type": "markdown",
   "metadata": {},
   "source": [
    "### Either and Validation Applicative\n",
    "### Either vs. Validation\n",
    "`Validation` datatype is identical to `Either` but the `Applicative` instance differs as it combines the errors using the `Monoid` instance instead of the shortcut semantic.\n",
    "#### Exercise: Variations on Either\n",
    "Implement the `Validation` Applicative. Use the `checkers` library to validate the instance."
   ]
  },
  {
   "cell_type": "code",
   "execution_count": 56,
   "metadata": {},
   "outputs": [
    {
     "data": {
      "text/plain": [
       "\n",
       "applicative:\n",
       "  identity:     +++ OK, passed 500 tests.\n",
       "  composition:  +++ OK, passed 500 tests.\n",
       "  homomorphism: +++ OK, passed 500 tests.\n",
       "  interchange:  +++ OK, passed 500 tests.\n",
       "  functor:      +++ OK, passed 500 tests."
      ]
     },
     "metadata": {},
     "output_type": "display_data"
    }
   ],
   "source": [
    "data Validation e a = Failure e | Success a deriving (Eq, Show)\n",
    "\n",
    "-- same as Either\n",
    "instance Functor (Validation e) where\n",
    "  fmap _ (Failure x) = Failure x\n",
    "  fmap f (Success x) = Success $ f x\n",
    "\n",
    "-- This is different\n",
    "instance Monoid e => Applicative (Validation e) where\n",
    "  pure = Success\n",
    "  (Success f) <*> (Success x) = Success $ f x\n",
    "  (Success _) <*> (Failure e) = Failure e\n",
    "  (Failure e) <*> (Failure e') = Failure $ mappend e e'\n",
    "  (Failure e) <*> (Success _) = Failure e\n",
    "\n",
    "instance (Arbitrary e, Arbitrary a) => Arbitrary (Validation e a) where\n",
    "  arbitrary = do\n",
    "    f <- arbitrary\n",
    "    x <- arbitrary\n",
    "    elements [Failure f, Success x]\n",
    "      \n",
    "instance (Eq e, Eq a)  => EqProp (Validation e a) where\n",
    "  (=-=) = eq\n",
    "\n",
    "x = (\"1\", \"2\", \"3\")\n",
    "quickBatch $ applicative (Success x)"
   ]
  },
  {
   "cell_type": "markdown",
   "metadata": {},
   "source": [
    "## 17.9 Chapter exercises\n",
    "Given a type that has an instance of Applicative, specialize the types\n",
    "of the methods. Test your specialization in the REPL. One way to\n",
    "do this is to bind aliases of the type class methods to more concrete\n",
    "types that have the type we tell you to fill in:\n",
    "1. `[]`"
   ]
  },
  {
   "cell_type": "code",
   "execution_count": 57,
   "metadata": {},
   "outputs": [
    {
     "data": {
      "text/html": [
       "<style>/* Styles used for the Hoogle display in the pager */\n",
       ".hoogle-doc {\n",
       "display: block;\n",
       "padding-bottom: 1.3em;\n",
       "padding-left: 0.4em;\n",
       "}\n",
       ".hoogle-code {\n",
       "display: block;\n",
       "font-family: monospace;\n",
       "white-space: pre;\n",
       "}\n",
       ".hoogle-text {\n",
       "display: block;\n",
       "}\n",
       ".hoogle-name {\n",
       "color: green;\n",
       "font-weight: bold;\n",
       "}\n",
       ".hoogle-head {\n",
       "font-weight: bold;\n",
       "}\n",
       ".hoogle-sub {\n",
       "display: block;\n",
       "margin-left: 0.4em;\n",
       "}\n",
       ".hoogle-package {\n",
       "font-weight: bold;\n",
       "font-style: italic;\n",
       "}\n",
       ".hoogle-module {\n",
       "font-weight: bold;\n",
       "}\n",
       ".hoogle-class {\n",
       "font-weight: bold;\n",
       "}\n",
       ".get-type {\n",
       "color: green;\n",
       "font-weight: bold;\n",
       "font-family: monospace;\n",
       "display: block;\n",
       "white-space: pre-wrap;\n",
       "}\n",
       ".show-type {\n",
       "color: green;\n",
       "font-weight: bold;\n",
       "font-family: monospace;\n",
       "margin-left: 1em;\n",
       "}\n",
       ".mono {\n",
       "font-family: monospace;\n",
       "display: block;\n",
       "}\n",
       ".err-msg {\n",
       "color: red;\n",
       "font-style: italic;\n",
       "font-family: monospace;\n",
       "white-space: pre;\n",
       "display: block;\n",
       "}\n",
       "#unshowable {\n",
       "color: red;\n",
       "font-weight: bold;\n",
       "}\n",
       ".err-msg.in.collapse {\n",
       "padding-top: 0.7em;\n",
       "}\n",
       ".highlight-code {\n",
       "white-space: pre;\n",
       "font-family: monospace;\n",
       "}\n",
       ".suggestion-warning { \n",
       "font-weight: bold;\n",
       "color: rgb(200, 130, 0);\n",
       "}\n",
       ".suggestion-error { \n",
       "font-weight: bold;\n",
       "color: red;\n",
       "}\n",
       ".suggestion-name {\n",
       "font-weight: bold;\n",
       "}\n",
       "</style><span class='get-type'>pure @[] :: forall a. a -> [a]</span>"
      ],
      "text/plain": [
       "pure @[] :: forall a. a -> [a]"
      ]
     },
     "metadata": {},
     "output_type": "display_data"
    },
    {
     "data": {
      "text/html": [
       "<style>/* Styles used for the Hoogle display in the pager */\n",
       ".hoogle-doc {\n",
       "display: block;\n",
       "padding-bottom: 1.3em;\n",
       "padding-left: 0.4em;\n",
       "}\n",
       ".hoogle-code {\n",
       "display: block;\n",
       "font-family: monospace;\n",
       "white-space: pre;\n",
       "}\n",
       ".hoogle-text {\n",
       "display: block;\n",
       "}\n",
       ".hoogle-name {\n",
       "color: green;\n",
       "font-weight: bold;\n",
       "}\n",
       ".hoogle-head {\n",
       "font-weight: bold;\n",
       "}\n",
       ".hoogle-sub {\n",
       "display: block;\n",
       "margin-left: 0.4em;\n",
       "}\n",
       ".hoogle-package {\n",
       "font-weight: bold;\n",
       "font-style: italic;\n",
       "}\n",
       ".hoogle-module {\n",
       "font-weight: bold;\n",
       "}\n",
       ".hoogle-class {\n",
       "font-weight: bold;\n",
       "}\n",
       ".get-type {\n",
       "color: green;\n",
       "font-weight: bold;\n",
       "font-family: monospace;\n",
       "display: block;\n",
       "white-space: pre-wrap;\n",
       "}\n",
       ".show-type {\n",
       "color: green;\n",
       "font-weight: bold;\n",
       "font-family: monospace;\n",
       "margin-left: 1em;\n",
       "}\n",
       ".mono {\n",
       "font-family: monospace;\n",
       "display: block;\n",
       "}\n",
       ".err-msg {\n",
       "color: red;\n",
       "font-style: italic;\n",
       "font-family: monospace;\n",
       "white-space: pre;\n",
       "display: block;\n",
       "}\n",
       "#unshowable {\n",
       "color: red;\n",
       "font-weight: bold;\n",
       "}\n",
       ".err-msg.in.collapse {\n",
       "padding-top: 0.7em;\n",
       "}\n",
       ".highlight-code {\n",
       "white-space: pre;\n",
       "font-family: monospace;\n",
       "}\n",
       ".suggestion-warning { \n",
       "font-weight: bold;\n",
       "color: rgb(200, 130, 0);\n",
       "}\n",
       ".suggestion-error { \n",
       "font-weight: bold;\n",
       "color: red;\n",
       "}\n",
       ".suggestion-name {\n",
       "font-weight: bold;\n",
       "}\n",
       "</style><span class='get-type'>(<*>) @[] :: forall a b. [a -> b] -> [a] -> [b]</span>"
      ],
      "text/plain": [
       "(<*>) @[] :: forall a b. [a -> b] -> [a] -> [b]"
      ]
     },
     "metadata": {},
     "output_type": "display_data"
    }
   ],
   "source": [
    ":set -XTypeApplications\n",
    "\n",
    ":type pure @[]\n",
    ":type (<*>) @[]"
   ]
  },
  {
   "cell_type": "markdown",
   "metadata": {},
   "source": [
    "2. `IO`"
   ]
  },
  {
   "cell_type": "code",
   "execution_count": 58,
   "metadata": {},
   "outputs": [
    {
     "data": {
      "text/html": [
       "<style>/* Styles used for the Hoogle display in the pager */\n",
       ".hoogle-doc {\n",
       "display: block;\n",
       "padding-bottom: 1.3em;\n",
       "padding-left: 0.4em;\n",
       "}\n",
       ".hoogle-code {\n",
       "display: block;\n",
       "font-family: monospace;\n",
       "white-space: pre;\n",
       "}\n",
       ".hoogle-text {\n",
       "display: block;\n",
       "}\n",
       ".hoogle-name {\n",
       "color: green;\n",
       "font-weight: bold;\n",
       "}\n",
       ".hoogle-head {\n",
       "font-weight: bold;\n",
       "}\n",
       ".hoogle-sub {\n",
       "display: block;\n",
       "margin-left: 0.4em;\n",
       "}\n",
       ".hoogle-package {\n",
       "font-weight: bold;\n",
       "font-style: italic;\n",
       "}\n",
       ".hoogle-module {\n",
       "font-weight: bold;\n",
       "}\n",
       ".hoogle-class {\n",
       "font-weight: bold;\n",
       "}\n",
       ".get-type {\n",
       "color: green;\n",
       "font-weight: bold;\n",
       "font-family: monospace;\n",
       "display: block;\n",
       "white-space: pre-wrap;\n",
       "}\n",
       ".show-type {\n",
       "color: green;\n",
       "font-weight: bold;\n",
       "font-family: monospace;\n",
       "margin-left: 1em;\n",
       "}\n",
       ".mono {\n",
       "font-family: monospace;\n",
       "display: block;\n",
       "}\n",
       ".err-msg {\n",
       "color: red;\n",
       "font-style: italic;\n",
       "font-family: monospace;\n",
       "white-space: pre;\n",
       "display: block;\n",
       "}\n",
       "#unshowable {\n",
       "color: red;\n",
       "font-weight: bold;\n",
       "}\n",
       ".err-msg.in.collapse {\n",
       "padding-top: 0.7em;\n",
       "}\n",
       ".highlight-code {\n",
       "white-space: pre;\n",
       "font-family: monospace;\n",
       "}\n",
       ".suggestion-warning { \n",
       "font-weight: bold;\n",
       "color: rgb(200, 130, 0);\n",
       "}\n",
       ".suggestion-error { \n",
       "font-weight: bold;\n",
       "color: red;\n",
       "}\n",
       ".suggestion-name {\n",
       "font-weight: bold;\n",
       "}\n",
       "</style><span class='get-type'>pure @IO :: forall a. a -> IO a</span>"
      ],
      "text/plain": [
       "pure @IO :: forall a. a -> IO a"
      ]
     },
     "metadata": {},
     "output_type": "display_data"
    },
    {
     "data": {
      "text/html": [
       "<style>/* Styles used for the Hoogle display in the pager */\n",
       ".hoogle-doc {\n",
       "display: block;\n",
       "padding-bottom: 1.3em;\n",
       "padding-left: 0.4em;\n",
       "}\n",
       ".hoogle-code {\n",
       "display: block;\n",
       "font-family: monospace;\n",
       "white-space: pre;\n",
       "}\n",
       ".hoogle-text {\n",
       "display: block;\n",
       "}\n",
       ".hoogle-name {\n",
       "color: green;\n",
       "font-weight: bold;\n",
       "}\n",
       ".hoogle-head {\n",
       "font-weight: bold;\n",
       "}\n",
       ".hoogle-sub {\n",
       "display: block;\n",
       "margin-left: 0.4em;\n",
       "}\n",
       ".hoogle-package {\n",
       "font-weight: bold;\n",
       "font-style: italic;\n",
       "}\n",
       ".hoogle-module {\n",
       "font-weight: bold;\n",
       "}\n",
       ".hoogle-class {\n",
       "font-weight: bold;\n",
       "}\n",
       ".get-type {\n",
       "color: green;\n",
       "font-weight: bold;\n",
       "font-family: monospace;\n",
       "display: block;\n",
       "white-space: pre-wrap;\n",
       "}\n",
       ".show-type {\n",
       "color: green;\n",
       "font-weight: bold;\n",
       "font-family: monospace;\n",
       "margin-left: 1em;\n",
       "}\n",
       ".mono {\n",
       "font-family: monospace;\n",
       "display: block;\n",
       "}\n",
       ".err-msg {\n",
       "color: red;\n",
       "font-style: italic;\n",
       "font-family: monospace;\n",
       "white-space: pre;\n",
       "display: block;\n",
       "}\n",
       "#unshowable {\n",
       "color: red;\n",
       "font-weight: bold;\n",
       "}\n",
       ".err-msg.in.collapse {\n",
       "padding-top: 0.7em;\n",
       "}\n",
       ".highlight-code {\n",
       "white-space: pre;\n",
       "font-family: monospace;\n",
       "}\n",
       ".suggestion-warning { \n",
       "font-weight: bold;\n",
       "color: rgb(200, 130, 0);\n",
       "}\n",
       ".suggestion-error { \n",
       "font-weight: bold;\n",
       "color: red;\n",
       "}\n",
       ".suggestion-name {\n",
       "font-weight: bold;\n",
       "}\n",
       "</style><span class='get-type'>(<*>) @IO :: forall a b. IO (a -> b) -> IO a -> IO b</span>"
      ],
      "text/plain": [
       "(<*>) @IO :: forall a b. IO (a -> b) -> IO a -> IO b"
      ]
     },
     "metadata": {},
     "output_type": "display_data"
    }
   ],
   "source": [
    ":type pure @IO\n",
    ":type (<*>) @IO"
   ]
  },
  {
   "cell_type": "markdown",
   "metadata": {},
   "source": [
    "3. `(,) a`"
   ]
  },
  {
   "cell_type": "code",
   "execution_count": 59,
   "metadata": {},
   "outputs": [
    {
     "data": {
      "text/html": [
       "<style>/* Styles used for the Hoogle display in the pager */\n",
       ".hoogle-doc {\n",
       "display: block;\n",
       "padding-bottom: 1.3em;\n",
       "padding-left: 0.4em;\n",
       "}\n",
       ".hoogle-code {\n",
       "display: block;\n",
       "font-family: monospace;\n",
       "white-space: pre;\n",
       "}\n",
       ".hoogle-text {\n",
       "display: block;\n",
       "}\n",
       ".hoogle-name {\n",
       "color: green;\n",
       "font-weight: bold;\n",
       "}\n",
       ".hoogle-head {\n",
       "font-weight: bold;\n",
       "}\n",
       ".hoogle-sub {\n",
       "display: block;\n",
       "margin-left: 0.4em;\n",
       "}\n",
       ".hoogle-package {\n",
       "font-weight: bold;\n",
       "font-style: italic;\n",
       "}\n",
       ".hoogle-module {\n",
       "font-weight: bold;\n",
       "}\n",
       ".hoogle-class {\n",
       "font-weight: bold;\n",
       "}\n",
       ".get-type {\n",
       "color: green;\n",
       "font-weight: bold;\n",
       "font-family: monospace;\n",
       "display: block;\n",
       "white-space: pre-wrap;\n",
       "}\n",
       ".show-type {\n",
       "color: green;\n",
       "font-weight: bold;\n",
       "font-family: monospace;\n",
       "margin-left: 1em;\n",
       "}\n",
       ".mono {\n",
       "font-family: monospace;\n",
       "display: block;\n",
       "}\n",
       ".err-msg {\n",
       "color: red;\n",
       "font-style: italic;\n",
       "font-family: monospace;\n",
       "white-space: pre;\n",
       "display: block;\n",
       "}\n",
       "#unshowable {\n",
       "color: red;\n",
       "font-weight: bold;\n",
       "}\n",
       ".err-msg.in.collapse {\n",
       "padding-top: 0.7em;\n",
       "}\n",
       ".highlight-code {\n",
       "white-space: pre;\n",
       "font-family: monospace;\n",
       "}\n",
       ".suggestion-warning { \n",
       "font-weight: bold;\n",
       "color: rgb(200, 130, 0);\n",
       "}\n",
       ".suggestion-error { \n",
       "font-weight: bold;\n",
       "color: red;\n",
       "}\n",
       ".suggestion-name {\n",
       "font-weight: bold;\n",
       "}\n",
       "</style><span class='get-type'>pure @((,) String) :: forall a. a -> (String, a)</span>"
      ],
      "text/plain": [
       "pure @((,) String) :: forall a. a -> (String, a)"
      ]
     },
     "metadata": {},
     "output_type": "display_data"
    },
    {
     "data": {
      "text/html": [
       "<style>/* Styles used for the Hoogle display in the pager */\n",
       ".hoogle-doc {\n",
       "display: block;\n",
       "padding-bottom: 1.3em;\n",
       "padding-left: 0.4em;\n",
       "}\n",
       ".hoogle-code {\n",
       "display: block;\n",
       "font-family: monospace;\n",
       "white-space: pre;\n",
       "}\n",
       ".hoogle-text {\n",
       "display: block;\n",
       "}\n",
       ".hoogle-name {\n",
       "color: green;\n",
       "font-weight: bold;\n",
       "}\n",
       ".hoogle-head {\n",
       "font-weight: bold;\n",
       "}\n",
       ".hoogle-sub {\n",
       "display: block;\n",
       "margin-left: 0.4em;\n",
       "}\n",
       ".hoogle-package {\n",
       "font-weight: bold;\n",
       "font-style: italic;\n",
       "}\n",
       ".hoogle-module {\n",
       "font-weight: bold;\n",
       "}\n",
       ".hoogle-class {\n",
       "font-weight: bold;\n",
       "}\n",
       ".get-type {\n",
       "color: green;\n",
       "font-weight: bold;\n",
       "font-family: monospace;\n",
       "display: block;\n",
       "white-space: pre-wrap;\n",
       "}\n",
       ".show-type {\n",
       "color: green;\n",
       "font-weight: bold;\n",
       "font-family: monospace;\n",
       "margin-left: 1em;\n",
       "}\n",
       ".mono {\n",
       "font-family: monospace;\n",
       "display: block;\n",
       "}\n",
       ".err-msg {\n",
       "color: red;\n",
       "font-style: italic;\n",
       "font-family: monospace;\n",
       "white-space: pre;\n",
       "display: block;\n",
       "}\n",
       "#unshowable {\n",
       "color: red;\n",
       "font-weight: bold;\n",
       "}\n",
       ".err-msg.in.collapse {\n",
       "padding-top: 0.7em;\n",
       "}\n",
       ".highlight-code {\n",
       "white-space: pre;\n",
       "font-family: monospace;\n",
       "}\n",
       ".suggestion-warning { \n",
       "font-weight: bold;\n",
       "color: rgb(200, 130, 0);\n",
       "}\n",
       ".suggestion-error { \n",
       "font-weight: bold;\n",
       "color: red;\n",
       "}\n",
       ".suggestion-name {\n",
       "font-weight: bold;\n",
       "}\n",
       "</style><span class='get-type'>(<*>) @((,) String) :: forall a b. (String, a -> b) -> (String, a) -> (String, b)</span>"
      ],
      "text/plain": [
       "(<*>) @((,) String) :: forall a b. (String, a -> b) -> (String, a) -> (String, b)"
      ]
     },
     "metadata": {},
     "output_type": "display_data"
    }
   ],
   "source": [
    ":type pure @((,) String)\n",
    ":type (<*>) @((,) String)"
   ]
  },
  {
   "cell_type": "markdown",
   "metadata": {},
   "source": [
    "4. `(->) e`"
   ]
  },
  {
   "cell_type": "code",
   "execution_count": 60,
   "metadata": {},
   "outputs": [
    {
     "data": {
      "text/html": [
       "<style>/* Styles used for the Hoogle display in the pager */\n",
       ".hoogle-doc {\n",
       "display: block;\n",
       "padding-bottom: 1.3em;\n",
       "padding-left: 0.4em;\n",
       "}\n",
       ".hoogle-code {\n",
       "display: block;\n",
       "font-family: monospace;\n",
       "white-space: pre;\n",
       "}\n",
       ".hoogle-text {\n",
       "display: block;\n",
       "}\n",
       ".hoogle-name {\n",
       "color: green;\n",
       "font-weight: bold;\n",
       "}\n",
       ".hoogle-head {\n",
       "font-weight: bold;\n",
       "}\n",
       ".hoogle-sub {\n",
       "display: block;\n",
       "margin-left: 0.4em;\n",
       "}\n",
       ".hoogle-package {\n",
       "font-weight: bold;\n",
       "font-style: italic;\n",
       "}\n",
       ".hoogle-module {\n",
       "font-weight: bold;\n",
       "}\n",
       ".hoogle-class {\n",
       "font-weight: bold;\n",
       "}\n",
       ".get-type {\n",
       "color: green;\n",
       "font-weight: bold;\n",
       "font-family: monospace;\n",
       "display: block;\n",
       "white-space: pre-wrap;\n",
       "}\n",
       ".show-type {\n",
       "color: green;\n",
       "font-weight: bold;\n",
       "font-family: monospace;\n",
       "margin-left: 1em;\n",
       "}\n",
       ".mono {\n",
       "font-family: monospace;\n",
       "display: block;\n",
       "}\n",
       ".err-msg {\n",
       "color: red;\n",
       "font-style: italic;\n",
       "font-family: monospace;\n",
       "white-space: pre;\n",
       "display: block;\n",
       "}\n",
       "#unshowable {\n",
       "color: red;\n",
       "font-weight: bold;\n",
       "}\n",
       ".err-msg.in.collapse {\n",
       "padding-top: 0.7em;\n",
       "}\n",
       ".highlight-code {\n",
       "white-space: pre;\n",
       "font-family: monospace;\n",
       "}\n",
       ".suggestion-warning { \n",
       "font-weight: bold;\n",
       "color: rgb(200, 130, 0);\n",
       "}\n",
       ".suggestion-error { \n",
       "font-weight: bold;\n",
       "color: red;\n",
       "}\n",
       ".suggestion-name {\n",
       "font-weight: bold;\n",
       "}\n",
       "</style><span class='get-type'>pure @((->) String) :: forall a. a -> String -> a</span>"
      ],
      "text/plain": [
       "pure @((->) String) :: forall a. a -> String -> a"
      ]
     },
     "metadata": {},
     "output_type": "display_data"
    },
    {
     "data": {
      "text/html": [
       "<style>/* Styles used for the Hoogle display in the pager */\n",
       ".hoogle-doc {\n",
       "display: block;\n",
       "padding-bottom: 1.3em;\n",
       "padding-left: 0.4em;\n",
       "}\n",
       ".hoogle-code {\n",
       "display: block;\n",
       "font-family: monospace;\n",
       "white-space: pre;\n",
       "}\n",
       ".hoogle-text {\n",
       "display: block;\n",
       "}\n",
       ".hoogle-name {\n",
       "color: green;\n",
       "font-weight: bold;\n",
       "}\n",
       ".hoogle-head {\n",
       "font-weight: bold;\n",
       "}\n",
       ".hoogle-sub {\n",
       "display: block;\n",
       "margin-left: 0.4em;\n",
       "}\n",
       ".hoogle-package {\n",
       "font-weight: bold;\n",
       "font-style: italic;\n",
       "}\n",
       ".hoogle-module {\n",
       "font-weight: bold;\n",
       "}\n",
       ".hoogle-class {\n",
       "font-weight: bold;\n",
       "}\n",
       ".get-type {\n",
       "color: green;\n",
       "font-weight: bold;\n",
       "font-family: monospace;\n",
       "display: block;\n",
       "white-space: pre-wrap;\n",
       "}\n",
       ".show-type {\n",
       "color: green;\n",
       "font-weight: bold;\n",
       "font-family: monospace;\n",
       "margin-left: 1em;\n",
       "}\n",
       ".mono {\n",
       "font-family: monospace;\n",
       "display: block;\n",
       "}\n",
       ".err-msg {\n",
       "color: red;\n",
       "font-style: italic;\n",
       "font-family: monospace;\n",
       "white-space: pre;\n",
       "display: block;\n",
       "}\n",
       "#unshowable {\n",
       "color: red;\n",
       "font-weight: bold;\n",
       "}\n",
       ".err-msg.in.collapse {\n",
       "padding-top: 0.7em;\n",
       "}\n",
       ".highlight-code {\n",
       "white-space: pre;\n",
       "font-family: monospace;\n",
       "}\n",
       ".suggestion-warning { \n",
       "font-weight: bold;\n",
       "color: rgb(200, 130, 0);\n",
       "}\n",
       ".suggestion-error { \n",
       "font-weight: bold;\n",
       "color: red;\n",
       "}\n",
       ".suggestion-name {\n",
       "font-weight: bold;\n",
       "}\n",
       "</style><span class='get-type'>(<*>) @((->) String) :: forall a b. (String -> a -> b) -> (String -> a) -> String -> b</span>"
      ],
      "text/plain": [
       "(<*>) @((->) String) :: forall a b. (String -> a -> b) -> (String -> a) -> String -> b"
      ]
     },
     "metadata": {},
     "output_type": "display_data"
    }
   ],
   "source": [
    ":type pure @((->) String)\n",
    ":type (<*>) @((->) String)"
   ]
  },
  {
   "cell_type": "markdown",
   "metadata": {},
   "source": [
    "Write instances for the following datatypes. Use the `checkers` library to validate the instances:\n",
    "\n",
    "1. "
   ]
  },
  {
   "cell_type": "code",
   "execution_count": 61,
   "metadata": {},
   "outputs": [
    {
     "data": {
      "text/plain": [
       "\n",
       "applicative:\n",
       "  identity:     +++ OK, passed 500 tests.\n",
       "  composition:  +++ OK, passed 500 tests.\n",
       "  homomorphism: +++ OK, passed 500 tests.\n",
       "  interchange:  +++ OK, passed 500 tests.\n",
       "  functor:      +++ OK, passed 500 tests."
      ]
     },
     "metadata": {},
     "output_type": "display_data"
    }
   ],
   "source": [
    "data Pair a = Pair a a deriving (Eq, Show)\n",
    "\n",
    "instance Functor Pair where\n",
    "  fmap f (Pair x x') = Pair (f x) (f x')\n",
    "\n",
    "instance Applicative Pair where\n",
    "  pure x = Pair x x\n",
    "  (Pair f f') <*> (Pair x x') = Pair (f x) (f' x')\n",
    "\n",
    "instance Arbitrary a => Arbitrary (Pair a) where\n",
    "  arbitrary = do\n",
    "    x <- arbitrary\n",
    "    pure $ Pair x x\n",
    "\n",
    "instance Eq a => EqProp (Pair a) where\n",
    "  (=-=) = eq\n",
    "\n",
    "x = (\"1\", \"2\", \"3\")\n",
    "quickBatch $ applicative (Pair x x)"
   ]
  },
  {
   "cell_type": "markdown",
   "metadata": {},
   "source": [
    "2. This should look familiar:"
   ]
  },
  {
   "cell_type": "code",
   "execution_count": 62,
   "metadata": {},
   "outputs": [
    {
     "data": {
      "text/plain": [
       "\n",
       "applicative:\n",
       "  identity:     +++ OK, passed 500 tests.\n",
       "  composition:  +++ OK, passed 500 tests.\n",
       "  homomorphism: +++ OK, passed 500 tests.\n",
       "  interchange:  +++ OK, passed 500 tests.\n",
       "  functor:      +++ OK, passed 500 tests."
      ]
     },
     "metadata": {},
     "output_type": "display_data"
    }
   ],
   "source": [
    "data Two a b = Two a b deriving (Eq, Show)\n",
    "\n",
    "instance Functor (Two a) where\n",
    "  fmap f (Two x x') = Two x (f x')\n",
    "  \n",
    "instance Monoid a => Applicative (Two a) where\n",
    "  pure = Two mempty\n",
    "  (Two x f) <*> (Two x' y) = Two (x <> x') (f y)\n",
    "\n",
    "instance (Arbitrary a, Arbitrary b) => Arbitrary (Two a b) where\n",
    "  arbitrary = Two <$> arbitrary <*> arbitrary\n",
    "      \n",
    "instance (Eq a, Eq b) => EqProp (Two a b) where\n",
    "  (=-=) = eq\n",
    "\n",
    "x = (\"1\", \"2\", \"3\")\n",
    "quickBatch $ applicative (Two x x)"
   ]
  },
  {
   "cell_type": "markdown",
   "metadata": {},
   "source": [
    "3. "
   ]
  },
  {
   "cell_type": "code",
   "execution_count": 63,
   "metadata": {},
   "outputs": [
    {
     "data": {
      "text/plain": [
       "\n",
       "applicative:\n",
       "  identity:     +++ OK, passed 500 tests.\n",
       "  composition:  +++ OK, passed 500 tests.\n",
       "  homomorphism: +++ OK, passed 500 tests.\n",
       "  interchange:  +++ OK, passed 500 tests.\n",
       "  functor:      +++ OK, passed 500 tests."
      ]
     },
     "metadata": {},
     "output_type": "display_data"
    }
   ],
   "source": [
    "data Three a b c = Three a b c deriving (Eq, Show)\n",
    "\n",
    "instance Functor (Three a b) where\n",
    "  fmap f (Three x y z) = Three x y (f z)\n",
    "  \n",
    "instance (Monoid a, Monoid b) => Applicative (Three a b) where\n",
    "  pure = Three mempty mempty\n",
    "  (Three x z f) <*> (Three x' z' y) = Three (x <> x') (z <> z') (f y)\n",
    "\n",
    "instance (Arbitrary a, Arbitrary b, Arbitrary c) => Arbitrary (Three a b c) where\n",
    "  arbitrary = Three <$> arbitrary <*> arbitrary <*> arbitrary\n",
    "      \n",
    "instance (Eq a, Eq b, Eq c) => EqProp (Three a b c) where\n",
    "  (=-=) = eq\n",
    "\n",
    "x = (\"1\", \"2\", \"3\")\n",
    "quickBatch $ applicative (Three x x x)"
   ]
  },
  {
   "cell_type": "markdown",
   "metadata": {},
   "source": [
    "4. "
   ]
  },
  {
   "cell_type": "code",
   "execution_count": 64,
   "metadata": {},
   "outputs": [
    {
     "data": {
      "text/plain": [
       "\n",
       "applicative:\n",
       "  identity:     +++ OK, passed 500 tests.\n",
       "  composition:  +++ OK, passed 500 tests.\n",
       "  homomorphism: +++ OK, passed 500 tests.\n",
       "  interchange:  +++ OK, passed 500 tests.\n",
       "  functor:      +++ OK, passed 500 tests."
      ]
     },
     "metadata": {},
     "output_type": "display_data"
    }
   ],
   "source": [
    "data Three' a b = Three' a b b deriving (Eq, Show)\n",
    "\n",
    "instance Functor (Three' a) where\n",
    "  fmap f (Three' x y y') = Three' x (f y) (f y')\n",
    "  \n",
    "instance Monoid a => Applicative (Three' a) where\n",
    "  pure x = Three' mempty x x\n",
    "  (Three' x f g) <*> (Three' x' y y') = Three' (x <> x') (f y) (g y')\n",
    "\n",
    "instance (Arbitrary a, Arbitrary b) => Arbitrary (Three' a b) where\n",
    "  arbitrary = do\n",
    "    x <- arbitrary\n",
    "    y <- arbitrary\n",
    "    pure $ Three' x y y\n",
    "      \n",
    "instance (Eq a, Eq b) => EqProp (Three' a b) where\n",
    "  (=-=) = eq\n",
    "\n",
    "x = (\"1\", \"2\", \"3\")\n",
    "quickBatch $ applicative (Three' x x x)"
   ]
  },
  {
   "cell_type": "markdown",
   "metadata": {},
   "source": [
    "5. "
   ]
  },
  {
   "cell_type": "code",
   "execution_count": 65,
   "metadata": {},
   "outputs": [
    {
     "data": {
      "text/plain": [
       "\n",
       "applicative:\n",
       "  identity:     +++ OK, passed 500 tests.\n",
       "  composition:  +++ OK, passed 500 tests.\n",
       "  homomorphism: +++ OK, passed 500 tests.\n",
       "  interchange:  +++ OK, passed 500 tests.\n",
       "  functor:      +++ OK, passed 500 tests."
      ]
     },
     "metadata": {},
     "output_type": "display_data"
    }
   ],
   "source": [
    "data Four a b c d = Four a b c d deriving (Eq, Show)\n",
    "\n",
    "instance Functor (Four a b c) where\n",
    "  fmap f (Four x y z t) = Four x y z (f t)\n",
    "  \n",
    "instance (Monoid a, Monoid b, Monoid c) => Applicative (Four a b c) where\n",
    "  pure = Four mempty mempty mempty\n",
    "  (Four x y z f) <*> (Four x' y' z' t) = Four (x <> x') (y <> y') (z <> z') (f t)\n",
    "\n",
    "instance (Arbitrary a, Arbitrary b, Arbitrary c, Arbitrary d) => Arbitrary (Four a b c d) where\n",
    "  arbitrary = Four <$> arbitrary <*> arbitrary <*> arbitrary <*> arbitrary\n",
    "      \n",
    "instance (Eq a, Eq b, Eq c, Eq d) => EqProp (Four a b c d) where\n",
    "  (=-=) = eq\n",
    "\n",
    "x = (\"1\", \"2\", \"3\")\n",
    "quickBatch $ applicative (Four x x x x)"
   ]
  },
  {
   "cell_type": "markdown",
   "metadata": {},
   "source": [
    "6. "
   ]
  },
  {
   "cell_type": "code",
   "execution_count": 66,
   "metadata": {},
   "outputs": [
    {
     "data": {
      "text/plain": [
       "\n",
       "applicative:\n",
       "  identity:     +++ OK, passed 500 tests.\n",
       "  composition:  +++ OK, passed 500 tests.\n",
       "  homomorphism: +++ OK, passed 500 tests.\n",
       "  interchange:  +++ OK, passed 500 tests.\n",
       "  functor:      +++ OK, passed 500 tests."
      ]
     },
     "metadata": {},
     "output_type": "display_data"
    }
   ],
   "source": [
    "data Four' a b = Four' a a a b deriving (Eq, Show)\n",
    "\n",
    "instance Functor (Four' a) where\n",
    "  fmap f (Four' x y z t) = Four' x y z (f t)\n",
    "  \n",
    "instance Monoid a => Applicative (Four' a) where\n",
    "  pure = Four' mempty mempty mempty\n",
    "  (Four' x y z f) <*> (Four' x' y' z' t) = Four' (x <> x') (y <> y') (z <> z') (f t)\n",
    "\n",
    "instance (Arbitrary a, Arbitrary b) => Arbitrary (Four' a b) where\n",
    "  arbitrary = do\n",
    "    x <- arbitrary\n",
    "    y <- arbitrary\n",
    "    pure $ Four' x x x y\n",
    "      \n",
    "instance (Eq a, Eq b) => EqProp (Four' a b) where\n",
    "  (=-=) = eq\n",
    "\n",
    "x = (\"1\", \"2\", \"3\")\n",
    "quickBatch $ applicative (Four' x x x x)"
   ]
  },
  {
   "cell_type": "markdown",
   "metadata": {},
   "source": [
    "### Combinations\n",
    "Write a function to generate all the possible combinations of three input lists, using `liftA3` from `Control.Applicative`:"
   ]
  },
  {
   "cell_type": "code",
   "execution_count": 67,
   "metadata": {},
   "outputs": [],
   "source": [
    "import Control.Applicative (liftA3)\n",
    "\n",
    "stops :: String\n",
    "stops = \"pbtdkg\"\n",
    "\n",
    "vowels :: String\n",
    "vowels = \"aeiou\"\n",
    "\n",
    "combos :: [a] -> [b] -> [c] -> [(a, b, c)]\n",
    "combos = liftA3 (,,)"
   ]
  },
  {
   "cell_type": "markdown",
   "metadata": {},
   "source": [
    "## 17.10 Definitions\n",
    "1. `Applicative` can be thought of as characterizing monoidal functors in Haskell. For a Haskeller’s purposes, it’s a way to functorially apply a function that is embedded in a structure f of the same type as the value you’re mapping it over:\n",
    "\n",
    "`fmap  ::   (a -> b) -> f a -> f b`\n",
    "\n",
    "`(<*>) :: f (a -> b) -> f a -> f b`"
   ]
  }
 ],
 "metadata": {
  "kernelspec": {
   "display_name": "Haskell",
   "language": "haskell",
   "name": "haskell"
  },
  "language_info": {
   "codemirror_mode": "ihaskell",
   "file_extension": ".hs",
   "name": "haskell",
   "pygments_lexer": "Haskell",
   "version": "8.6.5"
  }
 },
 "nbformat": 4,
 "nbformat_minor": 4
}
