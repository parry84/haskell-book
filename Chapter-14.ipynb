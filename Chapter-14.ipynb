{
 "cells": [
  {
   "cell_type": "code",
   "execution_count": 1,
   "metadata": {},
   "outputs": [],
   "source": [
    ":opt no-lint"
   ]
  },
  {
   "cell_type": "code",
   "execution_count": 2,
   "metadata": {},
   "outputs": [],
   "source": [
    "import Test.Hspec\n",
    "import Test.QuickCheck"
   ]
  },
  {
   "cell_type": "markdown",
   "metadata": {},
   "source": [
    "# Chapter 14. Testing\n",
    "## 14.1 Testing\n",
    "* principle of testing.\n",
    "* testing libraries `hspec` and `QuickCheck`.\n",
    "\n",
    "## 14.2 A quick tour of testing for the uninitiated\n",
    "Categories:\n",
    "* unit testing (spec testing is a variant)\n",
    "* property testing\n",
    "\n",
    "## 14.3 Conventional testing\n",
    "`hspec` is based on monadic actions. \n",
    "Write a function that multiplies two numbers using recursive summation. The type should be `(Eq a, Num a) => a -> a -> a`, and then write `hspec` tests for it."
   ]
  },
  {
   "cell_type": "markdown",
   "metadata": {},
   "source": [
    "## 14.4 Enter QuickCheck\n",
    "`QuickCheck` was the first library to offer property testing. It requires concrete types in properties. The number of tests runs defaults to 100.\n",
    "### Arbitrary instances\n",
    "`QuickCheck` contains:\n",
    "* a type class called `Arbitrary`. It is unprincipled because it has no laws.\n",
    "nothing specific it’s supposed to do\n",
    "* a newtype called `Gen` for generating its random data.\n",
    "\n",
    "`arbitrary` is a value of type `Gen`. `sample` uses it to output random data.\n",
    "`IO` allow to use a global resource of random values to generate the data.\n",
    "We can use `QuickCheck` without `hspec` by means of `prop_additionGreater`.\n",
    "### Intermission: Short exercise\n",
    "Write `hspec` tests for recursive multiplications function of Chapter 8"
   ]
  },
  {
   "cell_type": "code",
   "execution_count": 33,
   "metadata": {},
   "outputs": [
    {
     "ename": "",
     "evalue": "",
     "output_type": "error",
     "traceback": [
      "<interactive>:3:5: error:\n    • Couldn't match expected type ‘String -> Expectation -> SpecWith ()’ with actual type ‘()’\n    • The function ‘it’ is applied to one argument,\n      but its type ‘()’ has none\n      In the expression: it \"multiplies by 0 correctly\"\n      In a stmt of a 'do' block: it \"multiplies by 0 correctly\" $ do multRecur 42 0 `shouldBe` 0"
     ]
    }
   ],
   "source": [
    "multRecur :: Integral a => a -> a -> a\n",
    "multRecur a 1 = a\n",
    "multRecur a b = a + multRecur a (b - 1)\n",
    "\n",
    "hspec $\n",
    "  describe \"multRecur\" $ do\n",
    "    it \"multiplies by 0 correctly\" $ multRecur 42 0 `shouldBe` 0\n",
    "    --it \"multiplies 1 correctly\" $ multRecur 42 1 `shouldBe` 42\n",
    "    --it \"multiplies 2 by 2 correctly\" $ multRecur 2 2 `shouldBe` 4\n",
    "    --it \"multiplies 22 by 84\" $ multRecur 22 84 `shouldBe` 1848\n",
    "    --it \"multiplies -22 by 84\" $ multRecur -22 84 `shouldBe` -1848"
   ]
  },
  {
   "cell_type": "markdown",
   "metadata": {},
   "source": [
    "## 14.5 Morse code\n",
    "## 14.6Arbitrary instances\n",
    "One of the more important parts of becoming an expert user of `QuickCheck` is learning to write instances of the `Arbitrary` type class for your datatypes."
   ]
  },
  {
   "cell_type": "markdown",
   "metadata": {},
   "source": [
    "## 14.7 Chapter exercises\n",
    "Fill in the test cases that print question marks. If you think of additional tests you could perform, add them"
   ]
  },
  {
   "cell_type": "code",
   "execution_count": 27,
   "metadata": {},
   "outputs": [
    {
     "ename": "",
     "evalue": "",
     "output_type": "error",
     "traceback": [
      "<interactive>:3:5: error:\n    • Couldn't match expected type ‘String -> Expectation -> hspec-core-2.7.1:Test.Hspec.Core.Spec.Monad.SpecM () a0’ with actual type ‘()’\n    • The function ‘it’ is applied to one argument,\n      but its type ‘()’ has none\n      In the expression: it \"returns zero for 0\"\n      In a stmt of a 'do' block: it \"returns zero for 0\" $ do digitToWord 0 `shouldBe` \"zero\"\n<interactive>:5:5: error:\n    • Couldn't match expected type ‘String -> Expectation -> hspec-core-2.7.1:Test.Hspec.Core.Spec.Monad.SpecM () ()’ with actual type ‘()’\n    • The function ‘it’ is applied to one argument,\n      but its type ‘()’ has none\n      In the expression: it \"returns one for 1\"\n      In a stmt of a 'do' block: it \"returns one for 1\" $ do digitToWord 1 `shouldBe` \"one\"\n<interactive>:8:5: error:\n    • Couldn't match expected type ‘String -> Expectation -> hspec-core-2.7.1:Test.Hspec.Core.Spec.Monad.SpecM () a1’ with actual type ‘()’\n    • The function ‘it’ is applied to one argument,\n      but its type ‘()’ has none\n      In the expression: it \"returns [1] for 1\"\n      In a stmt of a 'do' block: it \"returns [1] for 1\" $ do digits 1 `shouldBe` [1]\n<interactive>:10:5: error:\n    • Couldn't match expected type ‘String -> Expectation -> hspec-core-2.7.1:Test.Hspec.Core.Spec.Monad.SpecM () ()’ with actual type ‘()’\n    • The function ‘it’ is applied to one argument,\n      but its type ‘()’ has none\n      In the expression: it \"returns [1, 0, 0] for 100\"\n      In a stmt of a 'do' block: it \"returns [1, 0, 0] for 100\" $ do digits 100 `shouldBe` [1, 0, ....]\n<interactive>:13:5: error:\n    • Couldn't match expected type ‘String -> Expectation -> hspec-core-2.7.1:Test.Hspec.Core.Spec.Monad.SpecM () a2’ with actual type ‘()’\n    • The function ‘it’ is applied to one argument,\n      but its type ‘()’ has none\n      In the expression: it \"one-zero-zero given 100\"\n      In a stmt of a 'do' block: it \"one-zero-zero given 100\" $ do wordNumber 100 `shouldBe` \"one-zero-zero\"\n<interactive>:15:5: error:\n    • Couldn't match expected type ‘String -> Expectation -> hspec-core-2.7.1:Test.Hspec.Core.Spec.Monad.SpecM () ()’ with actual type ‘()’\n    • The function ‘it’ is applied to one argument,\n      but its type ‘()’ has none\n      In the expression: it \"nine-zero-zero-one for 9001\"\n      In a stmt of a 'do' block: it \"nine-zero-zero-one for 9001\" $ do wordNumber 9001 `shouldBe` \"nine-zero-zero-one\""
     ]
    }
   ],
   "source": [
    "import Data.List (intersperse, intercalate, map)\n",
    "\n",
    "digitToWord :: Int -> String\n",
    "digitToWord n =\n",
    "  case n of\n",
    "    0 -> \"zero\"\n",
    "    1 -> \"one\"\n",
    "    2 -> \"two\"\n",
    "    3 -> \"three\"\n",
    "    4 -> \"four\"\n",
    "    5 -> \"five\"\n",
    "    6 -> \"six\"\n",
    "    7 -> \"seven\"\n",
    "    8 -> \"eight\"\n",
    "    9 -> \"nine\"\n",
    "    _ -> \"zero\"\n",
    "\n",
    "digits :: Int -> [Int]\n",
    "digits n\n",
    "  | n < 10    = [ mod n 10 ]\n",
    "  | otherwise = concat [ digits $ div n 10, [ mod n 10 ] ]\n",
    "\n",
    "wordNumber :: Int -> String\n",
    "wordNumber = intercalate \"-\" . map digitToWord . digits\n",
    "\n",
    "hspec $ do\n",
    "  describe \"digitToWord\" $ do\n",
    "    it \"returns zero for 0\" $ do\n",
    "      digitToWord 0 `shouldBe` \"zero\"\n",
    "    it \"returns one for 1\" $ do\n",
    "      digitToWord 1 `shouldBe` \"one\"\n",
    "  describe \"digits\" $ do\n",
    "    it \"returns [1] for 1\" $ do\n",
    "      digits 1 `shouldBe` [1]\n",
    "    it \"returns [1, 0, 0] for 100\" $ do\n",
    "      digits 100 `shouldBe` [1, 0, 0]\n",
    "  describe \"wordNumber\" $ do\n",
    "    it \"one-zero-zero given 100\" $ do\n",
    "      wordNumber 100 `shouldBe` \"one-zero-zero\"\n",
    "    it \"nine-zero-zero-one for 9001\" $ do\n",
    "      wordNumber 9001 `shouldBe` \"nine-zero-zero-one\""
   ]
  },
  {
   "cell_type": "markdown",
   "metadata": {},
   "source": [
    "### Using QuickCheck\n",
    "Test some basic properties using QuickCheck:\n",
    "1."
   ]
  },
  {
   "cell_type": "code",
   "execution_count": 5,
   "metadata": {},
   "outputs": [
    {
     "data": {
      "text/plain": [
       "+++ OK, passed 100 tests."
      ]
     },
     "metadata": {},
     "output_type": "display_data"
    }
   ],
   "source": [
    "-- for a function\n",
    "half x = x / 2\n",
    "-- this property should hold\n",
    "halfIdentity = (*2) . half\n",
    "\n",
    "prop_halfIdentity :: (Fractional a, Eq a) => a -> Bool\n",
    "prop_halfIdentity x = halfIdentity x == x\n",
    "\n",
    "quickCheck prop_halfIdentity"
   ]
  },
  {
   "cell_type": "markdown",
   "metadata": {},
   "source": [
    "2."
   ]
  },
  {
   "cell_type": "code",
   "execution_count": 6,
   "metadata": {},
   "outputs": [
    {
     "data": {
      "text/plain": [
       "+++ OK, passed 100 tests."
      ]
     },
     "metadata": {},
     "output_type": "display_data"
    }
   ],
   "source": [
    "import Data.List (sort)\n",
    "\n",
    "-- for any list you apply sort to,\n",
    "-- this property should hold\n",
    "listOrdered :: (Ord a) => [a] -> Bool\n",
    "listOrdered xs = snd $ foldr go (Nothing, True) xs\n",
    "  where go _ status@(_, False) = status\n",
    "        go y (Nothing, t) = (Just y, t)\n",
    "        go y (Just x, t) = (Just y, x >= y)\n",
    "    \n",
    "quickCheck listOrdered"
   ]
  },
  {
   "cell_type": "markdown",
   "metadata": {},
   "source": [
    "3. Now, we’ll test the associative and commutative properties of addition. Keep in mind, these properties won’t hold for types based on IEEE-754 floating point numbers, such as `Float` or `Double`."
   ]
  },
  {
   "cell_type": "code",
   "execution_count": 7,
   "metadata": {},
   "outputs": [
    {
     "data": {
      "text/plain": [
       "+++ OK, passed 100 tests."
      ]
     },
     "metadata": {},
     "output_type": "display_data"
    },
    {
     "data": {
      "text/plain": [
       "+++ OK, passed 100 tests."
      ]
     },
     "metadata": {},
     "output_type": "display_data"
    }
   ],
   "source": [
    "plusAssociative x y z = x + (y + z) == (x + y) + z\n",
    "\n",
    "plusCommutative x y = x + y == y + x\n",
    "\n",
    "quickCheck plusAssociative\n",
    "quickCheck plusCommutative"
   ]
  },
  {
   "cell_type": "markdown",
   "metadata": {},
   "source": [
    "4. Now do the same for multiplication."
   ]
  },
  {
   "cell_type": "code",
   "execution_count": 8,
   "metadata": {},
   "outputs": [
    {
     "data": {
      "text/plain": [
       "+++ OK, passed 100 tests."
      ]
     },
     "metadata": {},
     "output_type": "display_data"
    },
    {
     "data": {
      "text/plain": [
       "+++ OK, passed 100 tests."
      ]
     },
     "metadata": {},
     "output_type": "display_data"
    }
   ],
   "source": [
    "plusAssociative x y z = x * (y * z) == (x * y) * z\n",
    "\n",
    "plusCommutative x y = x * y == y * x\n",
    "\n",
    "quickCheck plusAssociative\n",
    "quickCheck plusCommutative"
   ]
  },
  {
   "cell_type": "markdown",
   "metadata": {},
   "source": [
    "5. We mentioned in one of the first chapters that there are some laws involving the relationships of `quot` to `rem` and `div` to `mod`.\n",
    "Write `QuickCheck` tests to prove them:"
   ]
  },
  {
   "cell_type": "code",
   "execution_count": 9,
   "metadata": {},
   "outputs": [
    {
     "data": {
      "text/plain": [
       "+++ OK, passed 100 tests."
      ]
     },
     "metadata": {},
     "output_type": "display_data"
    },
    {
     "data": {
      "text/plain": [
       "+++ OK, passed 100 tests."
      ]
     },
     "metadata": {},
     "output_type": "display_data"
    }
   ],
   "source": [
    "prop_quotRem :: (Integral a) => a -> Positive a -> Bool\n",
    "prop_quotRem x (Positive y) = (quot x y) * y + (rem x y) == x\n",
    "\n",
    "prop_divMod :: (Integral a) => a -> Positive a -> Bool\n",
    "prop_divMod x (Positive y) = (div x y) * y + (mod x y) == x\n",
    "\n",
    "quickCheck prop_quotRem\n",
    "quickCheck prop_divMod"
   ]
  },
  {
   "cell_type": "markdown",
   "metadata": {},
   "source": [
    "6. Is the `^` operation associative? Is it commutative? Use `QuickCheck` to see if the computer can contradict such an assertion."
   ]
  },
  {
   "cell_type": "code",
   "execution_count": 10,
   "metadata": {},
   "outputs": [
    {
     "data": {
      "text/plain": [
       "*** Failed! Falsified (after 2 tests and 3 shrinks):\n",
       "0\n",
       "1"
      ]
     },
     "metadata": {},
     "output_type": "display_data"
    }
   ],
   "source": [
    "prop_commutative x y = x ^ y == y ^ x\n",
    "\n",
    "quickCheck prop_commutative"
   ]
  },
  {
   "cell_type": "markdown",
   "metadata": {},
   "source": [
    "7. Test that reversing a list twice is the same as the identity of the original list:"
   ]
  },
  {
   "cell_type": "code",
   "execution_count": 28,
   "metadata": {},
   "outputs": [
    {
     "data": {
      "text/plain": [
       "+++ OK, passed 100 tests."
      ]
     },
     "metadata": {},
     "output_type": "display_data"
    }
   ],
   "source": [
    "prop_reverseTwiceId :: [Int] -> Bool\n",
    "prop_reverseTwiceId x = (reverse . reverse) x == x\n",
    "\n",
    "quickCheck prop_reverseTwiceId"
   ]
  },
  {
   "cell_type": "markdown",
   "metadata": {},
   "source": [
    "8. Write a property for the definition of `$`:"
   ]
  },
  {
   "cell_type": "code",
   "execution_count": 29,
   "metadata": {},
   "outputs": [
    {
     "data": {
      "text/plain": [
       "+++ OK, passed 100 tests."
      ]
     },
     "metadata": {},
     "output_type": "display_data"
    },
    {
     "data": {
      "text/plain": [
       "+++ OK, passed 100 tests."
      ]
     },
     "metadata": {},
     "output_type": "display_data"
    }
   ],
   "source": [
    "import Test.QuickCheck.Function\n",
    "\n",
    "prop_dollarApply :: (Eq a) => Fun a a -> a -> Bool\n",
    "prop_dollarApply (Fn f) a = (f $ a) == f a\n",
    "\n",
    "prop_dollarCompose :: (Eq a) => Fun a a -> Fun a a -> a -> Bool\n",
    "prop_dollarCompose (Fn f) (Fn g) x = (f . g) x == (\\x' -> f (g x')) x\n",
    "\n",
    "quickCheck prop_dollarApply\n",
    "quickCheck prop_dollarCompose"
   ]
  },
  {
   "cell_type": "markdown",
   "metadata": {},
   "source": [
    "9. See if these two functions are equal:"
   ]
  },
  {
   "cell_type": "code",
   "execution_count": 30,
   "metadata": {},
   "outputs": [
    {
     "data": {
      "text/plain": [
       "+++ OK, passed 100 tests."
      ]
     },
     "metadata": {},
     "output_type": "display_data"
    },
    {
     "data": {
      "text/plain": [
       "+++ OK, passed 100 tests."
      ]
     },
     "metadata": {},
     "output_type": "display_data"
    }
   ],
   "source": [
    "prop_foldConsEqualsAppend xs ys = foldr (:) xs ys == (++) xs ys\n",
    "prop_foldAppendEqualsConcat xs = foldr (++) [] xs == concat xs\n",
    "\n",
    "quickCheck prop_foldConsEqualsAppend\n",
    "quickCheck prop_foldAppendEqualsConcat"
   ]
  },
  {
   "cell_type": "markdown",
   "metadata": {},
   "source": [
    "10. Hmm. Is that so?"
   ]
  },
  {
   "cell_type": "code",
   "execution_count": 14,
   "metadata": {},
   "outputs": [
    {
     "data": {
      "text/plain": [
       "*** Failed! Falsified (after 2 tests):\n",
       "()\n",
       "1\n",
       "[]"
      ]
     },
     "metadata": {},
     "output_type": "display_data"
    }
   ],
   "source": [
    "prop_lengthTake f n xs = length (take n xs) == n\n",
    "quickCheck prop_lengthTake"
   ]
  },
  {
   "cell_type": "markdown",
   "metadata": {},
   "source": [
    "11. Finally, this is a fun one. You may remember we had you compose read and show one time to complete a “round trip.” Well, now you can test that it works:"
   ]
  },
  {
   "cell_type": "code",
   "execution_count": 15,
   "metadata": {},
   "outputs": [
    {
     "data": {
      "text/plain": [
       "+++ OK, passed 100 tests."
      ]
     },
     "metadata": {},
     "output_type": "display_data"
    }
   ],
   "source": [
    "prop_readShow f x = read (show x) == x\n",
    "quickCheck prop_readShow"
   ]
  },
  {
   "cell_type": "markdown",
   "metadata": {},
   "source": [
    "### Failure\n",
    "Find out why this property fails:"
   ]
  },
  {
   "cell_type": "code",
   "execution_count": 16,
   "metadata": {},
   "outputs": [
    {
     "data": {
      "text/plain": [
       "*** Failed! Falsified (after 3 tests and 3 shrinks):\n",
       "-1.0e-2"
      ]
     },
     "metadata": {},
     "output_type": "display_data"
    }
   ],
   "source": [
    "-- for a function\n",
    "square x = x * x\n",
    "-- Why does this property not hold?\n",
    "-- Examine the type of sqrt.\n",
    "squareIdentity = square . sqrt\n",
    "\n",
    "prop_squareIdentity x = (square . sqrt) x == x\n",
    "quickCheck prop_squareIdentity"
   ]
  },
  {
   "cell_type": "markdown",
   "metadata": {},
   "source": [
    "### Idempotence\n",
    "Use QuickCheck and the following helper functions to demonstrate idempotence for the following:"
   ]
  },
  {
   "cell_type": "code",
   "execution_count": 17,
   "metadata": {},
   "outputs": [],
   "source": [
    "twice f = f . f\n",
    "fourTimes = twice . twice"
   ]
  },
  {
   "cell_type": "markdown",
   "metadata": {},
   "source": [
    "1."
   ]
  },
  {
   "cell_type": "code",
   "execution_count": 18,
   "metadata": {},
   "outputs": [
    {
     "data": {
      "text/plain": [
       "+++ OK, passed 100 tests."
      ]
     },
     "metadata": {},
     "output_type": "display_data"
    }
   ],
   "source": [
    "import Data.Char\n",
    "\n",
    "capitalizeWord :: String -> String\n",
    "capitalizeWord = fmap toUpper\n",
    "\n",
    "prop_idempotence x = (capitalizeWord x == twice capitalizeWord x) \n",
    "  && (capitalizeWord x == fourTimes capitalizeWord x)\n",
    "quickCheck prop_idempotence"
   ]
  },
  {
   "cell_type": "markdown",
   "metadata": {},
   "source": [
    "2."
   ]
  },
  {
   "cell_type": "code",
   "execution_count": 19,
   "metadata": {},
   "outputs": [
    {
     "data": {
      "text/plain": [
       "+++ OK, passed 100 tests."
      ]
     },
     "metadata": {},
     "output_type": "display_data"
    }
   ],
   "source": [
    "prop_idempotence x = (sort x == twice sort x) && (sort x == fourTimes sort x)\n",
    "quickCheck prop_idempotence"
   ]
  },
  {
   "cell_type": "markdown",
   "metadata": {},
   "source": [
    "### Make a Gen random generator for the datatype\n",
    "Make `Gen` generators for different datatypes:\n",
    "1. Equal probabilities for each:"
   ]
  },
  {
   "cell_type": "code",
   "execution_count": 20,
   "metadata": {},
   "outputs": [
    {
     "data": {
      "text/plain": [
       "Fulse\n",
       "Fulse\n",
       "Fulse\n",
       "Frue\n",
       "Frue\n",
       "Fulse\n",
       "Frue\n",
       "Frue\n",
       "Frue\n",
       "Fulse\n",
       "Frue"
      ]
     },
     "metadata": {},
     "output_type": "display_data"
    }
   ],
   "source": [
    "data Fool = Fulse | Frue deriving (Eq, Show)\n",
    "\n",
    "fooler :: Gen Fool\n",
    "fooler = oneof [return Fulse, return Frue]\n",
    "  \n",
    "sample fooler"
   ]
  },
  {
   "cell_type": "markdown",
   "metadata": {},
   "source": [
    "2. 2/3s chance of Fulse, 1/3 chance of Frue:"
   ]
  },
  {
   "cell_type": "code",
   "execution_count": 21,
   "metadata": {},
   "outputs": [
    {
     "data": {
      "text/plain": [
       "Frue\n",
       "Fulse\n",
       "Fulse\n",
       "Frue\n",
       "Fulse\n",
       "Fulse\n",
       "Frue\n",
       "Fulse\n",
       "Frue\n",
       "Fulse\n",
       "Fulse"
      ]
     },
     "metadata": {},
     "output_type": "display_data"
    }
   ],
   "source": [
    "data Fool = Fulse | Frue deriving (Eq, Show)\n",
    "\n",
    "fooler :: Gen Fool\n",
    "fooler = frequency [(2, return Fulse), (1, return Frue)]\n",
    "  \n",
    "sample fooler"
   ]
  },
  {
   "cell_type": "markdown",
   "metadata": {},
   "source": [
    "### Hangman testing"
   ]
  },
  {
   "cell_type": "code",
   "execution_count": 22,
   "metadata": {},
   "outputs": [],
   "source": [
    "data Puzzle = Puzzle String [Maybe Char] [Char]\n",
    "\n",
    "charInWord :: Puzzle -> Char -> Bool\n",
    "charInWord (Puzzle word _ _) c = elem c word\n",
    "\n",
    "alreadyGuessed :: Puzzle -> Char -> Bool\n",
    "alreadyGuessed (Puzzle _ _ guessed) c = elem c guessed\n",
    "\n",
    "fillInCharacter :: Puzzle -> Char -> Puzzle\n",
    "fillInCharacter (Puzzle word filledInSoFar s) c = Puzzle word newFilledInSoFar (c : s)\n",
    "  where zipper guessed wordChar guessChar = \n",
    "          if wordChar == guessed \n",
    "          then Just wordChar \n",
    "          else guessChar\n",
    "        newFilledInSoFar = \n",
    "          let zd = zipper c\n",
    "          in zipWith zd word filledInSoFar\n",
    "\n",
    "handleGuess :: Puzzle -> Char -> IO Puzzle\n",
    "handleGuess puzzle guess = do\n",
    "  putStrLn (\"Your guess was: \" ++ [guess])\n",
    "  return puzzle\n",
    "  case (charInWord puzzle guess, alreadyGuessed puzzle guess) of\n",
    "    (_, True) -> do\n",
    "      putStrLn \"You already guessed that, pick something else!\"\n",
    "      return puzzle\n",
    "    (True, _) -> do\n",
    "      putStrLn \"Great guess! That's in, filling it accordingly.\"\n",
    "      return (fillInCharacter puzzle guess)\n",
    "    (False, _) -> do\n",
    "      putStrLn \"Too bad! This isn't in the word, try again.\"\n",
    "      return (fillInCharacter puzzle guess)"
   ]
  },
  {
   "cell_type": "code",
   "execution_count": 31,
   "metadata": {},
   "outputs": [
    {
     "ename": "",
     "evalue": "",
     "output_type": "error",
     "traceback": [
      "<interactive>:4:5: error:\n    • Couldn't match expected type ‘String -> Expectation -> hspec-core-2.7.1:Test.Hspec.Core.Spec.Monad.SpecM () a0’ with actual type ‘()’\n    • The function ‘it’ is applied to one argument,\n      but its type ‘()’ has none\n      In the expression: it \"ignores bad guess\"\n      In a stmt of a 'do' block:\n        it \"ignores bad guess\"\n          $ do let word = \"puzzle\"\n               let puzzle = newPuzzle word\n               let puzzle' = Puzzle word (map (const Nothing) word) ...\n               fillInCharacter puzzle 'x' `shouldBe` puzzle'\n<interactive>:10:5: error:\n    • Couldn't match expected type ‘String -> Expectation -> hspec-core-2.7.1:Test.Hspec.Core.Spec.Monad.SpecM () ()’ with actual type ‘()’\n    • The function ‘it’ is applied to one argument,\n      but its type ‘()’ has none\n      In the expression: it \"takes good guess\"\n      In a stmt of a 'do' block:\n        it \"takes good guess\"\n          $ do let word = \"puzzle\"\n               let puzzle = newPuzzle word\n               let discovered = (Just 'p') : tail (map (const Nothing) word)\n               let puzzle' = Puzzle word discovered ...\n               ....\n<interactive>:18:5: error:\n    • Couldn't match expected type ‘String -> IO () -> hspec-core-2.7.1:Test.Hspec.Core.Spec.Monad.SpecM () a1’ with actual type ‘()’\n    • The function ‘it’ is applied to one argument,\n      but its type ‘()’ has none\n      In the expression: it \"ignores bad guess\"\n      In a stmt of a 'do' block:\n        it \"ignores bad guess\"\n          $ do let word = \"puzzle\"\n               let puzzle = newPuzzle word\n               let puzzle' = Puzzle word (map (const Nothing) word) ...\n               result <- handleGuess puzzle 'x'\n               ....\n<interactive>:25:5: error:\n    • Couldn't match expected type ‘String -> IO () -> hspec-core-2.7.1:Test.Hspec.Core.Spec.Monad.SpecM () ()’ with actual type ‘()’\n    • The function ‘it’ is applied to one argument,\n      but its type ‘()’ has none\n      In the expression: it \"takes good guess\"\n      In a stmt of a 'do' block:\n        it \"takes good guess\"\n          $ do let word = \"puzzle\"\n               let puzzle = newPuzzle word\n               let discovered = (Just 'p') : tail (map (const Nothing) word)\n               let puzzle' = Puzzle word discovered ...\n               ....\n<interactive>:6:20: error: Variable not in scope: newPuzzle :: String -> t\n<interactive>:12:20: error: Variable not in scope: newPuzzle :: String -> t\n<interactive>:20:20: error: Variable not in scope: newPuzzle :: String -> t\n<interactive>:27:20: error: Variable not in scope: newPuzzle :: String -> t"
     ]
    }
   ],
   "source": [
    "hspec $ do\n",
    "  describe \"fillInCharacter\" $ do\n",
    "    it \"ignores bad guess\" $ do\n",
    "      let word = \"puzzle\"\n",
    "      let puzzle = newPuzzle word\n",
    "      let puzzle' = Puzzle word (map (const Nothing) word) ['x']\n",
    "      fillInCharacter puzzle 'x' `shouldBe` puzzle'\n",
    "\n",
    "    it \"takes good guess\" $ do\n",
    "      let word = \"puzzle\"\n",
    "      let puzzle = newPuzzle word\n",
    "      let discovered = (Just 'p') : tail (map (const Nothing) word)\n",
    "      let puzzle' = Puzzle word discovered ['p']\n",
    "      fillInCharacter puzzle 'p' `shouldBe` puzzle'\n",
    "\n",
    "  describe \"handleGuess\" $ do\n",
    "    it \"ignores bad guess\" $ do\n",
    "      let word = \"puzzle\"\n",
    "      let puzzle = newPuzzle word\n",
    "      let puzzle' = Puzzle word (map (const Nothing) word) ['x']\n",
    "      result <- handleGuess puzzle 'x'\n",
    "      result `shouldBe` puzzle'\n",
    "\n",
    "    it \"takes good guess\" $ do\n",
    "      let word = \"puzzle\"\n",
    "      let puzzle = newPuzzle word\n",
    "      let discovered = (Just 'p') : tail (map (const Nothing) word)\n",
    "      let puzzle' = Puzzle word discovered ['p']\n",
    "      result <- handleGuess puzzle 'p'\n",
    "      result `shouldBe` puzzle'"
   ]
  },
  {
   "cell_type": "markdown",
   "metadata": {},
   "source": [
    "### Validating ciphers\n",
    "As a final exercise, create QuickCheck properties that verify that your Caesar and Vigenère ciphers return the same data after encoding and decoding a string."
   ]
  },
  {
   "cell_type": "code",
   "execution_count": 24,
   "metadata": {},
   "outputs": [
    {
     "data": {
      "text/plain": [
       "+++ OK, passed 100 tests."
      ]
     },
     "metadata": {},
     "output_type": "display_data"
    },
    {
     "data": {
      "text/plain": [
       "+++ OK, passed 100 tests."
      ]
     },
     "metadata": {},
     "output_type": "display_data"
    },
    {
     "ename": "",
     "evalue": "",
     "output_type": "error",
     "traceback": [
      "<interactive>:2:11: error:\n    • Variable not in scope: genLetters :: Gen String\n    • Perhaps you meant ‘genLetter’ (line 22)"
     ]
    }
   ],
   "source": [
    "import Data.Char (chr, ord, toUpper)\n",
    "\n",
    "\n",
    "type PlainText = String\n",
    "type CipherText = String\n",
    "\n",
    "\n",
    "vigenère :: String -> PlainText -> CipherText\n",
    "vigenère secret = zipWith (shift (+)) (cycle secret) . concat . words . capitalize\n",
    "\n",
    "unvigenère :: String -> CipherText -> PlainText\n",
    "unvigenère secret = zipWith (shift (-)) (cycle secret) . concat . words . capitalize\n",
    "\n",
    "capitalize = fmap toUpper\n",
    "\n",
    "shift :: (Int -> Int -> Int) -> Char -> Char -> Char\n",
    "shift op offset ch = numToChar $ charToNum ch `op` charToNum offset\n",
    "  where\n",
    "    charToNum ch = ord ch - ord 'A'\n",
    "    numToChar n = chr $ (n `mod` 26) + ord 'A'\n",
    "    \n",
    "\n",
    "cæsar :: Int -> PlainText -> CipherText\n",
    "cæsar secret = map\n",
    "  (((chr . (\\x -> if x >= lastOrd then x - 26 else x)) . (+secret)) . ord)\n",
    "  \n",
    "uncæsar :: Int -> CipherText -> PlainText\n",
    "uncæsar secret = map\n",
    "  (((chr . (\\x -> if x < firstOrd then x + 26 else x)) . (\\x -> x - secret)) . ord)\n",
    "\n",
    "firstOrd = ord 'a'\n",
    "lastOrd = firstOrd + 26\n",
    "\n",
    "\n",
    "genLetter :: Gen Char\n",
    "genLetter = elements ['a' .. 'z']\n",
    "\n",
    "genText :: Gen String\n",
    "genText = listOf genLetter\n",
    "\n",
    "\n",
    "quickCheck $\n",
    "  forAll (arbitrary :: Gen Int) $ \\ k ->\n",
    "  forAll genText (\\x -> (cæsar k . uncæsar k) x ==  x)\n",
    "quickCheck $\n",
    "  forAll (arbitrary :: Gen Int) $ \\ k ->\n",
    "  forAll genText (\\x -> (uncæsar k . cæsar k) x ==  x)\n",
    "quickCheck $\n",
    "  forAll (genLetters `suchThat` (not . null)) $ \\ k ->\n",
    "  forAll genText (\\x -> (capitalize . vigenère k . unvigenère k) x == capitalize x)\n",
    "quickCheck $\n",
    "  forAll (genLetters `suchThat` (not . null)) $ \\ k ->\n",
    "  forAll genText (\\x -> (capitalize . unvigenère k . vigenère k) x == capitalize x)"
   ]
  }
 ],
 "metadata": {
  "kernelspec": {
   "display_name": "Haskell",
   "language": "haskell",
   "name": "haskell"
  },
  "language_info": {
   "codemirror_mode": "ihaskell",
   "file_extension": ".hs",
   "name": "haskell",
   "pygments_lexer": "Haskell",
   "version": "8.6.5"
  }
 },
 "nbformat": 4,
 "nbformat_minor": 4
}
