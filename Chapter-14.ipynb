{
 "cells": [
  {
   "cell_type": "code",
   "execution_count": null,
   "metadata": {},
   "outputs": [],
   "source": [
    ":opt no-lint"
   ]
  },
  {
   "cell_type": "code",
   "execution_count": 3,
   "metadata": {},
   "outputs": [],
   "source": [
    "import Test.Hspec\n",
    "import Test.QuickCheck"
   ]
  },
  {
   "cell_type": "markdown",
   "metadata": {},
   "source": [
    "# Chapter 14. Testing\n",
    "## 14.1 Testing\n",
    "* principle of testing.\n",
    "* testing libraries `hspec` and `QuickCheck`.\n",
    "\n",
    "## 14.2 A quick tour of testing for the uninitiated\n",
    "Categories:\n",
    "* unit testing (spec testing is a variant)\n",
    "* property testing\n",
    "\n",
    "## 14.3 Conventional testing\n",
    "`hspec` is based on monadic actions. \n",
    "Write a function that multiplies two numbers using recursive summation. The type should be (Eq a, Num a) => a -> a -> a, and then write hspec tests for it."
   ]
  },
  {
   "cell_type": "markdown",
   "metadata": {},
   "source": [
    "## 14.4 Enter QuickCheck\n",
    "`QuickCheck` was the first library to offer property testing. It requires concrete types in properties. The number of tests runs defaults to 100.\n",
    "### Arbitrary instances\n",
    "`QuickCheck` contains:\n",
    "* a type class called `Arbitrary`. It is unprincipled because it has no laws.\n",
    "nothing specific it’s supposed to do\n",
    "* a newtype called `Gen` for generating its random data.\n",
    "\n",
    "`arbitrary` is a value of type `Gen`. `sample` uses it to output random data.\n",
    "`IO` allow to use a global resource of random values to generate the data.\n",
    "We can use `QuickCheck` without `hspec` by means of `prop_additionGreater`.\n",
    "## 14.5 Morse code\n",
    "## 14.6Arbitrary instances\n",
    "One of the more important parts of becoming an expert user of `QuickCheck` is learning to write instances of the `Arbitrary` type class for your datatypes."
   ]
  },
  {
   "cell_type": "markdown",
   "metadata": {},
   "source": [
    "## 14.7 Chapter exercises\n",
    "Fill in the test cases that print question marks. If you think of additional tests you could perform, add them"
   ]
  },
  {
   "cell_type": "code",
   "execution_count": 2,
   "metadata": {},
   "outputs": [
    {
     "data": {
      "text/html": [
       "<style>/* Styles used for the Hoogle display in the pager */\n",
       ".hoogle-doc {\n",
       "display: block;\n",
       "padding-bottom: 1.3em;\n",
       "padding-left: 0.4em;\n",
       "}\n",
       ".hoogle-code {\n",
       "display: block;\n",
       "font-family: monospace;\n",
       "white-space: pre;\n",
       "}\n",
       ".hoogle-text {\n",
       "display: block;\n",
       "}\n",
       ".hoogle-name {\n",
       "color: green;\n",
       "font-weight: bold;\n",
       "}\n",
       ".hoogle-head {\n",
       "font-weight: bold;\n",
       "}\n",
       ".hoogle-sub {\n",
       "display: block;\n",
       "margin-left: 0.4em;\n",
       "}\n",
       ".hoogle-package {\n",
       "font-weight: bold;\n",
       "font-style: italic;\n",
       "}\n",
       ".hoogle-module {\n",
       "font-weight: bold;\n",
       "}\n",
       ".hoogle-class {\n",
       "font-weight: bold;\n",
       "}\n",
       ".get-type {\n",
       "color: green;\n",
       "font-weight: bold;\n",
       "font-family: monospace;\n",
       "display: block;\n",
       "white-space: pre-wrap;\n",
       "}\n",
       ".show-type {\n",
       "color: green;\n",
       "font-weight: bold;\n",
       "font-family: monospace;\n",
       "margin-left: 1em;\n",
       "}\n",
       ".mono {\n",
       "font-family: monospace;\n",
       "display: block;\n",
       "}\n",
       ".err-msg {\n",
       "color: red;\n",
       "font-style: italic;\n",
       "font-family: monospace;\n",
       "white-space: pre;\n",
       "display: block;\n",
       "}\n",
       "#unshowable {\n",
       "color: red;\n",
       "font-weight: bold;\n",
       "}\n",
       ".err-msg.in.collapse {\n",
       "padding-top: 0.7em;\n",
       "}\n",
       ".highlight-code {\n",
       "white-space: pre;\n",
       "font-family: monospace;\n",
       "}\n",
       ".suggestion-warning { \n",
       "font-weight: bold;\n",
       "color: rgb(200, 130, 0);\n",
       "}\n",
       ".suggestion-error { \n",
       "font-weight: bold;\n",
       "color: red;\n",
       "}\n",
       ".suggestion-name {\n",
       "font-weight: bold;\n",
       "}\n",
       "</style><div class=\"suggestion-name\" style=\"clear:both;\">Redundant do</div><div class=\"suggestion-row\" style=\"float: left;\"><div class=\"suggestion-warning\">Found:</div><div class=\"highlight-code\" id=\"haskell\">do digitToWord 0 `shouldBe` \"zero\"</div></div><div class=\"suggestion-row\" style=\"float: left;\"><div class=\"suggestion-warning\">Why Not:</div><div class=\"highlight-code\" id=\"haskell\">digitToWord 0 `shouldBe` \"zero\"</div></div><div class=\"suggestion-name\" style=\"clear:both;\">Redundant do</div><div class=\"suggestion-row\" style=\"float: left;\"><div class=\"suggestion-warning\">Found:</div><div class=\"highlight-code\" id=\"haskell\">do print \"???\"</div></div><div class=\"suggestion-row\" style=\"float: left;\"><div class=\"suggestion-warning\">Why Not:</div><div class=\"highlight-code\" id=\"haskell\">print \"???\"</div></div><div class=\"suggestion-name\" style=\"clear:both;\">Redundant do</div><div class=\"suggestion-row\" style=\"float: left;\"><div class=\"suggestion-warning\">Found:</div><div class=\"highlight-code\" id=\"haskell\">do digits 1 `shouldBe` [1]</div></div><div class=\"suggestion-row\" style=\"float: left;\"><div class=\"suggestion-warning\">Why Not:</div><div class=\"highlight-code\" id=\"haskell\">digits 1 `shouldBe` [1]</div></div><div class=\"suggestion-name\" style=\"clear:both;\">Redundant do</div><div class=\"suggestion-row\" style=\"float: left;\"><div class=\"suggestion-warning\">Found:</div><div class=\"highlight-code\" id=\"haskell\">do print \"???\"</div></div><div class=\"suggestion-row\" style=\"float: left;\"><div class=\"suggestion-warning\">Why Not:</div><div class=\"highlight-code\" id=\"haskell\">print \"???\"</div></div><div class=\"suggestion-name\" style=\"clear:both;\">Redundant do</div><div class=\"suggestion-row\" style=\"float: left;\"><div class=\"suggestion-warning\">Found:</div><div class=\"highlight-code\" id=\"haskell\">do wordNumber 100</div></div><div class=\"suggestion-row\" style=\"float: left;\"><div class=\"suggestion-warning\">Why Not:</div><div class=\"highlight-code\" id=\"haskell\">wordNumber 100</div></div><div class=\"suggestion-name\" style=\"clear:both;\">Redundant do</div><div class=\"suggestion-row\" style=\"float: left;\"><div class=\"suggestion-warning\">Found:</div><div class=\"highlight-code\" id=\"haskell\">do print \"???\"</div></div><div class=\"suggestion-row\" style=\"float: left;\"><div class=\"suggestion-warning\">Why Not:</div><div class=\"highlight-code\" id=\"haskell\">print \"???\"</div></div>"
      ],
      "text/plain": [
       "Line 7: Redundant do\n",
       "Found:\n",
       "do digitToWord 0 `shouldBe` \"zero\"\n",
       "Why not:\n",
       "digitToWord 0 `shouldBe` \"zero\"Line 9: Redundant do\n",
       "Found:\n",
       "do print \"???\"\n",
       "Why not:\n",
       "print \"???\"Line 12: Redundant do\n",
       "Found:\n",
       "do digits 1 `shouldBe` [1]\n",
       "Why not:\n",
       "digits 1 `shouldBe` [1]Line 14: Redundant do\n",
       "Found:\n",
       "do print \"???\"\n",
       "Why not:\n",
       "print \"???\"Line 17: Redundant do\n",
       "Found:\n",
       "do wordNumber 100\n",
       "Why not:\n",
       "wordNumber 100Line 20: Redundant do\n",
       "Found:\n",
       "do print \"???\"\n",
       "Why not:\n",
       "print \"???\""
      ]
     },
     "metadata": {},
     "output_type": "display_data"
    },
    {
     "ename": "",
     "evalue": "",
     "output_type": "error",
     "traceback": [
      "<interactive>:1:1: error:\n    Could not find module ‘Test.Hspec’\n    Use -v to see a list of the files searched for."
     ]
    }
   ],
   "source": [
    "import WordNumber (digitToWord, digits, wordNumber)\n",
    "\n",
    "main :: IO ()\n",
    "main = hspec $ do\n",
    "  describe \"digitToWord\" $ do\n",
    "    it \"returns zero for 0\" $ do\n",
    "      digitToWord 0 `shouldBe` \"zero\"\n",
    "    it \"returns one for 1\" $ do\n",
    "      digitToWord 1 `shouldBe` \"one\"\n",
    "  describe \"digits\" $ do\n",
    "    it \"returns [1] for 1\" $ do\n",
    "      digits 1 `shouldBe` [1]\n",
    "    it \"returns [1, 0, 0] for 100\" $ do\n",
    "      digits 100 `shouldBe` [1, 0, 0]\n",
    "  describe \"wordNumber\" $ do\n",
    "    it \"one-zero-zero given 100\" $ do\n",
    "      wordNumber 100 `shouldBe` \"one-zero-zero\"\n",
    "    it \"nine-zero-zero-one for 9001\" $ do\n",
    "      wordNumber 9001 `shouldBe` \"nine-zero-zero-one\"\n",
    "    \n",
    "main"
   ]
  },
  {
   "cell_type": "markdown",
   "metadata": {},
   "source": [
    "### Using QuickCheck\n",
    "Test some basic properties using QuickCheck:\n",
    "1."
   ]
  },
  {
   "cell_type": "code",
   "execution_count": 15,
   "metadata": {},
   "outputs": [
    {
     "data": {
      "text/plain": [
       "+++ OK, passed 100 tests."
      ]
     },
     "metadata": {},
     "output_type": "display_data"
    }
   ],
   "source": [
    "-- for a function\n",
    "half x = x / 2\n",
    "-- this property should hold\n",
    "halfIdentity = (*2) . half\n",
    "\n",
    "prop_halfIdentity :: (Fractional a, Eq a) => a -> Bool\n",
    "prop_halfIdentity x = halfIdentity x == x\n",
    "\n",
    "quickCheck prop_halfIdentity"
   ]
  },
  {
   "cell_type": "markdown",
   "metadata": {},
   "source": [
    "2."
   ]
  },
  {
   "cell_type": "code",
   "execution_count": 17,
   "metadata": {},
   "outputs": [
    {
     "data": {
      "text/plain": [
       "+++ OK, passed 100 tests."
      ]
     },
     "metadata": {},
     "output_type": "display_data"
    }
   ],
   "source": [
    "import Data.List (sort)\n",
    "\n",
    "-- for any list you apply sort to,\n",
    "-- this property should hold\n",
    "listOrdered :: (Ord a) => [a] -> Bool\n",
    "listOrdered xs = snd $ foldr go (Nothing, True) xs\n",
    "  where go _ status@(_, False) = status\n",
    "        go y (Nothing, t) = (Just y, t)\n",
    "        go y (Just x, t) = (Just y, x >= y)\n",
    "    \n",
    "quickCheck listOrdered"
   ]
  },
  {
   "cell_type": "markdown",
   "metadata": {},
   "source": [
    "3. Now, we’ll test the associative and commutative properties of addition. Keep in mind, these properties won’t hold for types based on IEEE-754 floating point numbers, such as `Float` or `Double`."
   ]
  },
  {
   "cell_type": "code",
   "execution_count": 18,
   "metadata": {},
   "outputs": [
    {
     "data": {
      "text/plain": [
       "+++ OK, passed 100 tests."
      ]
     },
     "metadata": {},
     "output_type": "display_data"
    },
    {
     "data": {
      "text/plain": [
       "+++ OK, passed 100 tests."
      ]
     },
     "metadata": {},
     "output_type": "display_data"
    }
   ],
   "source": [
    "plusAssociative x y z = x + (y + z) == (x + y) + z\n",
    "\n",
    "plusCommutative x y = x + y == y + x\n",
    "\n",
    "quickCheck plusAssociative\n",
    "quickCheck plusCommutative"
   ]
  },
  {
   "cell_type": "markdown",
   "metadata": {},
   "source": [
    "4. Now do the same for multiplication."
   ]
  },
  {
   "cell_type": "code",
   "execution_count": 19,
   "metadata": {},
   "outputs": [
    {
     "data": {
      "text/plain": [
       "+++ OK, passed 100 tests."
      ]
     },
     "metadata": {},
     "output_type": "display_data"
    },
    {
     "data": {
      "text/plain": [
       "+++ OK, passed 100 tests."
      ]
     },
     "metadata": {},
     "output_type": "display_data"
    }
   ],
   "source": [
    "plusAssociative x y z = x * (y * z) == (x * y) * z\n",
    "\n",
    "plusCommutative x y = x * y == y * x\n",
    "\n",
    "quickCheck plusAssociative\n",
    "quickCheck plusCommutative"
   ]
  },
  {
   "cell_type": "markdown",
   "metadata": {},
   "source": [
    "5. We mentioned in one of the first chapters that there are some laws involving the relationships of `quot` to `rem` and `div` to `mod`.\n",
    "Write `QuickCheck` tests to prove them:"
   ]
  },
  {
   "cell_type": "code",
   "execution_count": 39,
   "metadata": {},
   "outputs": [
    {
     "data": {
      "text/html": [
       "<style>/* Styles used for the Hoogle display in the pager */\n",
       ".hoogle-doc {\n",
       "display: block;\n",
       "padding-bottom: 1.3em;\n",
       "padding-left: 0.4em;\n",
       "}\n",
       ".hoogle-code {\n",
       "display: block;\n",
       "font-family: monospace;\n",
       "white-space: pre;\n",
       "}\n",
       ".hoogle-text {\n",
       "display: block;\n",
       "}\n",
       ".hoogle-name {\n",
       "color: green;\n",
       "font-weight: bold;\n",
       "}\n",
       ".hoogle-head {\n",
       "font-weight: bold;\n",
       "}\n",
       ".hoogle-sub {\n",
       "display: block;\n",
       "margin-left: 0.4em;\n",
       "}\n",
       ".hoogle-package {\n",
       "font-weight: bold;\n",
       "font-style: italic;\n",
       "}\n",
       ".hoogle-module {\n",
       "font-weight: bold;\n",
       "}\n",
       ".hoogle-class {\n",
       "font-weight: bold;\n",
       "}\n",
       ".get-type {\n",
       "color: green;\n",
       "font-weight: bold;\n",
       "font-family: monospace;\n",
       "display: block;\n",
       "white-space: pre-wrap;\n",
       "}\n",
       ".show-type {\n",
       "color: green;\n",
       "font-weight: bold;\n",
       "font-family: monospace;\n",
       "margin-left: 1em;\n",
       "}\n",
       ".mono {\n",
       "font-family: monospace;\n",
       "display: block;\n",
       "}\n",
       ".err-msg {\n",
       "color: red;\n",
       "font-style: italic;\n",
       "font-family: monospace;\n",
       "white-space: pre;\n",
       "display: block;\n",
       "}\n",
       "#unshowable {\n",
       "color: red;\n",
       "font-weight: bold;\n",
       "}\n",
       ".err-msg.in.collapse {\n",
       "padding-top: 0.7em;\n",
       "}\n",
       ".highlight-code {\n",
       "white-space: pre;\n",
       "font-family: monospace;\n",
       "}\n",
       ".suggestion-warning { \n",
       "font-weight: bold;\n",
       "color: rgb(200, 130, 0);\n",
       "}\n",
       ".suggestion-error { \n",
       "font-weight: bold;\n",
       "color: red;\n",
       "}\n",
       ".suggestion-name {\n",
       "font-weight: bold;\n",
       "}\n",
       "</style><div class=\"suggestion-name\" style=\"clear:both;\">Use camelCase</div><div class=\"suggestion-row\" style=\"float: left;\"><div class=\"suggestion-warning\">Found:</div><div class=\"highlight-code\" id=\"haskell\">quotRem_prop x (Positive y) = ...</div></div><div class=\"suggestion-row\" style=\"float: left;\"><div class=\"suggestion-warning\">Why Not:</div><div class=\"highlight-code\" id=\"haskell\">quotRemProp x (Positive y) = ...</div></div><div class=\"suggestion-name\" style=\"clear:both;\">Redundant bracket</div><div class=\"suggestion-row\" style=\"float: left;\"><div class=\"suggestion-warning\">Found:</div><div class=\"highlight-code\" id=\"haskell\">(quot x y) * y</div></div><div class=\"suggestion-row\" style=\"float: left;\"><div class=\"suggestion-warning\">Why Not:</div><div class=\"highlight-code\" id=\"haskell\">quot x y * y</div></div><div class=\"suggestion-name\" style=\"clear:both;\">Redundant bracket</div><div class=\"suggestion-row\" style=\"float: left;\"><div class=\"suggestion-warning\">Found:</div><div class=\"highlight-code\" id=\"haskell\">(quot x y) * y + (rem x y)</div></div><div class=\"suggestion-row\" style=\"float: left;\"><div class=\"suggestion-warning\">Why Not:</div><div class=\"highlight-code\" id=\"haskell\">(quot x y) * y + rem x y</div></div><div class=\"suggestion-name\" style=\"clear:both;\">Use camelCase</div><div class=\"suggestion-row\" style=\"float: left;\"><div class=\"suggestion-warning\">Found:</div><div class=\"highlight-code\" id=\"haskell\">divMod_prop x (Positive y) = ...</div></div><div class=\"suggestion-row\" style=\"float: left;\"><div class=\"suggestion-warning\">Why Not:</div><div class=\"highlight-code\" id=\"haskell\">divModProp x (Positive y) = ...</div></div><div class=\"suggestion-name\" style=\"clear:both;\">Redundant bracket</div><div class=\"suggestion-row\" style=\"float: left;\"><div class=\"suggestion-warning\">Found:</div><div class=\"highlight-code\" id=\"haskell\">(div x y) * y</div></div><div class=\"suggestion-row\" style=\"float: left;\"><div class=\"suggestion-warning\">Why Not:</div><div class=\"highlight-code\" id=\"haskell\">div x y * y</div></div><div class=\"suggestion-name\" style=\"clear:both;\">Redundant bracket</div><div class=\"suggestion-row\" style=\"float: left;\"><div class=\"suggestion-warning\">Found:</div><div class=\"highlight-code\" id=\"haskell\">(div x y) * y + (mod x y)</div></div><div class=\"suggestion-row\" style=\"float: left;\"><div class=\"suggestion-warning\">Why Not:</div><div class=\"highlight-code\" id=\"haskell\">(div x y) * y + mod x y</div></div>"
      ],
      "text/plain": [
       "Line 2: Use camelCase\n",
       "Found:\n",
       "quotRem_prop x (Positive y) = ...\n",
       "Why not:\n",
       "quotRemProp x (Positive y) = ...Line 2: Redundant bracket\n",
       "Found:\n",
       "(quot x y) * y\n",
       "Why not:\n",
       "quot x y * yLine 2: Redundant bracket\n",
       "Found:\n",
       "(quot x y) * y + (rem x y)\n",
       "Why not:\n",
       "(quot x y) * y + rem x yLine 5: Use camelCase\n",
       "Found:\n",
       "divMod_prop x (Positive y) = ...\n",
       "Why not:\n",
       "divModProp x (Positive y) = ...Line 5: Redundant bracket\n",
       "Found:\n",
       "(div x y) * y\n",
       "Why not:\n",
       "div x y * yLine 5: Redundant bracket\n",
       "Found:\n",
       "(div x y) * y + (mod x y)\n",
       "Why not:\n",
       "(div x y) * y + mod x y"
      ]
     },
     "metadata": {},
     "output_type": "display_data"
    },
    {
     "data": {
      "text/plain": [
       "+++ OK, passed 100 tests."
      ]
     },
     "metadata": {},
     "output_type": "display_data"
    },
    {
     "data": {
      "text/plain": [
       "+++ OK, passed 100 tests."
      ]
     },
     "metadata": {},
     "output_type": "display_data"
    }
   ],
   "source": [
    "quotRem_prop :: (Integral a) => a -> Positive a -> Bool\n",
    "quotRem_prop x (Positive y) = (quot x y) * y + (rem x y) == x\n",
    "\n",
    "divMod_prop :: (Integral a) => a -> Positive a -> Bool\n",
    "divMod_prop x (Positive y) = (div x y) * y + (mod x y) == x\n",
    "\n",
    "quickCheck quotRem_prop\n",
    "quickCheck divMod_prop"
   ]
  },
  {
   "cell_type": "markdown",
   "metadata": {},
   "source": [
    "6. Is the `^` operation associative? Is it commutative? Use `QuickCheck` to see if the computer can contradict such an assertion."
   ]
  },
  {
   "cell_type": "code",
   "execution_count": 41,
   "metadata": {},
   "outputs": [
    {
     "data": {
      "text/html": [
       "<style>/* Styles used for the Hoogle display in the pager */\n",
       ".hoogle-doc {\n",
       "display: block;\n",
       "padding-bottom: 1.3em;\n",
       "padding-left: 0.4em;\n",
       "}\n",
       ".hoogle-code {\n",
       "display: block;\n",
       "font-family: monospace;\n",
       "white-space: pre;\n",
       "}\n",
       ".hoogle-text {\n",
       "display: block;\n",
       "}\n",
       ".hoogle-name {\n",
       "color: green;\n",
       "font-weight: bold;\n",
       "}\n",
       ".hoogle-head {\n",
       "font-weight: bold;\n",
       "}\n",
       ".hoogle-sub {\n",
       "display: block;\n",
       "margin-left: 0.4em;\n",
       "}\n",
       ".hoogle-package {\n",
       "font-weight: bold;\n",
       "font-style: italic;\n",
       "}\n",
       ".hoogle-module {\n",
       "font-weight: bold;\n",
       "}\n",
       ".hoogle-class {\n",
       "font-weight: bold;\n",
       "}\n",
       ".get-type {\n",
       "color: green;\n",
       "font-weight: bold;\n",
       "font-family: monospace;\n",
       "display: block;\n",
       "white-space: pre-wrap;\n",
       "}\n",
       ".show-type {\n",
       "color: green;\n",
       "font-weight: bold;\n",
       "font-family: monospace;\n",
       "margin-left: 1em;\n",
       "}\n",
       ".mono {\n",
       "font-family: monospace;\n",
       "display: block;\n",
       "}\n",
       ".err-msg {\n",
       "color: red;\n",
       "font-style: italic;\n",
       "font-family: monospace;\n",
       "white-space: pre;\n",
       "display: block;\n",
       "}\n",
       "#unshowable {\n",
       "color: red;\n",
       "font-weight: bold;\n",
       "}\n",
       ".err-msg.in.collapse {\n",
       "padding-top: 0.7em;\n",
       "}\n",
       ".highlight-code {\n",
       "white-space: pre;\n",
       "font-family: monospace;\n",
       "}\n",
       ".suggestion-warning { \n",
       "font-weight: bold;\n",
       "color: rgb(200, 130, 0);\n",
       "}\n",
       ".suggestion-error { \n",
       "font-weight: bold;\n",
       "color: red;\n",
       "}\n",
       ".suggestion-name {\n",
       "font-weight: bold;\n",
       "}\n",
       "</style><div class=\"suggestion-name\" style=\"clear:both;\">Use camelCase</div><div class=\"suggestion-row\" style=\"float: left;\"><div class=\"suggestion-warning\">Found:</div><div class=\"highlight-code\" id=\"haskell\">commutative_prop x y = ...</div></div><div class=\"suggestion-row\" style=\"float: left;\"><div class=\"suggestion-warning\">Why Not:</div><div class=\"highlight-code\" id=\"haskell\">commutativeProp x y = ...</div></div>"
      ],
      "text/plain": [
       "Line 1: Use camelCase\n",
       "Found:\n",
       "commutative_prop x y = ...\n",
       "Why not:\n",
       "commutativeProp x y = ..."
      ]
     },
     "metadata": {},
     "output_type": "display_data"
    },
    {
     "data": {
      "text/plain": [
       "*** Failed! Falsified (after 2 tests):\n",
       "1\n",
       "0"
      ]
     },
     "metadata": {},
     "output_type": "display_data"
    }
   ],
   "source": [
    "commutative_prop x y = x ^ y == y ^ x\n",
    "\n",
    "quickCheck commutative_prop"
   ]
  },
  {
   "cell_type": "markdown",
   "metadata": {},
   "source": [
    "7. Test that reversing a list twice is the same as the identity of the original list:"
   ]
  },
  {
   "cell_type": "code",
   "execution_count": 48,
   "metadata": {},
   "outputs": [
    {
     "data": {
      "text/html": [
       "<style>/* Styles used for the Hoogle display in the pager */\n",
       ".hoogle-doc {\n",
       "display: block;\n",
       "padding-bottom: 1.3em;\n",
       "padding-left: 0.4em;\n",
       "}\n",
       ".hoogle-code {\n",
       "display: block;\n",
       "font-family: monospace;\n",
       "white-space: pre;\n",
       "}\n",
       ".hoogle-text {\n",
       "display: block;\n",
       "}\n",
       ".hoogle-name {\n",
       "color: green;\n",
       "font-weight: bold;\n",
       "}\n",
       ".hoogle-head {\n",
       "font-weight: bold;\n",
       "}\n",
       ".hoogle-sub {\n",
       "display: block;\n",
       "margin-left: 0.4em;\n",
       "}\n",
       ".hoogle-package {\n",
       "font-weight: bold;\n",
       "font-style: italic;\n",
       "}\n",
       ".hoogle-module {\n",
       "font-weight: bold;\n",
       "}\n",
       ".hoogle-class {\n",
       "font-weight: bold;\n",
       "}\n",
       ".get-type {\n",
       "color: green;\n",
       "font-weight: bold;\n",
       "font-family: monospace;\n",
       "display: block;\n",
       "white-space: pre-wrap;\n",
       "}\n",
       ".show-type {\n",
       "color: green;\n",
       "font-weight: bold;\n",
       "font-family: monospace;\n",
       "margin-left: 1em;\n",
       "}\n",
       ".mono {\n",
       "font-family: monospace;\n",
       "display: block;\n",
       "}\n",
       ".err-msg {\n",
       "color: red;\n",
       "font-style: italic;\n",
       "font-family: monospace;\n",
       "white-space: pre;\n",
       "display: block;\n",
       "}\n",
       "#unshowable {\n",
       "color: red;\n",
       "font-weight: bold;\n",
       "}\n",
       ".err-msg.in.collapse {\n",
       "padding-top: 0.7em;\n",
       "}\n",
       ".highlight-code {\n",
       "white-space: pre;\n",
       "font-family: monospace;\n",
       "}\n",
       ".suggestion-warning { \n",
       "font-weight: bold;\n",
       "color: rgb(200, 130, 0);\n",
       "}\n",
       ".suggestion-error { \n",
       "font-weight: bold;\n",
       "color: red;\n",
       "}\n",
       ".suggestion-name {\n",
       "font-weight: bold;\n",
       "}\n",
       "</style><div class=\"suggestion-name\" style=\"clear:both;\">Use camelCase</div><div class=\"suggestion-row\" style=\"float: left;\"><div class=\"suggestion-warning\">Found:</div><div class=\"highlight-code\" id=\"haskell\">reverseTwiceId_prop x = ...</div></div><div class=\"suggestion-row\" style=\"float: left;\"><div class=\"suggestion-warning\">Why Not:</div><div class=\"highlight-code\" id=\"haskell\">reverseTwiceIdProp x = ...</div></div><div class=\"suggestion-name\" style=\"clear:both;\">Avoid reverse</div><div class=\"suggestion-row\" style=\"float: left;\"><div class=\"suggestion-warning\">Found:</div><div class=\"highlight-code\" id=\"haskell\">reverse . reverse</div></div><div class=\"suggestion-row\" style=\"float: left;\"><div class=\"suggestion-warning\">Why Not:</div><div class=\"highlight-code\" id=\"haskell\">id</div></div>"
      ],
      "text/plain": [
       "Line 2: Use camelCase\n",
       "Found:\n",
       "reverseTwiceId_prop x = ...\n",
       "Why not:\n",
       "reverseTwiceIdProp x = ...Line 2: Avoid reverse\n",
       "Found:\n",
       "reverse . reverse\n",
       "Why not:\n",
       "id"
      ]
     },
     "metadata": {},
     "output_type": "display_data"
    },
    {
     "data": {
      "text/plain": [
       "+++ OK, passed 100 tests."
      ]
     },
     "metadata": {},
     "output_type": "display_data"
    }
   ],
   "source": [
    "reverseTwiceId_prop :: [Int] -> Bool\n",
    "reverseTwiceId_prop x = (reverse . reverse) x == x\n",
    "\n",
    "quickCheck reverseTwiceId_prop"
   ]
  },
  {
   "cell_type": "markdown",
   "metadata": {},
   "source": [
    "8. Write a property for the definition of `$`:"
   ]
  },
  {
   "cell_type": "code",
   "execution_count": 68,
   "metadata": {},
   "outputs": [
    {
     "data": {
      "text/html": [
       "<style>/* Styles used for the Hoogle display in the pager */\n",
       ".hoogle-doc {\n",
       "display: block;\n",
       "padding-bottom: 1.3em;\n",
       "padding-left: 0.4em;\n",
       "}\n",
       ".hoogle-code {\n",
       "display: block;\n",
       "font-family: monospace;\n",
       "white-space: pre;\n",
       "}\n",
       ".hoogle-text {\n",
       "display: block;\n",
       "}\n",
       ".hoogle-name {\n",
       "color: green;\n",
       "font-weight: bold;\n",
       "}\n",
       ".hoogle-head {\n",
       "font-weight: bold;\n",
       "}\n",
       ".hoogle-sub {\n",
       "display: block;\n",
       "margin-left: 0.4em;\n",
       "}\n",
       ".hoogle-package {\n",
       "font-weight: bold;\n",
       "font-style: italic;\n",
       "}\n",
       ".hoogle-module {\n",
       "font-weight: bold;\n",
       "}\n",
       ".hoogle-class {\n",
       "font-weight: bold;\n",
       "}\n",
       ".get-type {\n",
       "color: green;\n",
       "font-weight: bold;\n",
       "font-family: monospace;\n",
       "display: block;\n",
       "white-space: pre-wrap;\n",
       "}\n",
       ".show-type {\n",
       "color: green;\n",
       "font-weight: bold;\n",
       "font-family: monospace;\n",
       "margin-left: 1em;\n",
       "}\n",
       ".mono {\n",
       "font-family: monospace;\n",
       "display: block;\n",
       "}\n",
       ".err-msg {\n",
       "color: red;\n",
       "font-style: italic;\n",
       "font-family: monospace;\n",
       "white-space: pre;\n",
       "display: block;\n",
       "}\n",
       "#unshowable {\n",
       "color: red;\n",
       "font-weight: bold;\n",
       "}\n",
       ".err-msg.in.collapse {\n",
       "padding-top: 0.7em;\n",
       "}\n",
       ".highlight-code {\n",
       "white-space: pre;\n",
       "font-family: monospace;\n",
       "}\n",
       ".suggestion-warning { \n",
       "font-weight: bold;\n",
       "color: rgb(200, 130, 0);\n",
       "}\n",
       ".suggestion-error { \n",
       "font-weight: bold;\n",
       "color: red;\n",
       "}\n",
       ".suggestion-name {\n",
       "font-weight: bold;\n",
       "}\n",
       "</style><div class=\"suggestion-name\" style=\"clear:both;\">Use camelCase</div><div class=\"suggestion-row\" style=\"float: left;\"><div class=\"suggestion-warning\">Found:</div><div class=\"highlight-code\" id=\"haskell\">dollarApply_prop (Fn f) a = ...</div></div><div class=\"suggestion-row\" style=\"float: left;\"><div class=\"suggestion-warning\">Why Not:</div><div class=\"highlight-code\" id=\"haskell\">dollarApplyProp (Fn f) a = ...</div></div><div class=\"suggestion-name\" style=\"clear:both;\">Redundant $</div><div class=\"suggestion-row\" style=\"float: left;\"><div class=\"suggestion-warning\">Found:</div><div class=\"highlight-code\" id=\"haskell\">f \\$ a</div></div><div class=\"suggestion-row\" style=\"float: left;\"><div class=\"suggestion-warning\">Why Not:</div><div class=\"highlight-code\" id=\"haskell\">f a</div></div><div class=\"suggestion-name\" style=\"clear:both;\">Use camelCase</div><div class=\"suggestion-row\" style=\"float: left;\"><div class=\"suggestion-warning\">Found:</div><div class=\"highlight-code\" id=\"haskell\">dollarCompose_prop (Fn f) (Fn g) x = ...</div></div><div class=\"suggestion-row\" style=\"float: left;\"><div class=\"suggestion-warning\">Why Not:</div><div class=\"highlight-code\" id=\"haskell\">dollarComposeProp (Fn f) (Fn g) x = ...</div></div><div class=\"suggestion-name\" style=\"clear:both;\">Avoid lambda</div><div class=\"suggestion-row\" style=\"float: left;\"><div class=\"suggestion-warning\">Found:</div><div class=\"highlight-code\" id=\"haskell\">\\ x' -> f (g x')</div></div><div class=\"suggestion-row\" style=\"float: left;\"><div class=\"suggestion-warning\">Why Not:</div><div class=\"highlight-code\" id=\"haskell\">f . g</div></div>"
      ],
      "text/plain": [
       "Line 4: Use camelCase\n",
       "Found:\n",
       "dollarApply_prop (Fn f) a = ...\n",
       "Why not:\n",
       "dollarApplyProp (Fn f) a = ...Line 4: Redundant $\n",
       "Found:\n",
       "f $ a\n",
       "Why not:\n",
       "f aLine 7: Use camelCase\n",
       "Found:\n",
       "dollarCompose_prop (Fn f) (Fn g) x = ...\n",
       "Why not:\n",
       "dollarComposeProp (Fn f) (Fn g) x = ...Line 7: Avoid lambda\n",
       "Found:\n",
       "\\ x' -> f (g x')\n",
       "Why not:\n",
       "f . g"
      ]
     },
     "metadata": {},
     "output_type": "display_data"
    },
    {
     "data": {
      "text/plain": [
       "+++ OK, passed 100 tests."
      ]
     },
     "metadata": {},
     "output_type": "display_data"
    },
    {
     "data": {
      "text/plain": [
       "+++ OK, passed 100 tests."
      ]
     },
     "metadata": {},
     "output_type": "display_data"
    }
   ],
   "source": [
    "import Test.QuickCheck.Function\n",
    "\n",
    "dollarApply_prop :: (Eq a) => Fun a a -> a -> Bool\n",
    "dollarApply_prop (Fn f) a = (f $ a) == f a\n",
    "\n",
    "dollarCompose_prop :: (Eq a) => Fun a a -> Fun a a -> a -> Bool\n",
    "dollarCompose_prop (Fn f) (Fn g) x = (f . g) x == (\\x' -> f (g x')) x\n",
    "\n",
    "quickCheck dollarApply_prop\n",
    "quickCheck dollarCompose_prop"
   ]
  },
  {
   "cell_type": "markdown",
   "metadata": {},
   "source": [
    "9. See if these two functions are equal:"
   ]
  },
  {
   "cell_type": "code",
   "execution_count": 72,
   "metadata": {},
   "outputs": [
    {
     "data": {
      "text/html": [
       "<style>/* Styles used for the Hoogle display in the pager */\n",
       ".hoogle-doc {\n",
       "display: block;\n",
       "padding-bottom: 1.3em;\n",
       "padding-left: 0.4em;\n",
       "}\n",
       ".hoogle-code {\n",
       "display: block;\n",
       "font-family: monospace;\n",
       "white-space: pre;\n",
       "}\n",
       ".hoogle-text {\n",
       "display: block;\n",
       "}\n",
       ".hoogle-name {\n",
       "color: green;\n",
       "font-weight: bold;\n",
       "}\n",
       ".hoogle-head {\n",
       "font-weight: bold;\n",
       "}\n",
       ".hoogle-sub {\n",
       "display: block;\n",
       "margin-left: 0.4em;\n",
       "}\n",
       ".hoogle-package {\n",
       "font-weight: bold;\n",
       "font-style: italic;\n",
       "}\n",
       ".hoogle-module {\n",
       "font-weight: bold;\n",
       "}\n",
       ".hoogle-class {\n",
       "font-weight: bold;\n",
       "}\n",
       ".get-type {\n",
       "color: green;\n",
       "font-weight: bold;\n",
       "font-family: monospace;\n",
       "display: block;\n",
       "white-space: pre-wrap;\n",
       "}\n",
       ".show-type {\n",
       "color: green;\n",
       "font-weight: bold;\n",
       "font-family: monospace;\n",
       "margin-left: 1em;\n",
       "}\n",
       ".mono {\n",
       "font-family: monospace;\n",
       "display: block;\n",
       "}\n",
       ".err-msg {\n",
       "color: red;\n",
       "font-style: italic;\n",
       "font-family: monospace;\n",
       "white-space: pre;\n",
       "display: block;\n",
       "}\n",
       "#unshowable {\n",
       "color: red;\n",
       "font-weight: bold;\n",
       "}\n",
       ".err-msg.in.collapse {\n",
       "padding-top: 0.7em;\n",
       "}\n",
       ".highlight-code {\n",
       "white-space: pre;\n",
       "font-family: monospace;\n",
       "}\n",
       ".suggestion-warning { \n",
       "font-weight: bold;\n",
       "color: rgb(200, 130, 0);\n",
       "}\n",
       ".suggestion-error { \n",
       "font-weight: bold;\n",
       "color: red;\n",
       "}\n",
       ".suggestion-name {\n",
       "font-weight: bold;\n",
       "}\n",
       "</style><div class=\"suggestion-name\" style=\"clear:both;\">Use camelCase</div><div class=\"suggestion-row\" style=\"float: left;\"><div class=\"suggestion-warning\">Found:</div><div class=\"highlight-code\" id=\"haskell\">foldConsEqualsAppend_prop xs ys = ...</div></div><div class=\"suggestion-row\" style=\"float: left;\"><div class=\"suggestion-warning\">Why Not:</div><div class=\"highlight-code\" id=\"haskell\">foldConsEqualsAppendProp xs ys = ...</div></div><div class=\"suggestion-name\" style=\"clear:both;\">Use camelCase</div><div class=\"suggestion-row\" style=\"float: left;\"><div class=\"suggestion-warning\">Found:</div><div class=\"highlight-code\" id=\"haskell\">foldAppendEqualsConcat_prop xs = ...</div></div><div class=\"suggestion-row\" style=\"float: left;\"><div class=\"suggestion-warning\">Why Not:</div><div class=\"highlight-code\" id=\"haskell\">foldAppendEqualsConcatProp xs = ...</div></div><div class=\"suggestion-name\" style=\"clear:both;\">Use concat</div><div class=\"suggestion-row\" style=\"float: left;\"><div class=\"suggestion-warning\">Found:</div><div class=\"highlight-code\" id=\"haskell\">foldr (++) []</div></div><div class=\"suggestion-row\" style=\"float: left;\"><div class=\"suggestion-warning\">Why Not:</div><div class=\"highlight-code\" id=\"haskell\">concat</div></div>"
      ],
      "text/plain": [
       "Line 1: Use camelCase\n",
       "Found:\n",
       "foldConsEqualsAppend_prop xs ys = ...\n",
       "Why not:\n",
       "foldConsEqualsAppendProp xs ys = ...Line 2: Use camelCase\n",
       "Found:\n",
       "foldAppendEqualsConcat_prop xs = ...\n",
       "Why not:\n",
       "foldAppendEqualsConcatProp xs = ...Line 2: Use concat\n",
       "Found:\n",
       "foldr (++) []\n",
       "Why not:\n",
       "concat"
      ]
     },
     "metadata": {},
     "output_type": "display_data"
    },
    {
     "data": {
      "text/plain": [
       "+++ OK, passed 100 tests."
      ]
     },
     "metadata": {},
     "output_type": "display_data"
    },
    {
     "data": {
      "text/plain": [
       "+++ OK, passed 100 tests."
      ]
     },
     "metadata": {},
     "output_type": "display_data"
    }
   ],
   "source": [
    "foldConsEqualsAppend_prop xs ys = foldr (:) xs ys == (++) xs ys\n",
    "foldAppendEqualsConcat_prop xs = foldr (++) [] xs == concat xs\n",
    "\n",
    "quickCheck foldConsEqualsAppend_prop\n",
    "quickCheck foldAppendEqualsConcat_prop"
   ]
  },
  {
   "cell_type": "markdown",
   "metadata": {},
   "source": [
    "10. Hmm. Is that so?"
   ]
  },
  {
   "cell_type": "code",
   "execution_count": 74,
   "metadata": {},
   "outputs": [
    {
     "data": {
      "text/html": [
       "<style>/* Styles used for the Hoogle display in the pager */\n",
       ".hoogle-doc {\n",
       "display: block;\n",
       "padding-bottom: 1.3em;\n",
       "padding-left: 0.4em;\n",
       "}\n",
       ".hoogle-code {\n",
       "display: block;\n",
       "font-family: monospace;\n",
       "white-space: pre;\n",
       "}\n",
       ".hoogle-text {\n",
       "display: block;\n",
       "}\n",
       ".hoogle-name {\n",
       "color: green;\n",
       "font-weight: bold;\n",
       "}\n",
       ".hoogle-head {\n",
       "font-weight: bold;\n",
       "}\n",
       ".hoogle-sub {\n",
       "display: block;\n",
       "margin-left: 0.4em;\n",
       "}\n",
       ".hoogle-package {\n",
       "font-weight: bold;\n",
       "font-style: italic;\n",
       "}\n",
       ".hoogle-module {\n",
       "font-weight: bold;\n",
       "}\n",
       ".hoogle-class {\n",
       "font-weight: bold;\n",
       "}\n",
       ".get-type {\n",
       "color: green;\n",
       "font-weight: bold;\n",
       "font-family: monospace;\n",
       "display: block;\n",
       "white-space: pre-wrap;\n",
       "}\n",
       ".show-type {\n",
       "color: green;\n",
       "font-weight: bold;\n",
       "font-family: monospace;\n",
       "margin-left: 1em;\n",
       "}\n",
       ".mono {\n",
       "font-family: monospace;\n",
       "display: block;\n",
       "}\n",
       ".err-msg {\n",
       "color: red;\n",
       "font-style: italic;\n",
       "font-family: monospace;\n",
       "white-space: pre;\n",
       "display: block;\n",
       "}\n",
       "#unshowable {\n",
       "color: red;\n",
       "font-weight: bold;\n",
       "}\n",
       ".err-msg.in.collapse {\n",
       "padding-top: 0.7em;\n",
       "}\n",
       ".highlight-code {\n",
       "white-space: pre;\n",
       "font-family: monospace;\n",
       "}\n",
       ".suggestion-warning { \n",
       "font-weight: bold;\n",
       "color: rgb(200, 130, 0);\n",
       "}\n",
       ".suggestion-error { \n",
       "font-weight: bold;\n",
       "color: red;\n",
       "}\n",
       ".suggestion-name {\n",
       "font-weight: bold;\n",
       "}\n",
       "</style><div class=\"suggestion-name\" style=\"clear:both;\">Use camelCase</div><div class=\"suggestion-row\" style=\"float: left;\"><div class=\"suggestion-warning\">Found:</div><div class=\"highlight-code\" id=\"haskell\">lengthTake_prop f n xs = ...</div></div><div class=\"suggestion-row\" style=\"float: left;\"><div class=\"suggestion-warning\">Why Not:</div><div class=\"highlight-code\" id=\"haskell\">lengthTakeProp f n xs = ...</div></div>"
      ],
      "text/plain": [
       "Line 1: Use camelCase\n",
       "Found:\n",
       "lengthTake_prop f n xs = ...\n",
       "Why not:\n",
       "lengthTakeProp f n xs = ..."
      ]
     },
     "metadata": {},
     "output_type": "display_data"
    },
    {
     "data": {
      "text/plain": [
       "*** Failed! Falsified (after 2 tests):\n",
       "()\n",
       "1\n",
       "[]"
      ]
     },
     "metadata": {},
     "output_type": "display_data"
    }
   ],
   "source": [
    "lengthTake_prop f n xs = length (take n xs) == n\n",
    "quickCheck lengthTake_prop"
   ]
  },
  {
   "cell_type": "markdown",
   "metadata": {},
   "source": [
    "11. Finally, this is a fun one. You may remember we had you compose read and show one time to complete a “round trip.” Well, now you can test that it works:"
   ]
  },
  {
   "cell_type": "code",
   "execution_count": 76,
   "metadata": {},
   "outputs": [
    {
     "data": {
      "text/html": [
       "<style>/* Styles used for the Hoogle display in the pager */\n",
       ".hoogle-doc {\n",
       "display: block;\n",
       "padding-bottom: 1.3em;\n",
       "padding-left: 0.4em;\n",
       "}\n",
       ".hoogle-code {\n",
       "display: block;\n",
       "font-family: monospace;\n",
       "white-space: pre;\n",
       "}\n",
       ".hoogle-text {\n",
       "display: block;\n",
       "}\n",
       ".hoogle-name {\n",
       "color: green;\n",
       "font-weight: bold;\n",
       "}\n",
       ".hoogle-head {\n",
       "font-weight: bold;\n",
       "}\n",
       ".hoogle-sub {\n",
       "display: block;\n",
       "margin-left: 0.4em;\n",
       "}\n",
       ".hoogle-package {\n",
       "font-weight: bold;\n",
       "font-style: italic;\n",
       "}\n",
       ".hoogle-module {\n",
       "font-weight: bold;\n",
       "}\n",
       ".hoogle-class {\n",
       "font-weight: bold;\n",
       "}\n",
       ".get-type {\n",
       "color: green;\n",
       "font-weight: bold;\n",
       "font-family: monospace;\n",
       "display: block;\n",
       "white-space: pre-wrap;\n",
       "}\n",
       ".show-type {\n",
       "color: green;\n",
       "font-weight: bold;\n",
       "font-family: monospace;\n",
       "margin-left: 1em;\n",
       "}\n",
       ".mono {\n",
       "font-family: monospace;\n",
       "display: block;\n",
       "}\n",
       ".err-msg {\n",
       "color: red;\n",
       "font-style: italic;\n",
       "font-family: monospace;\n",
       "white-space: pre;\n",
       "display: block;\n",
       "}\n",
       "#unshowable {\n",
       "color: red;\n",
       "font-weight: bold;\n",
       "}\n",
       ".err-msg.in.collapse {\n",
       "padding-top: 0.7em;\n",
       "}\n",
       ".highlight-code {\n",
       "white-space: pre;\n",
       "font-family: monospace;\n",
       "}\n",
       ".suggestion-warning { \n",
       "font-weight: bold;\n",
       "color: rgb(200, 130, 0);\n",
       "}\n",
       ".suggestion-error { \n",
       "font-weight: bold;\n",
       "color: red;\n",
       "}\n",
       ".suggestion-name {\n",
       "font-weight: bold;\n",
       "}\n",
       "</style><div class=\"suggestion-name\" style=\"clear:both;\">Use camelCase</div><div class=\"suggestion-row\" style=\"float: left;\"><div class=\"suggestion-warning\">Found:</div><div class=\"highlight-code\" id=\"haskell\">readShow_prop f x = ...</div></div><div class=\"suggestion-row\" style=\"float: left;\"><div class=\"suggestion-warning\">Why Not:</div><div class=\"highlight-code\" id=\"haskell\">readShowProp f x = ...</div></div>"
      ],
      "text/plain": [
       "Line 1: Use camelCase\n",
       "Found:\n",
       "readShow_prop f x = ...\n",
       "Why not:\n",
       "readShowProp f x = ..."
      ]
     },
     "metadata": {},
     "output_type": "display_data"
    },
    {
     "data": {
      "text/plain": [
       "+++ OK, passed 100 tests."
      ]
     },
     "metadata": {},
     "output_type": "display_data"
    }
   ],
   "source": [
    "readShow_prop f x = read (show x) == x\n",
    "quickCheck readShow_prop"
   ]
  },
  {
   "cell_type": "markdown",
   "metadata": {},
   "source": [
    "### Failure\n",
    "Find out why this property fails:"
   ]
  },
  {
   "cell_type": "code",
   "execution_count": 77,
   "metadata": {},
   "outputs": [
    {
     "data": {
      "text/html": [
       "<style>/* Styles used for the Hoogle display in the pager */\n",
       ".hoogle-doc {\n",
       "display: block;\n",
       "padding-bottom: 1.3em;\n",
       "padding-left: 0.4em;\n",
       "}\n",
       ".hoogle-code {\n",
       "display: block;\n",
       "font-family: monospace;\n",
       "white-space: pre;\n",
       "}\n",
       ".hoogle-text {\n",
       "display: block;\n",
       "}\n",
       ".hoogle-name {\n",
       "color: green;\n",
       "font-weight: bold;\n",
       "}\n",
       ".hoogle-head {\n",
       "font-weight: bold;\n",
       "}\n",
       ".hoogle-sub {\n",
       "display: block;\n",
       "margin-left: 0.4em;\n",
       "}\n",
       ".hoogle-package {\n",
       "font-weight: bold;\n",
       "font-style: italic;\n",
       "}\n",
       ".hoogle-module {\n",
       "font-weight: bold;\n",
       "}\n",
       ".hoogle-class {\n",
       "font-weight: bold;\n",
       "}\n",
       ".get-type {\n",
       "color: green;\n",
       "font-weight: bold;\n",
       "font-family: monospace;\n",
       "display: block;\n",
       "white-space: pre-wrap;\n",
       "}\n",
       ".show-type {\n",
       "color: green;\n",
       "font-weight: bold;\n",
       "font-family: monospace;\n",
       "margin-left: 1em;\n",
       "}\n",
       ".mono {\n",
       "font-family: monospace;\n",
       "display: block;\n",
       "}\n",
       ".err-msg {\n",
       "color: red;\n",
       "font-style: italic;\n",
       "font-family: monospace;\n",
       "white-space: pre;\n",
       "display: block;\n",
       "}\n",
       "#unshowable {\n",
       "color: red;\n",
       "font-weight: bold;\n",
       "}\n",
       ".err-msg.in.collapse {\n",
       "padding-top: 0.7em;\n",
       "}\n",
       ".highlight-code {\n",
       "white-space: pre;\n",
       "font-family: monospace;\n",
       "}\n",
       ".suggestion-warning { \n",
       "font-weight: bold;\n",
       "color: rgb(200, 130, 0);\n",
       "}\n",
       ".suggestion-error { \n",
       "font-weight: bold;\n",
       "color: red;\n",
       "}\n",
       ".suggestion-name {\n",
       "font-weight: bold;\n",
       "}\n",
       "</style><div class=\"suggestion-name\" style=\"clear:both;\">Use camelCase</div><div class=\"suggestion-row\" style=\"float: left;\"><div class=\"suggestion-warning\">Found:</div><div class=\"highlight-code\" id=\"haskell\">squareIdentity_prop x = ...</div></div><div class=\"suggestion-row\" style=\"float: left;\"><div class=\"suggestion-warning\">Why Not:</div><div class=\"highlight-code\" id=\"haskell\">squareIdentityProp x = ...</div></div>"
      ],
      "text/plain": [
       "Line 7: Use camelCase\n",
       "Found:\n",
       "squareIdentity_prop x = ...\n",
       "Why not:\n",
       "squareIdentityProp x = ..."
      ]
     },
     "metadata": {},
     "output_type": "display_data"
    },
    {
     "data": {
      "text/plain": [
       "*** Failed! Falsified (after 2 tests and 1 shrink):\n",
       "-0.1"
      ]
     },
     "metadata": {},
     "output_type": "display_data"
    }
   ],
   "source": [
    "-- for a function\n",
    "square x = x * x\n",
    "-- Why does this property not hold?\n",
    "-- Examine the type of sqrt.\n",
    "squareIdentity = square . sqrt\n",
    "\n",
    "squareIdentity_prop x = (square . sqrt) x == x\n",
    "quickCheck squareIdentity_prop"
   ]
  },
  {
   "cell_type": "markdown",
   "metadata": {},
   "source": [
    "### Idempotence\n",
    "Use QuickCheck and the following helper functions to demonstrate idempotence for the following:"
   ]
  },
  {
   "cell_type": "code",
   "execution_count": 78,
   "metadata": {},
   "outputs": [],
   "source": [
    "twice f = f . f\n",
    "fourTimes = twice . twice"
   ]
  },
  {
   "cell_type": "markdown",
   "metadata": {},
   "source": [
    "1."
   ]
  },
  {
   "cell_type": "code",
   "execution_count": 83,
   "metadata": {},
   "outputs": [
    {
     "data": {
      "text/html": [
       "<style>/* Styles used for the Hoogle display in the pager */\n",
       ".hoogle-doc {\n",
       "display: block;\n",
       "padding-bottom: 1.3em;\n",
       "padding-left: 0.4em;\n",
       "}\n",
       ".hoogle-code {\n",
       "display: block;\n",
       "font-family: monospace;\n",
       "white-space: pre;\n",
       "}\n",
       ".hoogle-text {\n",
       "display: block;\n",
       "}\n",
       ".hoogle-name {\n",
       "color: green;\n",
       "font-weight: bold;\n",
       "}\n",
       ".hoogle-head {\n",
       "font-weight: bold;\n",
       "}\n",
       ".hoogle-sub {\n",
       "display: block;\n",
       "margin-left: 0.4em;\n",
       "}\n",
       ".hoogle-package {\n",
       "font-weight: bold;\n",
       "font-style: italic;\n",
       "}\n",
       ".hoogle-module {\n",
       "font-weight: bold;\n",
       "}\n",
       ".hoogle-class {\n",
       "font-weight: bold;\n",
       "}\n",
       ".get-type {\n",
       "color: green;\n",
       "font-weight: bold;\n",
       "font-family: monospace;\n",
       "display: block;\n",
       "white-space: pre-wrap;\n",
       "}\n",
       ".show-type {\n",
       "color: green;\n",
       "font-weight: bold;\n",
       "font-family: monospace;\n",
       "margin-left: 1em;\n",
       "}\n",
       ".mono {\n",
       "font-family: monospace;\n",
       "display: block;\n",
       "}\n",
       ".err-msg {\n",
       "color: red;\n",
       "font-style: italic;\n",
       "font-family: monospace;\n",
       "white-space: pre;\n",
       "display: block;\n",
       "}\n",
       "#unshowable {\n",
       "color: red;\n",
       "font-weight: bold;\n",
       "}\n",
       ".err-msg.in.collapse {\n",
       "padding-top: 0.7em;\n",
       "}\n",
       ".highlight-code {\n",
       "white-space: pre;\n",
       "font-family: monospace;\n",
       "}\n",
       ".suggestion-warning { \n",
       "font-weight: bold;\n",
       "color: rgb(200, 130, 0);\n",
       "}\n",
       ".suggestion-error { \n",
       "font-weight: bold;\n",
       "color: red;\n",
       "}\n",
       ".suggestion-name {\n",
       "font-weight: bold;\n",
       "}\n",
       "</style><div class=\"suggestion-name\" style=\"clear:both;\">Use camelCase</div><div class=\"suggestion-row\" style=\"float: left;\"><div class=\"suggestion-warning\">Found:</div><div class=\"highlight-code\" id=\"haskell\">idempotence_prop x = ...</div></div><div class=\"suggestion-row\" style=\"float: left;\"><div class=\"suggestion-warning\">Why Not:</div><div class=\"highlight-code\" id=\"haskell\">idempotenceProp x = ...</div></div>"
      ],
      "text/plain": [
       "Line 6: Use camelCase\n",
       "Found:\n",
       "idempotence_prop x = ...\n",
       "Why not:\n",
       "idempotenceProp x = ..."
      ]
     },
     "metadata": {},
     "output_type": "display_data"
    },
    {
     "data": {
      "text/plain": [
       "+++ OK, passed 100 tests."
      ]
     },
     "metadata": {},
     "output_type": "display_data"
    }
   ],
   "source": [
    "import Data.Char\n",
    "\n",
    "capitalizeWord :: String -> String\n",
    "capitalizeWord = fmap toUpper\n",
    "\n",
    "idempotence_prop x = (capitalizeWord x == twice capitalizeWord x) \n",
    "  && (capitalizeWord x == fourTimes capitalizeWord x)\n",
    "quickCheck idempotence_prop"
   ]
  },
  {
   "cell_type": "markdown",
   "metadata": {},
   "source": [
    "2."
   ]
  },
  {
   "cell_type": "code",
   "execution_count": 84,
   "metadata": {},
   "outputs": [
    {
     "data": {
      "text/html": [
       "<style>/* Styles used for the Hoogle display in the pager */\n",
       ".hoogle-doc {\n",
       "display: block;\n",
       "padding-bottom: 1.3em;\n",
       "padding-left: 0.4em;\n",
       "}\n",
       ".hoogle-code {\n",
       "display: block;\n",
       "font-family: monospace;\n",
       "white-space: pre;\n",
       "}\n",
       ".hoogle-text {\n",
       "display: block;\n",
       "}\n",
       ".hoogle-name {\n",
       "color: green;\n",
       "font-weight: bold;\n",
       "}\n",
       ".hoogle-head {\n",
       "font-weight: bold;\n",
       "}\n",
       ".hoogle-sub {\n",
       "display: block;\n",
       "margin-left: 0.4em;\n",
       "}\n",
       ".hoogle-package {\n",
       "font-weight: bold;\n",
       "font-style: italic;\n",
       "}\n",
       ".hoogle-module {\n",
       "font-weight: bold;\n",
       "}\n",
       ".hoogle-class {\n",
       "font-weight: bold;\n",
       "}\n",
       ".get-type {\n",
       "color: green;\n",
       "font-weight: bold;\n",
       "font-family: monospace;\n",
       "display: block;\n",
       "white-space: pre-wrap;\n",
       "}\n",
       ".show-type {\n",
       "color: green;\n",
       "font-weight: bold;\n",
       "font-family: monospace;\n",
       "margin-left: 1em;\n",
       "}\n",
       ".mono {\n",
       "font-family: monospace;\n",
       "display: block;\n",
       "}\n",
       ".err-msg {\n",
       "color: red;\n",
       "font-style: italic;\n",
       "font-family: monospace;\n",
       "white-space: pre;\n",
       "display: block;\n",
       "}\n",
       "#unshowable {\n",
       "color: red;\n",
       "font-weight: bold;\n",
       "}\n",
       ".err-msg.in.collapse {\n",
       "padding-top: 0.7em;\n",
       "}\n",
       ".highlight-code {\n",
       "white-space: pre;\n",
       "font-family: monospace;\n",
       "}\n",
       ".suggestion-warning { \n",
       "font-weight: bold;\n",
       "color: rgb(200, 130, 0);\n",
       "}\n",
       ".suggestion-error { \n",
       "font-weight: bold;\n",
       "color: red;\n",
       "}\n",
       ".suggestion-name {\n",
       "font-weight: bold;\n",
       "}\n",
       "</style><div class=\"suggestion-name\" style=\"clear:both;\">Use camelCase</div><div class=\"suggestion-row\" style=\"float: left;\"><div class=\"suggestion-warning\">Found:</div><div class=\"highlight-code\" id=\"haskell\">idempotence_prop x = ...</div></div><div class=\"suggestion-row\" style=\"float: left;\"><div class=\"suggestion-warning\">Why Not:</div><div class=\"highlight-code\" id=\"haskell\">idempotenceProp x = ...</div></div>"
      ],
      "text/plain": [
       "Line 1: Use camelCase\n",
       "Found:\n",
       "idempotence_prop x = ...\n",
       "Why not:\n",
       "idempotenceProp x = ..."
      ]
     },
     "metadata": {},
     "output_type": "display_data"
    },
    {
     "data": {
      "text/plain": [
       "+++ OK, passed 100 tests."
      ]
     },
     "metadata": {},
     "output_type": "display_data"
    }
   ],
   "source": [
    "idempotence_prop x = (sort x == twice sort x) && (sort x == fourTimes sort x)\n",
    "quickCheck idempotence_prop"
   ]
  },
  {
   "cell_type": "markdown",
   "metadata": {},
   "source": [
    "### Make a Gen random generator for the datatype\n",
    "Make `Gen` generators for different datatypes:\n",
    "1. Equal probabilities for each:"
   ]
  },
  {
   "cell_type": "code",
   "execution_count": 90,
   "metadata": {},
   "outputs": [
    {
     "data": {
      "text/plain": [
       "Fulse\n",
       "Fulse\n",
       "Frue\n",
       "Fulse\n",
       "Frue\n",
       "Frue\n",
       "Frue\n",
       "Frue\n",
       "Frue\n",
       "Fulse\n",
       "Fulse"
      ]
     },
     "metadata": {},
     "output_type": "display_data"
    }
   ],
   "source": [
    "data Fool = Fulse | Frue deriving (Eq, Show)\n",
    "\n",
    "fooler :: Gen Fool\n",
    "fooler = oneof [return Fulse, return Frue]\n",
    "  \n",
    "sample fooler"
   ]
  },
  {
   "cell_type": "markdown",
   "metadata": {},
   "source": [
    "2. 2/3s chance of Fulse, 1/3 chance of Frue:"
   ]
  },
  {
   "cell_type": "code",
   "execution_count": 93,
   "metadata": {},
   "outputs": [
    {
     "data": {
      "text/plain": [
       "Frue\n",
       "Frue\n",
       "Frue\n",
       "Fulse\n",
       "Frue\n",
       "Fulse\n",
       "Frue\n",
       "Fulse\n",
       "Frue\n",
       "Fulse\n",
       "Fulse"
      ]
     },
     "metadata": {},
     "output_type": "display_data"
    }
   ],
   "source": [
    "data Fool = Fulse | Frue deriving (Eq, Show)\n",
    "\n",
    "fooler :: Gen Fool\n",
    "fooler = frequency [(2, return Fulse), (1, return Frue)]\n",
    "  \n",
    "sample fooler"
   ]
  },
  {
   "cell_type": "markdown",
   "metadata": {},
   "source": [
    "### Hangman testing"
   ]
  },
  {
   "cell_type": "code",
   "execution_count": 116,
   "metadata": {},
   "outputs": [
    {
     "data": {
      "text/html": [
       "<style>/* Styles used for the Hoogle display in the pager */\n",
       ".hoogle-doc {\n",
       "display: block;\n",
       "padding-bottom: 1.3em;\n",
       "padding-left: 0.4em;\n",
       "}\n",
       ".hoogle-code {\n",
       "display: block;\n",
       "font-family: monospace;\n",
       "white-space: pre;\n",
       "}\n",
       ".hoogle-text {\n",
       "display: block;\n",
       "}\n",
       ".hoogle-name {\n",
       "color: green;\n",
       "font-weight: bold;\n",
       "}\n",
       ".hoogle-head {\n",
       "font-weight: bold;\n",
       "}\n",
       ".hoogle-sub {\n",
       "display: block;\n",
       "margin-left: 0.4em;\n",
       "}\n",
       ".hoogle-package {\n",
       "font-weight: bold;\n",
       "font-style: italic;\n",
       "}\n",
       ".hoogle-module {\n",
       "font-weight: bold;\n",
       "}\n",
       ".hoogle-class {\n",
       "font-weight: bold;\n",
       "}\n",
       ".get-type {\n",
       "color: green;\n",
       "font-weight: bold;\n",
       "font-family: monospace;\n",
       "display: block;\n",
       "white-space: pre-wrap;\n",
       "}\n",
       ".show-type {\n",
       "color: green;\n",
       "font-weight: bold;\n",
       "font-family: monospace;\n",
       "margin-left: 1em;\n",
       "}\n",
       ".mono {\n",
       "font-family: monospace;\n",
       "display: block;\n",
       "}\n",
       ".err-msg {\n",
       "color: red;\n",
       "font-style: italic;\n",
       "font-family: monospace;\n",
       "white-space: pre;\n",
       "display: block;\n",
       "}\n",
       "#unshowable {\n",
       "color: red;\n",
       "font-weight: bold;\n",
       "}\n",
       ".err-msg.in.collapse {\n",
       "padding-top: 0.7em;\n",
       "}\n",
       ".highlight-code {\n",
       "white-space: pre;\n",
       "font-family: monospace;\n",
       "}\n",
       ".suggestion-warning { \n",
       "font-weight: bold;\n",
       "color: rgb(200, 130, 0);\n",
       "}\n",
       ".suggestion-error { \n",
       "font-weight: bold;\n",
       "color: red;\n",
       "}\n",
       ".suggestion-name {\n",
       "font-weight: bold;\n",
       "}\n",
       "</style><div class=\"suggestion-name\" style=\"clear:both;\">Use String</div><div class=\"suggestion-row\" style=\"float: left;\"><div class=\"suggestion-warning\">Found:</div><div class=\"highlight-code\" id=\"haskell\">[Char]</div></div><div class=\"suggestion-row\" style=\"float: left;\"><div class=\"suggestion-warning\">Why Not:</div><div class=\"highlight-code\" id=\"haskell\">String</div></div><div class=\"suggestion-name\" style=\"clear:both;\">Use infix</div><div class=\"suggestion-row\" style=\"float: left;\"><div class=\"suggestion-warning\">Found:</div><div class=\"highlight-code\" id=\"haskell\">elem c word</div></div><div class=\"suggestion-row\" style=\"float: left;\"><div class=\"suggestion-warning\">Why Not:</div><div class=\"highlight-code\" id=\"haskell\">c `elem` word</div></div><div class=\"suggestion-name\" style=\"clear:both;\">Use infix</div><div class=\"suggestion-row\" style=\"float: left;\"><div class=\"suggestion-warning\">Found:</div><div class=\"highlight-code\" id=\"haskell\">elem c guessed</div></div><div class=\"suggestion-row\" style=\"float: left;\"><div class=\"suggestion-warning\">Why Not:</div><div class=\"highlight-code\" id=\"haskell\">c `elem` guessed</div></div><div class=\"suggestion-name\" style=\"clear:both;\">Redundant return</div><div class=\"suggestion-row\" style=\"float: left;\"><div class=\"suggestion-warning\">Found:</div><div class=\"highlight-code\" id=\"haskell\">do putStrLn (\"Your guess was: \" ++ [guess])\n",
       "   return puzzle\n",
       "   case (charInWord puzzle guess, alreadyGuessed puzzle guess) of\n",
       "       (_, True) -> do putStrLn\n",
       "                         \"You already guessed that, pick something else!\"\n",
       "                       return puzzle\n",
       "       (True, _) -> do putStrLn\n",
       "                         \"Great guess! That's in, filling it accordingly.\"\n",
       "                       return (fillInCharacter puzzle guess)\n",
       "       (False, _) -> do putStrLn\n",
       "                          \"Too bad! This isn't in the word, try again.\"\n",
       "                        return (fillInCharacter puzzle guess)</div></div><div class=\"suggestion-row\" style=\"float: left;\"><div class=\"suggestion-warning\">Why Not:</div><div class=\"highlight-code\" id=\"haskell\">do putStrLn (\"Your guess was: \" ++ [guess])\n",
       "   case (charInWord puzzle guess, alreadyGuessed puzzle guess) of\n",
       "       (_, True) -> do putStrLn\n",
       "                         \"You already guessed that, pick something else!\"\n",
       "                       return puzzle\n",
       "       (True, _) -> do putStrLn\n",
       "                         \"Great guess! That's in, filling it accordingly.\"\n",
       "                       return (fillInCharacter puzzle guess)\n",
       "       (False, _) -> do putStrLn\n",
       "                          \"Too bad! This isn't in the word, try again.\"\n",
       "                        return (fillInCharacter puzzle guess)</div></div>"
      ],
      "text/plain": [
       "Line 1: Use String\n",
       "Found:\n",
       "[Char]\n",
       "Why not:\n",
       "StringLine 4: Use infix\n",
       "Found:\n",
       "elem c word\n",
       "Why not:\n",
       "c `elem` wordLine 7: Use infix\n",
       "Found:\n",
       "elem c guessed\n",
       "Why not:\n",
       "c `elem` guessedLine 20: Redundant return\n",
       "Found:\n",
       "do putStrLn (\"Your guess was: \" ++ [guess])\n",
       "   return puzzle\n",
       "   case (charInWord puzzle guess, alreadyGuessed puzzle guess) of\n",
       "       (_, True) -> do putStrLn\n",
       "                         \"You already guessed that, pick something else!\"\n",
       "                       return puzzle\n",
       "       (True, _) -> do putStrLn\n",
       "                         \"Great guess! That's in, filling it accordingly.\"\n",
       "                       return (fillInCharacter puzzle guess)\n",
       "       (False, _) -> do putStrLn\n",
       "                          \"Too bad! This isn't in the word, try again.\"\n",
       "                        return (fillInCharacter puzzle guess)\n",
       "Why not:\n",
       "do putStrLn (\"Your guess was: \" ++ [guess])\n",
       "   case (charInWord puzzle guess, alreadyGuessed puzzle guess) of\n",
       "       (_, True) -> do putStrLn\n",
       "                         \"You already guessed that, pick something else!\"\n",
       "                       return puzzle\n",
       "       (True, _) -> do putStrLn\n",
       "                         \"Great guess! That's in, filling it accordingly.\"\n",
       "                       return (fillInCharacter puzzle guess)\n",
       "       (False, _) -> do putStrLn\n",
       "                          \"Too bad! This isn't in the word, try again.\"\n",
       "                        return (fillInCharacter puzzle guess)"
      ]
     },
     "metadata": {},
     "output_type": "display_data"
    }
   ],
   "source": [
    "data Puzzle = Puzzle String [Maybe Char] [Char]\n",
    "\n",
    "charInWord :: Puzzle -> Char -> Bool\n",
    "charInWord (Puzzle word _ _) c = elem c word\n",
    "\n",
    "alreadyGuessed :: Puzzle -> Char -> Bool\n",
    "alreadyGuessed (Puzzle _ _ guessed) c = elem c guessed\n",
    "\n",
    "fillInCharacter :: Puzzle -> Char -> Puzzle\n",
    "fillInCharacter (Puzzle word filledInSoFar s) c = Puzzle word newFilledInSoFar (c : s)\n",
    "  where zipper guessed wordChar guessChar = \n",
    "          if wordChar == guessed \n",
    "          then Just wordChar \n",
    "          else guessChar\n",
    "        newFilledInSoFar = \n",
    "          let zd = zipper c\n",
    "          in zipWith zd word filledInSoFar\n",
    "\n",
    "hspec $ do\n",
    "  describe \"digitToWord\" $ do\n",
    "    it \"returns zero for 0\" $ do\n",
    "      digitToWord 0 `shouldBe` \"zero\"\n",
    "    it \"returns one for 1\" $ do\n",
    "      digitToWord 1 `shouldBe` \"one\"\n",
    "  describe \"digits\" $ do\n",
    "    it \"returns [1] for 1\" $ do\n",
    "      digits 1 `shouldBe` [1]\n",
    "    it \"returns [1, 0, 0] for 100\" $ do\n",
    "      digits 100 `shouldBe` [1, 0, 0]\n",
    "  describe \"wordNumber\" $ do\n",
    "    it \"one-zero-zero given 100\" $ do\n",
    "      wordNumber 100 `shouldBe` \"one-zero-zero\"\n",
    "    it \"nine-zero-zero-one for 9001\" $ do\n",
    "      wordNumber 9001 `shouldBe` \"nine-zero-zero-one\"\n",
    "\n",
    "handleGuess :: Puzzle -> Char -> IO Puzzle\n",
    "handleGuess puzzle guess = do\n",
    "  putStrLn (\"Your guess was: \" ++ [guess])\n",
    "  return puzzle\n",
    "  case (charInWord puzzle guess, alreadyGuessed puzzle guess) of\n",
    "    (_, True) -> do\n",
    "      putStrLn \"You already guessed that, pick something else!\"\n",
    "      return puzzle\n",
    "    (True, _) -> do\n",
    "      putStrLn \"Great guess! That's in, filling it accordingly.\"\n",
    "      return (fillInCharacter puzzle guess)\n",
    "    (False, _) -> do\n",
    "      putStrLn \"Too bad! This isn't in the word, try again.\"\n",
    "      return (fillInCharacter puzzle guess)"
   ]
  },
  {
   "cell_type": "code",
   "execution_count": null,
   "metadata": {},
   "outputs": [],
   "source": [
    "hspec $ do\n",
    "\n",
    "  describe \"fillInCharacter\" $ do\n",
    "    it \"ignores bad guess\" $ do\n",
    "      let word = \"puzzle\"\n",
    "      let puzzle = newPuzzle word\n",
    "      let puzzle' = Puzzle word (map (const Nothing) word) ['x']\n",
    "      fillInCharacter puzzle 'x' `shouldBe` puzzle'\n",
    "\n",
    "    it \"takes good guess\" $ do\n",
    "      let word = \"puzzle\"\n",
    "      let puzzle = newPuzzle word\n",
    "      let discovered = (Just 'p') : tail (map (const Nothing) word)\n",
    "      let puzzle' = Puzzle word discovered ['p']\n",
    "      fillInCharacter puzzle 'p' `shouldBe` puzzle'\n",
    "\n",
    "  describe \"handleGuess\" $ do\n",
    "    it \"ignores bad guess\" $ do\n",
    "      let word = \"puzzle\"\n",
    "      let puzzle = newPuzzle word\n",
    "      let puzzle' = Puzzle word (map (const Nothing) word) ['x']\n",
    "      result <- handleGuess puzzle 'x'\n",
    "      result `shouldBe` puzzle'\n",
    "\n",
    "    it \"takes good guess\" $ do\n",
    "      let word = \"puzzle\"\n",
    "      let puzzle = newPuzzle word\n",
    "      let discovered = (Just 'p') : tail (map (const Nothing) word)\n",
    "      let puzzle' = Puzzle word discovered ['p']\n",
    "      result <- handleGuess puzzle 'p'\n",
    "      result `shouldBe` puzzle'"
   ]
  },
  {
   "cell_type": "markdown",
   "metadata": {},
   "source": [
    "### Validating ciphers\n",
    "As a final exercise, create QuickCheck properties that verify that your Caesar and Vigenère ciphers return the same data after encoding and decoding a string."
   ]
  },
  {
   "cell_type": "code",
   "execution_count": 107,
   "metadata": {},
   "outputs": [
    {
     "data": {
      "text/plain": [
       "+++ OK, passed 100 tests."
      ]
     },
     "metadata": {},
     "output_type": "display_data"
    },
    {
     "data": {
      "text/plain": [
       "+++ OK, passed 100 tests."
      ]
     },
     "metadata": {},
     "output_type": "display_data"
    },
    {
     "data": {
      "text/plain": [
       "+++ OK, passed 100 tests."
      ]
     },
     "metadata": {},
     "output_type": "display_data"
    },
    {
     "data": {
      "text/plain": [
       "+++ OK, passed 100 tests."
      ]
     },
     "metadata": {},
     "output_type": "display_data"
    }
   ],
   "source": [
    "import Data.Char (chr, ord, toUpper)\n",
    "\n",
    "\n",
    "type PlainText = String\n",
    "type CipherText = String\n",
    "\n",
    "\n",
    "vigenère :: String -> PlainText -> CipherText\n",
    "vigenère secret = zipWith (shift (+)) (cycle secret) . concat . words . capitalize\n",
    "\n",
    "unvigenère :: String -> CipherText -> PlainText\n",
    "unvigenère secret = zipWith (shift (-)) (cycle secret) . concat . words . capitalize\n",
    "\n",
    "capitalize = fmap toUpper\n",
    "\n",
    "shift :: (Int -> Int -> Int) -> Char -> Char -> Char\n",
    "shift op offset ch = numToChar $ charToNum ch `op` charToNum offset\n",
    "  where\n",
    "    charToNum ch = ord ch - ord 'A'\n",
    "    numToChar n = chr $ (n `mod` 26) + ord 'A'\n",
    "    \n",
    "\n",
    "cæsar :: Int -> PlainText -> CipherText\n",
    "cæsar secret = map\n",
    "  (((chr . (\\x -> if x >= lastOrd then x - 26 else x)) . (+secret)) . ord)\n",
    "  \n",
    "uncæsar :: Int -> CipherText -> PlainText\n",
    "uncæsar secret = map\n",
    "  (((chr . (\\x -> if x < firstOrd then x + 26 else x)) . (\\x -> x - secret)) . ord)\n",
    "\n",
    "firstOrd = ord 'a'\n",
    "lastOrd = firstOrd + 26\n",
    "\n",
    "\n",
    "genLetter :: Gen Char\n",
    "genLetter = elements ['a' .. 'z']\n",
    "\n",
    "genText :: Gen String\n",
    "genText = listOf genLetter\n",
    "\n",
    "\n",
    "quickCheck $\n",
    "  forAll (arbitrary :: Gen Int) $ \\ k ->\n",
    "  forAll genText (\\x -> (cæsar k . uncæsar k) x ==  x)\n",
    "quickCheck $\n",
    "  forAll (arbitrary :: Gen Int) $ \\ k ->\n",
    "  forAll genText (\\x -> (uncæsar k . cæsar k) x ==  x)\n",
    "quickCheck $\n",
    "  forAll (genLetters `suchThat` (not . null)) $ \\ k ->\n",
    "  forAll genText (\\x -> (capitalize . vigenère k . unvigenère k) x == capitalize x)\n",
    "quickCheck $\n",
    "  forAll (genLetters `suchThat` (not . null)) $ \\ k ->\n",
    "  forAll genText (\\x -> (capitalize . unvigenère k . vigenère k) x == capitalize x)"
   ]
  }
 ],
 "metadata": {
  "kernelspec": {
   "display_name": "Haskell",
   "language": "haskell",
   "name": "haskell"
  },
  "language_info": {
   "codemirror_mode": "ihaskell",
   "file_extension": ".hs",
   "name": "haskell",
   "pygments_lexer": "Haskell",
   "version": "8.6.5"
  }
 },
 "nbformat": 4,
 "nbformat_minor": 4
}
