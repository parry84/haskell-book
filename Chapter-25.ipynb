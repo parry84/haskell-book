{
 "cells": [
  {
   "cell_type": "code",
   "execution_count": 1,
   "metadata": {},
   "outputs": [],
   "source": [
    ":opt no-lint"
   ]
  },
  {
   "cell_type": "markdown",
   "metadata": {},
   "source": [
    "# 25 Composing Types\n",
    "## 25.1 Composing types\n",
    "Functors and applicatives are both closed under composition: composing two functors (or two applicatives) results into another functor (or applicative). But composing two monads may not result into another monad.\n",
    "However, composing monads may be desirable, as different monads allow us to work with different effects.\n",
    "A monad transformer is a variant of an ordinary type that takes an additional type argument that is assumed to have a `Monad` instance. The transformer variant of a type gives us a `Monad` instance that binds over both bits of structure.\n",
    "## 25.2 Common functions as types\n",
    "Type constructors can take other type constructors as arguments, just as functions can take other functions as arguments. This is what allows us to compose types."
   ]
  },
  {
   "cell_type": "code",
   "execution_count": 2,
   "metadata": {},
   "outputs": [
    {
     "data": {
      "text/html": [
       "<style>/* Styles used for the Hoogle display in the pager */\n",
       ".hoogle-doc {\n",
       "display: block;\n",
       "padding-bottom: 1.3em;\n",
       "padding-left: 0.4em;\n",
       "}\n",
       ".hoogle-code {\n",
       "display: block;\n",
       "font-family: monospace;\n",
       "white-space: pre;\n",
       "}\n",
       ".hoogle-text {\n",
       "display: block;\n",
       "}\n",
       ".hoogle-name {\n",
       "color: green;\n",
       "font-weight: bold;\n",
       "}\n",
       ".hoogle-head {\n",
       "font-weight: bold;\n",
       "}\n",
       ".hoogle-sub {\n",
       "display: block;\n",
       "margin-left: 0.4em;\n",
       "}\n",
       ".hoogle-package {\n",
       "font-weight: bold;\n",
       "font-style: italic;\n",
       "}\n",
       ".hoogle-module {\n",
       "font-weight: bold;\n",
       "}\n",
       ".hoogle-class {\n",
       "font-weight: bold;\n",
       "}\n",
       ".get-type {\n",
       "color: green;\n",
       "font-weight: bold;\n",
       "font-family: monospace;\n",
       "display: block;\n",
       "white-space: pre-wrap;\n",
       "}\n",
       ".show-type {\n",
       "color: green;\n",
       "font-weight: bold;\n",
       "font-family: monospace;\n",
       "margin-left: 1em;\n",
       "}\n",
       ".mono {\n",
       "font-family: monospace;\n",
       "display: block;\n",
       "}\n",
       ".err-msg {\n",
       "color: red;\n",
       "font-style: italic;\n",
       "font-family: monospace;\n",
       "white-space: pre;\n",
       "display: block;\n",
       "}\n",
       "#unshowable {\n",
       "color: red;\n",
       "font-weight: bold;\n",
       "}\n",
       ".err-msg.in.collapse {\n",
       "padding-top: 0.7em;\n",
       "}\n",
       ".highlight-code {\n",
       "white-space: pre;\n",
       "font-family: monospace;\n",
       "}\n",
       ".suggestion-warning { \n",
       "font-weight: bold;\n",
       "color: rgb(200, 130, 0);\n",
       "}\n",
       ".suggestion-error { \n",
       "font-weight: bold;\n",
       "color: red;\n",
       "}\n",
       ".suggestion-name {\n",
       "font-weight: bold;\n",
       "}\n",
       "</style><span class='get-type'>Compose [[1, 2, 3]] :: forall a. Num a => Compose [] [] a</span>"
      ],
      "text/plain": [
       "Compose [[1, 2, 3]] :: forall a. Num a => Compose [] [] a"
      ]
     },
     "metadata": {},
     "output_type": "display_data"
    },
    {
     "data": {
      "text/html": [
       "<style>/* Styles used for the Hoogle display in the pager */\n",
       ".hoogle-doc {\n",
       "display: block;\n",
       "padding-bottom: 1.3em;\n",
       "padding-left: 0.4em;\n",
       "}\n",
       ".hoogle-code {\n",
       "display: block;\n",
       "font-family: monospace;\n",
       "white-space: pre;\n",
       "}\n",
       ".hoogle-text {\n",
       "display: block;\n",
       "}\n",
       ".hoogle-name {\n",
       "color: green;\n",
       "font-weight: bold;\n",
       "}\n",
       ".hoogle-head {\n",
       "font-weight: bold;\n",
       "}\n",
       ".hoogle-sub {\n",
       "display: block;\n",
       "margin-left: 0.4em;\n",
       "}\n",
       ".hoogle-package {\n",
       "font-weight: bold;\n",
       "font-style: italic;\n",
       "}\n",
       ".hoogle-module {\n",
       "font-weight: bold;\n",
       "}\n",
       ".hoogle-class {\n",
       "font-weight: bold;\n",
       "}\n",
       ".get-type {\n",
       "color: green;\n",
       "font-weight: bold;\n",
       "font-family: monospace;\n",
       "display: block;\n",
       "white-space: pre-wrap;\n",
       "}\n",
       ".show-type {\n",
       "color: green;\n",
       "font-weight: bold;\n",
       "font-family: monospace;\n",
       "margin-left: 1em;\n",
       "}\n",
       ".mono {\n",
       "font-family: monospace;\n",
       "display: block;\n",
       "}\n",
       ".err-msg {\n",
       "color: red;\n",
       "font-style: italic;\n",
       "font-family: monospace;\n",
       "white-space: pre;\n",
       "display: block;\n",
       "}\n",
       "#unshowable {\n",
       "color: red;\n",
       "font-weight: bold;\n",
       "}\n",
       ".err-msg.in.collapse {\n",
       "padding-top: 0.7em;\n",
       "}\n",
       ".highlight-code {\n",
       "white-space: pre;\n",
       "font-family: monospace;\n",
       "}\n",
       ".suggestion-warning { \n",
       "font-weight: bold;\n",
       "color: rgb(200, 130, 0);\n",
       "}\n",
       ".suggestion-error { \n",
       "font-weight: bold;\n",
       "color: red;\n",
       "}\n",
       ".suggestion-name {\n",
       "font-weight: bold;\n",
       "}\n",
       "</style><span class='get-type'>Compose (Just [1, 2, 3]) :: forall a. Num a => Compose Maybe [] a</span>"
      ],
      "text/plain": [
       "Compose (Just [1, 2, 3]) :: forall a. Num a => Compose Maybe [] a"
      ]
     },
     "metadata": {},
     "output_type": "display_data"
    },
    {
     "data": {
      "text/html": [
       "<style>/* Styles used for the Hoogle display in the pager */\n",
       ".hoogle-doc {\n",
       "display: block;\n",
       "padding-bottom: 1.3em;\n",
       "padding-left: 0.4em;\n",
       "}\n",
       ".hoogle-code {\n",
       "display: block;\n",
       "font-family: monospace;\n",
       "white-space: pre;\n",
       "}\n",
       ".hoogle-text {\n",
       "display: block;\n",
       "}\n",
       ".hoogle-name {\n",
       "color: green;\n",
       "font-weight: bold;\n",
       "}\n",
       ".hoogle-head {\n",
       "font-weight: bold;\n",
       "}\n",
       ".hoogle-sub {\n",
       "display: block;\n",
       "margin-left: 0.4em;\n",
       "}\n",
       ".hoogle-package {\n",
       "font-weight: bold;\n",
       "font-style: italic;\n",
       "}\n",
       ".hoogle-module {\n",
       "font-weight: bold;\n",
       "}\n",
       ".hoogle-class {\n",
       "font-weight: bold;\n",
       "}\n",
       ".get-type {\n",
       "color: green;\n",
       "font-weight: bold;\n",
       "font-family: monospace;\n",
       "display: block;\n",
       "white-space: pre-wrap;\n",
       "}\n",
       ".show-type {\n",
       "color: green;\n",
       "font-weight: bold;\n",
       "font-family: monospace;\n",
       "margin-left: 1em;\n",
       "}\n",
       ".mono {\n",
       "font-family: monospace;\n",
       "display: block;\n",
       "}\n",
       ".err-msg {\n",
       "color: red;\n",
       "font-style: italic;\n",
       "font-family: monospace;\n",
       "white-space: pre;\n",
       "display: block;\n",
       "}\n",
       "#unshowable {\n",
       "color: red;\n",
       "font-weight: bold;\n",
       "}\n",
       ".err-msg.in.collapse {\n",
       "padding-top: 0.7em;\n",
       "}\n",
       ".highlight-code {\n",
       "white-space: pre;\n",
       "font-family: monospace;\n",
       "}\n",
       ".suggestion-warning { \n",
       "font-weight: bold;\n",
       "color: rgb(200, 130, 0);\n",
       "}\n",
       ".suggestion-error { \n",
       "font-weight: bold;\n",
       "color: red;\n",
       "}\n",
       ".suggestion-name {\n",
       "font-weight: bold;\n",
       "}\n",
       "</style><span class='get-type'>Compose [Just 1, Nothing] :: forall a. Num a => Compose [] Maybe a</span>"
      ],
      "text/plain": [
       "Compose [Just 1, Nothing] :: forall a. Num a => Compose [] Maybe a"
      ]
     },
     "metadata": {},
     "output_type": "display_data"
    }
   ],
   "source": [
    "newtype Compose f g a = Compose { getCompose :: f (g a) } deriving (Eq, Show)\n",
    "\n",
    ":t Compose [[1, 2, 3]]\n",
    ":t Compose (Just [1, 2, 3])\n",
    ":t Compose [Just 1, Nothing]"
   ]
  },
  {
   "cell_type": "markdown",
   "metadata": {},
   "source": [
    "## 25.3 Two functors sittin’ in a tree, L-I-F-T-I-N-G\n",
    "The composition of two datatypesvthat have a `Functor` instance gives rise to a new `Functor` instance:"
   ]
  },
  {
   "cell_type": "code",
   "execution_count": 3,
   "metadata": {},
   "outputs": [
    {
     "data": {
      "text/plain": [
       "Compose {getCompose = [[2,3,4]]}"
      ]
     },
     "metadata": {},
     "output_type": "display_data"
    }
   ],
   "source": [
    "instance (Functor f, Functor g) => Functor (Compose f g) where\n",
    "  fmap f (Compose fga) = Compose $ (fmap . fmap) f fga\n",
    "  \n",
    "(+1) <$> Compose [[1, 2, 3]]"
   ]
  },
  {
   "cell_type": "markdown",
   "metadata": {},
   "source": [
    "In fact, `fmap . fmap` satisfies all the functor laws.\n",
    "## 25.4 Twinplicative\n",
    "Applicatives are also closed under composition.\n",
    "#### GOTCHA! Exercise time"
   ]
  },
  {
   "cell_type": "code",
   "execution_count": 4,
   "metadata": {},
   "outputs": [
    {
     "data": {
      "text/plain": [
       "Compose {getCompose = [[2,3,4]]}"
      ]
     },
     "metadata": {},
     "output_type": "display_data"
    }
   ],
   "source": [
    "{-# LANGUAGE InstanceSigs #-}\n",
    "\n",
    "instance (Applicative f, Applicative g) => Applicative (Compose f g) where\n",
    "  pure :: a -> Compose f g a\n",
    "  pure = Compose . pure . pure\n",
    "  (<*>) :: Compose f g (a -> b) -> Compose f g a -> Compose f g b\n",
    "  (Compose f) <*> (Compose a) = Compose $ fmap (<*>) f <*> a\n",
    "\n",
    "Compose [[(+1)]] <*> Compose [[1, 2, 3]]"
   ]
  },
  {
   "cell_type": "markdown",
   "metadata": {},
   "source": [
    "## 25.5 Twonad?\n",
    "Within `Compose`, both types are polymorphic (e.g.: `[]` and `Maybe`). And it is not possible to combine two polymorphic binding into a single  `>>=` for `Monad`.\n",
    "To combine the two types we need a _monad transformers_ instead.\n",
    "\n",
    "A functor applies a computation to a value inside a structure, hence it is well defined ureagarding the complexity of the structure. An applicative combines independent computations. A monad, on the other side, combines dependent computations.\n",
    "\n",
    "## 25.6 Exercises: Compose instances\n",
    "1. Write the `Compose` `Foldable` instance."
   ]
  },
  {
   "cell_type": "code",
   "execution_count": 5,
   "metadata": {},
   "outputs": [],
   "source": [
    "instance (Foldable f, Foldable g) => Foldable (Compose f g) where\n",
    "  foldMap f (Compose fga) = (foldMap . foldMap) f fga"
   ]
  },
  {
   "cell_type": "markdown",
   "metadata": {},
   "source": [
    "2. Write the `Compose` `Traversable` instance:"
   ]
  },
  {
   "cell_type": "code",
   "execution_count": 6,
   "metadata": {},
   "outputs": [],
   "source": [
    "instance (Traversable f, Traversable g) => Traversable (Compose f g) where\n",
    "  traverse f (Compose fga) = Compose <$> (traverse . traverse) f fga"
   ]
  },
  {
   "cell_type": "markdown",
   "metadata": {},
   "source": [
    "#### And now for something completely different"
   ]
  },
  {
   "cell_type": "code",
   "execution_count": 7,
   "metadata": {},
   "outputs": [],
   "source": [
    "{-# LANGUAGE InstanceSigs #-}\n",
    "\n",
    "class Bifunctor p where\n",
    "  {-# MINIMAL bimap | first, second #-}\n",
    "  bimap :: (a -> b) -> (c -> d) -> p a c -> p b d\n",
    "  bimap f g = first f . second g\n",
    "\n",
    "  first :: (a -> b) -> p a c -> p b c\n",
    "  first f = bimap f id\n",
    "\n",
    "  second :: (b -> c) -> p a b -> p a c\n",
    "  second = bimap id"
   ]
  },
  {
   "cell_type": "markdown",
   "metadata": {},
   "source": [
    "Write `Bifunctor` instances for the following types\n",
    "\n",
    "1. "
   ]
  },
  {
   "cell_type": "code",
   "execution_count": 8,
   "metadata": {},
   "outputs": [],
   "source": [
    "data Deux a b = Deux a b\n",
    "\n",
    "instance Bifunctor Deux where\n",
    "  bimap :: (a -> b) -> (c -> d) -> Deux a c -> Deux b d\n",
    "  bimap f g (Deux x y) = Deux (f x) (g y)\n",
    "\n",
    "  first :: (a -> b) -> Deux a c -> Deux b c\n",
    "  first f (Deux x y) = Deux (f x) y\n",
    "\n",
    "  second :: (b -> c) -> Deux a b -> Deux a c\n",
    "  second g (Deux x y) = Deux x (g y)"
   ]
  },
  {
   "cell_type": "markdown",
   "metadata": {},
   "source": [
    "2. "
   ]
  },
  {
   "cell_type": "code",
   "execution_count": 9,
   "metadata": {},
   "outputs": [],
   "source": [
    "data Const a b = Const a\n",
    "\n",
    "instance Bifunctor Const where\n",
    "  bimap :: (a -> b) -> (c -> d) -> Const a c -> Const b d\n",
    "  bimap f _ (Const x) = Const (f x)\n",
    "\n",
    "  first :: (a -> b) -> Const a c -> Const b d\n",
    "  first f (Const x) = Const (f x)\n",
    "\n",
    "  second :: (b -> c) -> Const a b -> Const a c\n",
    "  second _ (Const x) = Const x"
   ]
  },
  {
   "cell_type": "markdown",
   "metadata": {},
   "source": [
    "3. "
   ]
  },
  {
   "cell_type": "code",
   "execution_count": 10,
   "metadata": {},
   "outputs": [],
   "source": [
    "data Drei a b c = Drei a b c\n",
    "\n",
    "instance Bifunctor (Drei a) where\n",
    "  bimap :: (b -> c) -> (d -> e) -> Drei a b d -> Drei a c e\n",
    "  bimap f g (Drei x y z) = Drei x (f y) (g z)\n",
    "\n",
    "  first :: (b -> c) -> Drei a b d -> Drei a c d\n",
    "  first f (Drei x y z) = Drei x (f y) z\n",
    "\n",
    "  second :: (d -> e) -> Drei a b d -> Drei a b e\n",
    "  second g (Drei x y z) = Drei x y  (g z)"
   ]
  },
  {
   "cell_type": "markdown",
   "metadata": {},
   "source": [
    "4. "
   ]
  },
  {
   "cell_type": "code",
   "execution_count": 11,
   "metadata": {},
   "outputs": [],
   "source": [
    "data SuperDrei a b c = SuperDrei a b\n",
    "\n",
    "instance Bifunctor (SuperDrei a) where\n",
    "  bimap :: (b -> c) -> (d -> e) -> SuperDrei a b d -> SuperDrei a c e\n",
    "  bimap f _ (SuperDrei x y) = SuperDrei x (f y)\n",
    "\n",
    "  first :: (b -> c) -> SuperDrei a b d -> SuperDrei a c e\n",
    "  first f (SuperDrei x y) = SuperDrei x (f y)\n",
    "\n",
    "  second :: (d -> e) -> SuperDrei a b d -> SuperDrei a b e\n",
    "  second _ (SuperDrei x y) = SuperDrei x y"
   ]
  },
  {
   "cell_type": "markdown",
   "metadata": {},
   "source": [
    "5. "
   ]
  },
  {
   "cell_type": "code",
   "execution_count": 12,
   "metadata": {},
   "outputs": [],
   "source": [
    "data SemiDrei a b c = SemiDrei a\n",
    "\n",
    "instance Bifunctor (SemiDrei a) where\n",
    "  bimap :: (b -> c) -> (d -> e) -> SemiDrei a b d -> SemiDrei a c e\n",
    "  bimap _ _ (SemiDrei x) = SemiDrei x\n",
    "\n",
    "  first :: (b -> c) -> SemiDrei a b d -> SemiDrei a c e\n",
    "  first _ (SemiDrei x) = SemiDrei x\n",
    "\n",
    "  second :: (d -> e) -> SemiDrei a b d -> SemiDrei a b e\n",
    "  second _ (SemiDrei x) = SemiDrei x"
   ]
  },
  {
   "cell_type": "markdown",
   "metadata": {},
   "source": [
    "6. "
   ]
  },
  {
   "cell_type": "code",
   "execution_count": 13,
   "metadata": {},
   "outputs": [],
   "source": [
    "data Quadriceps a b c d = Quadzzz a b c d\n",
    "\n",
    "instance Bifunctor (Quadriceps a b) where\n",
    "  bimap :: (c -> d) -> (e -> f) -> Quadriceps a b c e -> Quadriceps a b d f\n",
    "  bimap f g (Quadzzz x y z t) = Quadzzz x y (f z) (g t)\n",
    "\n",
    "  first :: (c -> d) -> Quadriceps a b c e -> Quadriceps a b d e\n",
    "  first f (Quadzzz x y z t) = Quadzzz x y (f z) t\n",
    "\n",
    "  second :: (d -> e) -> Quadriceps a b c d -> Quadriceps a b c e\n",
    "  second g (Quadzzz x y z t) = Quadzzz x y z (g t)"
   ]
  },
  {
   "cell_type": "markdown",
   "metadata": {},
   "source": [
    "7. "
   ]
  },
  {
   "cell_type": "code",
   "execution_count": 14,
   "metadata": {},
   "outputs": [],
   "source": [
    "data Either' a b = Left' a | Right' b\n",
    "\n",
    "instance Bifunctor Either' where\n",
    "  bimap :: (a -> b) -> (c -> d) -> Either' a c -> Either' b d\n",
    "  bimap f _ (Left' x)  = Left' (f x)\n",
    "  bimap _ g (Right' y) = Right' (g y)\n",
    "\n",
    "  first :: (a -> b) -> Either' a c -> Either' b c\n",
    "  first f (Left' x)  = Left' (f x)\n",
    "  first _ (Right' y) = Right' y\n",
    "\n",
    "  second :: (c -> d) -> Either' a c -> Either' a d\n",
    "  second _ (Left' x)  = Left' x\n",
    "  second g (Right' y) = Right' (g y)"
   ]
  },
  {
   "cell_type": "markdown",
   "metadata": {},
   "source": [
    "## 25.7 Monad transformers\n",
    "Since it is in general impossible to join two unknown monads, we need to reduce the polymorphism and get concrete information about one of the monads that we’re working with to achieve the join.\n",
    "The other monad remains polymorphic as a variable type argument to the type constructor.\n",
    "\n",
    "An worse solution would be to implement a `Monad` for every possible combination of types. This can be avoided with monad tranformers, which give the `Monad` for two types, as long as we know what one of the types is.\n",
    "## 25.8 IdentityT\n",
    "The `IdentityT` type captures the essence of the monad transformer.\n",
    "Its bind implementation is:\n",
    "```haskell\n",
    "(>>=) :: IdentityT m a -> (a -> IdentityT m b) -> IdentityT m b\n",
    "(IdentityT ma) >>= f = IdentityT $ ma >>= runIdentityT . f\n",
    "```\n",
    "The usage of `runIdentityT` is based on the knowledge of concrete type `IdentityT`.\n",
    "## 25.9 Finding a pattern\n",
    "The general patter of a monad transformer is:\n",
    "```haskell\n",
    "m (T m b) -> m (m b) -> m b -> T m b\n",
    "```\n",
    "where the outer structure `m` is polymorphic and `T` is the concrete type the transformer is for."
   ]
  }
 ],
 "metadata": {
  "kernelspec": {
   "display_name": "Haskell",
   "language": "haskell",
   "name": "haskell"
  },
  "language_info": {
   "codemirror_mode": "ihaskell",
   "file_extension": ".hs",
   "name": "haskell",
   "pygments_lexer": "Haskell",
   "version": "8.6.5"
  }
 },
 "nbformat": 4,
 "nbformat_minor": 4
}
