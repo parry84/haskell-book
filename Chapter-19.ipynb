{
 "cells": [
  {
   "cell_type": "code",
   "execution_count": 17,
   "metadata": {},
   "outputs": [],
   "source": [
    ":opt no-lint"
   ]
  },
  {
   "cell_type": "markdown",
   "metadata": {},
   "source": [
    "# 19 Applying Structure\n",
    "## 19.1 Applying Structure\n",
    "The chapter features a few bites of real world Haskell code.\n",
    "## 19.2 Monoid\n",
    "### Templating content in Scotty\n",
    "The `scotty` web framework’s “Hello, World” example uses `mconcat` to inject the parameter \"word\" into the HTML page returned.\n",
    "### Concatenating connection parameters\n",
    "The blog post Aditya Bhargava’s “Making A Website With Haskell,” shows using `foldr` and `Monoid` to concatenate connection parameters for connecting to a database.\n",
    "### Concatenating key configurations\n",
    "`xmonad` uses `Monoid` to merge custom keyboard mappings with default ones. In particular, it relies on the  `Monoid` instance of `-> b` when `b` is a `Monoid` (in this case `b` is `Data.Map`):"
   ]
  },
  {
   "cell_type": "code",
   "execution_count": 18,
   "metadata": {},
   "outputs": [
    {
     "data": {
      "text/plain": [
       "\"cacb\""
      ]
     },
     "metadata": {},
     "output_type": "display_data"
    }
   ],
   "source": [
    "f = (++\"a\")\n",
    "g = (++\"b\")\n",
    "h = f <> g\n",
    "h \"c\""
   ]
  },
  {
   "cell_type": "markdown",
   "metadata": {},
   "source": [
    "## 19.3 Functor\n",
    "### Lifting over IO\n",
    "The examples shows how to apply a pure function on a value wrapped into a `IO` context.\n",
    "### Lifting over web app monads\n",
    "The `snap` library wraps requests into a monadic context. `fmap` can be used to apply functions to results from an HTTP request.\n",
    "## 19.4 Applicative\n",
    "### hgrev\n",
    "The example uses `Monoid` and `Applicative` to combine parsers of command line arguments.\n",
    "### And now for something different\n",
    "`Applicative` can be used for parallel application of the functions against an argument, followed by monoidally combine the values.\n",
    "## 19.5 Monad\n",
    "Because effectful programming requires `IO`, examples of `Monad` are everywhere. \n",
    "### Opening a network socket\n",
    "In `haproxy-haskell` operations on sockets like creation, connections are composed with monadic bind.\n",
    "### Binding over failure in initialization\n",
    "Michael Xavier’s Seraph (a process monitor) has a typicial main entry point: the outermost `Monad` is `IO`, and the monad transformer `EitherT`, is used to bind over the possibility of failure during initialization.\n",
    "## 19.6 An end-to-end example: URL shortener\n",
    "The section presents a complete example, featuring:\n",
    "\n",
    "- polymorphic literals, which rely on different instance of `IsString` class\n",
    "- A Redis context which embeds `Web.Scotty` web requests (the `Monad` is `ActionM`)\n",
    "- Lifting a `IO` action inside a Scotty `ActionM` in order to perform it\n",
    "\n",
    "### Exercise\n",
    "Ensure already existing short URLs are not overwritten."
   ]
  },
  {
   "cell_type": "code",
   "execution_count": 19,
   "metadata": {},
   "outputs": [],
   "source": [
    "{-# LANGUAGE OverloadedStrings #-}\n",
    "\n",
    "import Control.Monad (replicateM)\n",
    "import Control.Monad.IO.Class (liftIO)\n",
    "import qualified Data.ByteString.Char8 as BC\n",
    "import Data.Text.Encoding (decodeUtf8, encodeUtf8)\n",
    "import qualified Data.Text.Lazy as TL\n",
    "import qualified Database.Redis as R\n",
    "import Network.URI (URI, parseURI)\n",
    "import qualified System.Random as SR\n",
    "import Web.Scotty\n",
    "\n",
    "alphaNum :: String\n",
    "alphaNum = ['A'..'Z'] ++ ['0'..'9']\n",
    "\n",
    "randomElement :: String -> IO Char\n",
    "randomElement xs = do\n",
    "  let maxIndex :: Int\n",
    "      maxIndex = length xs - 1\n",
    "  randomDigit <- SR.randomRIO (0, maxIndex)\n",
    "  return (xs !! randomDigit)\n",
    "\n",
    "shortyGen :: IO [Char]\n",
    "shortyGen = replicateM 7 (randomElement alphaNum)\n",
    "\n",
    "saveURI :: R.Connection -> BC.ByteString -> BC.ByteString -> IO (Either R.Reply R.Status)\n",
    "saveURI conn shortURI uri = R.runRedis conn $ R.set shortURI uri\n",
    "\n",
    "getURI :: R.Connection -> BC.ByteString -> IO (Either R.Reply (Maybe BC.ByteString))\n",
    "getURI conn shortURI = R.runRedis conn $ R.get shortURI\n",
    "\n",
    "linkShorty :: String -> String\n",
    "linkShorty shorty = concat [ \"<a href=\\\"\", shorty, \"\\\">Copy and paste your short URL</a>\" ]\n",
    "\n",
    "shortyCreated :: Show a => a -> String -> TL.Text\n",
    "shortyCreated resp shawty = TL.concat [ TL.pack (show resp), \" shorty is: \", TL.pack (linkShorty shawty) ]\n",
    "\n",
    "shortyAintUri :: TL.Text -> TL.Text\n",
    "shortyAintUri uri = TL.concat [uri, \" wasn't a url, did you forget http://?\"]\n",
    "\n",
    "shortyFound :: TL.Text -> TL.Text\n",
    "shortyFound tbs = TL.concat [\"<a href=\\\"\", tbs, \"\\\">\", tbs, \"</a>\"]\n",
    "\n",
    "shortyDuplicated :: TL.Text -> TL.Text\n",
    "shortyDuplicated shorty = TL.concat [ \"Shorty \", shorty, \" already in use.\"]\n",
    "\n",
    "app :: R.Connection -> ScottyM ()\n",
    "app rConn = do\n",
    "  get \"/\" $ do\n",
    "    uri <- param \"uri\"\n",
    "    let parsedUri :: Maybe URI\n",
    "        parsedUri = parseURI (TL.unpack uri)\n",
    "    case parsedUri of\n",
    "      Nothing -> text (shortyAintUri uri)\n",
    "      Just _  -> do\n",
    "        shawty <- liftIO shortyGen\n",
    "        let shorty = BC.pack shawty\n",
    "        checkDuplicated <- liftIO $ getURI rConn shorty\n",
    "        case checkDuplicated of\n",
    "          Left reply -> text $ TL.pack $ show reply\n",
    "          Right mbBS -> case mbBS of\n",
    "            Just bs -> text $ shortyDuplicated $ TL.pack shawty\n",
    "            Nothing -> do\n",
    "              let uri' = encodeUtf8 $ TL.toStrict uri\n",
    "              resp <- liftIO $ saveURI rConn shorty uri'\n",
    "              html $ shortyCreated resp shawty\n",
    "  get \"/:short\" $ do\n",
    "    short <- param \"short\"\n",
    "    uri <- liftIO (getURI rConn short)\n",
    "    case uri of\n",
    "      Left reply -> text (TL.pack (show reply))\n",
    "      Right mbBS -> case mbBS of\n",
    "        Nothing -> text \"uri not found\"\n",
    "        Just bs -> html (shortyFound tbs)\n",
    "           where tbs :: TL.Text\n",
    "                 tbs = TL.fromStrict (decodeUtf8 bs)\n",
    "\n",
    "main :: IO ()\n",
    "main = do\n",
    "  rConn <- R.connect R.defaultConnectInfo\n",
    "  scotty 3000 (app rConn)"
   ]
  },
  {
   "cell_type": "markdown",
   "metadata": {},
   "source": [
    "## 19.7 That’s a wrap!\n",
    "The goal of the chapter was to show of how Haskellers use the type classes discussed in previous chapters in real code."
   ]
  }
 ],
 "metadata": {
  "kernelspec": {
   "display_name": "Haskell",
   "language": "haskell",
   "name": "haskell"
  },
  "language_info": {
   "codemirror_mode": "ihaskell",
   "file_extension": ".hs",
   "name": "haskell",
   "pygments_lexer": "Haskell",
   "version": "8.6.5"
  }
 },
 "nbformat": 4,
 "nbformat_minor": 4
}
