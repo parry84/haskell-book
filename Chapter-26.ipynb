{
 "cells": [
  {
   "cell_type": "code",
   "execution_count": 43,
   "metadata": {},
   "outputs": [],
   "source": [
    ":opt no-lint"
   ]
  },
  {
   "cell_type": "markdown",
   "metadata": {},
   "source": [
    "# Chapter 26 Monad Transformers\n",
    "## 26.1 Monad Transformers\n",
    "- various monad transformer types and instances.\n",
    "- ordering and wrapping of monad transformer stacks.\n",
    "\n",
    "## 26.2 MaybeT\n",
    "The `Monad` instance works as follow:\n",
    "- when the value is a `Nothing` it returns `Nothing`\n",
    "- otherwise it extract the value and returns the bind of the second monad.\n",
    "\n",
    "## 26.3 EitherT"
   ]
  },
  {
   "cell_type": "code",
   "execution_count": 44,
   "metadata": {},
   "outputs": [],
   "source": [
    "newtype EitherT e m a = EitherT { runEitherT :: m (Either e a) }"
   ]
  },
  {
   "cell_type": "markdown",
   "metadata": {},
   "source": [
    "### Exercises: EitherT\n",
    "1. Write the `Functor` instance for `EitherT`:"
   ]
  },
  {
   "cell_type": "code",
   "execution_count": 45,
   "metadata": {},
   "outputs": [],
   "source": [
    "instance Functor m => Functor (EitherT e m) where\n",
    "  fmap f (EitherT x) = EitherT $ (fmap . fmap) f x"
   ]
  },
  {
   "cell_type": "markdown",
   "metadata": {},
   "source": [
    "2. Write the `Applicative` instance for `EitherT`:"
   ]
  },
  {
   "cell_type": "code",
   "execution_count": 46,
   "metadata": {},
   "outputs": [],
   "source": [
    "instance Applicative m => Applicative (EitherT e m) where\n",
    "  pure = EitherT . pure . pure\n",
    "  (EitherT f) <*> (EitherT a) = EitherT $ (<*>) <$> f <*> a"
   ]
  },
  {
   "cell_type": "markdown",
   "metadata": {},
   "source": [
    "3. Write the `Monad` instance for `EitherT`:"
   ]
  },
  {
   "cell_type": "code",
   "execution_count": 47,
   "metadata": {},
   "outputs": [],
   "source": [
    "instance Monad m => Monad (EitherT e m) where\n",
    "  return = pure\n",
    "  (EitherT ma) >>= f = EitherT $ do\n",
    "    v <- ma\n",
    "    case v of\n",
    "      Left e -> pure $ Left e\n",
    "      Right x -> runEitherT $ f x"
   ]
  },
  {
   "cell_type": "markdown",
   "metadata": {},
   "source": [
    "4. Write the `swapEitherT` helper function for `EitherT`"
   ]
  },
  {
   "cell_type": "code",
   "execution_count": 48,
   "metadata": {},
   "outputs": [],
   "source": [
    "swapEitherT :: (Functor m) => EitherT e m a -> EitherT a m e\n",
    "swapEitherT (EitherT x) = EitherT $ swapEither <$> x\n",
    "\n",
    "swapEither :: Either e a -> Either a e\n",
    "swapEither (Left e) = Right e\n",
    "swapEither (Right x) = Left x"
   ]
  },
  {
   "cell_type": "markdown",
   "metadata": {},
   "source": [
    "5. Write the transformer variant of the either catamorphism:"
   ]
  },
  {
   "cell_type": "code",
   "execution_count": 49,
   "metadata": {},
   "outputs": [],
   "source": [
    "eitherT :: Monad m => (a -> m c) -> (b -> m c)-> EitherT a m b -> m c\n",
    "eitherT fl fr (EitherT v) = v >>= either fl fr"
   ]
  },
  {
   "cell_type": "markdown",
   "metadata": {},
   "source": [
    "## 26.4 ReaderT\n",
    "The `Monad` instance:\n",
    "- evaluate the input value by applying the `r`\n",
    "- evaluate the second monad with the result\n",
    "- returns a function from `r` to the new monadic value\n",
    "\n",
    "## 26.5 StateT"
   ]
  },
  {
   "cell_type": "code",
   "execution_count": 50,
   "metadata": {},
   "outputs": [],
   "source": [
    "newtype StateT' s m a = StateT' { runStateT' :: s -> m (a,s) }"
   ]
  },
  {
   "cell_type": "markdown",
   "metadata": {},
   "source": [
    "#### Exercises: StateT\n",
    "1. Implement the `Functor` instance:"
   ]
  },
  {
   "cell_type": "code",
   "execution_count": 51,
   "metadata": {},
   "outputs": [],
   "source": [
    "{-# LANGUAGE InstanceSigs #-}\n",
    "\n",
    "import Data.Bifunctor\n",
    "\n",
    "instance (Functor m) => Functor (StateT' s m) where\n",
    "  fmap :: (a -> b) -> StateT' s m a -> StateT' s m b\n",
    "  fmap f (StateT' sm) = StateT' $ (fmap . fmap) f' sm\n",
    "    where f' (x, s) = (f x, s)"
   ]
  },
  {
   "cell_type": "markdown",
   "metadata": {},
   "source": [
    "2. Implement the `Applicative` instance:"
   ]
  },
  {
   "cell_type": "code",
   "execution_count": 52,
   "metadata": {},
   "outputs": [],
   "source": [
    "instance (Monad m) => Applicative (StateT' s m) where\n",
    "  pure :: a -> StateT' s m a\n",
    "  pure x = StateT' $ \\s -> pure (x, s)\n",
    "\n",
    "  (<*>) :: StateT' s m (a -> b) -> StateT' s m a -> StateT' s m b\n",
    "  StateT' sf <*> StateT' sx = StateT' $ \\s -> do\n",
    "    (f, s') <- sf s\n",
    "    (x, s'') <- sx s'\n",
    "    pure (f x, s'')"
   ]
  },
  {
   "cell_type": "markdown",
   "metadata": {},
   "source": [
    "We needed the `Monad` constraint because eache step of the computation depends on a previous one.\n",
    "\n",
    "3. implement the `Monad` instance:"
   ]
  },
  {
   "cell_type": "code",
   "execution_count": 53,
   "metadata": {},
   "outputs": [],
   "source": [
    "instance (Monad m) => Monad (StateT' s m) where\n",
    "  return :: a -> StateT' s m a\n",
    "  return = pure\n",
    "\n",
    "  (>>=) :: StateT' s m a -> (a -> StateT' s m b) -> StateT' s m b\n",
    "  StateT' v >>= f = StateT' $ \\s -> do\n",
    "    (x, s') <- v s\n",
    "    runStateT' (f x) s'"
   ]
  },
  {
   "cell_type": "markdown",
   "metadata": {},
   "source": [
    "## 26.6 Types you probably don’t want to use\n",
    "- `Writer` or `WriterT`, as its lazyness in not suitable for logging long running applications.\n",
    "- `ListT`, for performance reasons. Use a streaming library instead.\n",
    "\n",
    "## 26.7 An ordinary type from a transformer\n",
    "The _non-trasformer_ variant can be recovered as follow:\n",
    "```haskell\n",
    "type MyIdentity a = IdentityT Identity a\n",
    "type Maybe a      = MaybeT Identity a\n",
    "type Either e a   = EitherT e Identity a\n",
    "type Reader r a   = ReaderT e Identity a\n",
    "type State s a    = StateT s Identity a\n",
    "```\n",
    "Sometimes, the libraries only provide the _trasformer_ variant of a type.\n",
    "## 26.8 Lexically inner is structurally outer\n",
    "A series of monad transformers in a type will begin with the innermost type, structurally speaking.\n",
    "Removing layers one-by-one:"
   ]
  },
  {
   "cell_type": "code",
   "execution_count": 54,
   "metadata": {},
   "outputs": [],
   "source": [
    "import Control.Monad.Trans.Maybe  (MaybeT(..), runMaybeT)\n",
    "import Control.Monad.Trans.Except (ExceptT(..), runExceptT)\n",
    "import Control.Monad.Trans.Reader (ReaderT(..), runReaderT)\n",
    "\n",
    "embedded :: MaybeT (ExceptT String (ReaderT () IO)) Int\n",
    "embedded = return 1\n",
    "\n",
    "maybeUnwrap :: ExceptT String (ReaderT () IO) (Maybe Int)\n",
    "maybeUnwrap = runMaybeT embedded\n",
    "\n",
    "eitherUnwrap :: ReaderT () IO (Either String (Maybe Int))\n",
    "eitherUnwrap = runExceptT maybeUnwrap\n",
    "\n",
    "readerUnwrap :: () -> IO (Either String (Maybe Int))\n",
    "readerUnwrap = runReaderT eitherUnwrap"
   ]
  },
  {
   "cell_type": "markdown",
   "metadata": {},
   "source": [
    "#### Exercise: Wrap it up\n",
    "Turn `readerUnwrap` from the previous example back into embedded through the use of the data constructors for each transformer."
   ]
  },
  {
   "cell_type": "code",
   "execution_count": 55,
   "metadata": {},
   "outputs": [],
   "source": [
    "embedded' :: MaybeT (ExceptT String (ReaderT () IO)) Int\n",
    "embedded' = MaybeT $ ExceptT $ ReaderT $ pure . const (Right (Just 1))"
   ]
  },
  {
   "cell_type": "markdown",
   "metadata": {},
   "source": [
    "## 26.9 MonadTrans\n",
    "`fmap`, `liftA` and `liftM` allow to lift a function respectively inside a `Functor`, `Applicative` and `Monad` structure.\n",
    "In order to lift inside a monad transformer we need the `MonadTrans` class, which offers the `lift` functions.\n",
    "We need to lift through all the layers of the monad transformer.\n",
    "Lifting means embedding an expression in a larger context by adding structure that doesn’t do anything.\n",
    "The general pattern with `MonadTrans` instances is that you’re usually going to lift the injection of the\n",
    "known structure (e.g.: with `MaybeT`, the known structure is `Maybe`) over some `Monad`. Injection of structure usually means `return` (with `MaybeT`, as we need a `Maybe` structure, we use `Just`)\n",
    "#### Exercises: Lift more"
   ]
  },
  {
   "cell_type": "code",
   "execution_count": 56,
   "metadata": {},
   "outputs": [],
   "source": [
    "import Control.Monad.Trans.Class (MonadTrans, lift)\n",
    "import Control.Monad             (liftM)"
   ]
  },
  {
   "cell_type": "markdown",
   "metadata": {},
   "source": [
    "1. `EitherT`:"
   ]
  },
  {
   "cell_type": "code",
   "execution_count": 57,
   "metadata": {},
   "outputs": [],
   "source": [
    "instance MonadTrans (EitherT e) where\n",
    "  lift = EitherT . fmap Right"
   ]
  },
  {
   "cell_type": "markdown",
   "metadata": {},
   "source": [
    "2. `StateT`:"
   ]
  },
  {
   "cell_type": "code",
   "execution_count": 58,
   "metadata": {},
   "outputs": [],
   "source": [
    "instance MonadTrans (StateT' s) where\n",
    "  lift v = StateT' $ \\s -> do\n",
    "    x <- v\n",
    "    pure (x, s) "
   ]
  },
  {
   "cell_type": "markdown",
   "metadata": {},
   "source": [
    "#### Prolific lifting is the failure mode\n",
    "In order to keep the `lift` implementation clean, it is advisable to newtype the `Monad` stack and abstracting away the representation.\n",
    "## 26.10 MonadIO, aka zoom-zoom\n",
    "`MonadIO` is an alternative way  to lift an action over additional structure. Rather than lifting through one layer at a time, `MonadIO` keeps lifting the `IO` action until it is lifted over all structure embedded in the outermost `IO` type."
   ]
  },
  {
   "cell_type": "code",
   "execution_count": 59,
   "metadata": {},
   "outputs": [],
   "source": [
    "import Control.Monad.IO.Class (MonadIO, liftIO)"
   ]
  },
  {
   "cell_type": "markdown",
   "metadata": {},
   "source": [
    "#### Exercises: Some instances\n",
    "1. `MaybeT`"
   ]
  },
  {
   "cell_type": "code",
   "execution_count": 60,
   "metadata": {},
   "outputs": [],
   "source": [
    "{-# LANGUAGE GeneralizedNewtypeDeriving #-}\n",
    "{-# LANGUAGE DeriveFunctor #-}\n",
    "{-# LANGUAGE InstanceSigs #-}\n",
    "\n",
    "newtype MaybeT' m a = MaybeT' { runMaybeT' :: m (Maybe a) } deriving Functor\n",
    "\n",
    "instance Applicative m => Applicative (MaybeT' m) where\n",
    "  pure = MaybeT' . pure . pure\n",
    "  MaybeT' mmab <*> MaybeT' mma = MaybeT' $ (<*>) <$> mmab <*> mma\n",
    "\n",
    "instance (Monad m) => Monad (MaybeT' m) where\n",
    "  return = pure\n",
    "  (MaybeT' mma) >>= f = MaybeT' $ do\n",
    "    v <- mma\n",
    "    case v of\n",
    "      Nothing -> pure Nothing\n",
    "      Just x  -> runMaybeT' $ f x\n",
    "\n",
    "instance MonadTrans MaybeT' where\n",
    "  lift :: Monad m => m a -> MaybeT' m a\n",
    "  lift = MaybeT' . fmap Just\n",
    "\n",
    "instance (MonadIO m) => MonadIO (MaybeT' m) where\n",
    "  liftIO :: IO a -> MaybeT' m a\n",
    "  liftIO = lift . liftIO"
   ]
  },
  {
   "cell_type": "markdown",
   "metadata": {},
   "source": [
    "2. `ReaderT`"
   ]
  },
  {
   "cell_type": "code",
   "execution_count": 61,
   "metadata": {},
   "outputs": [],
   "source": [
    "newtype ReaderT' r m a = ReaderT' { runReaderT' :: r -> m a }\n",
    "\n",
    "instance (Functor m) => Functor (ReaderT' r m) where\n",
    "  fmap f (ReaderT' rma) = ReaderT' $ (fmap . fmap) f rma\n",
    "\n",
    "instance (Applicative m) => Applicative (ReaderT' r m) where\n",
    "  pure = ReaderT' . pure . pure\n",
    "  ReaderT' rmab <*> ReaderT' rma = ReaderT' $ (<*>) <$> rmab <*> rma\n",
    "\n",
    "instance (Monad m) => Monad (ReaderT' r m) where\n",
    "  return = pure\n",
    "  (ReaderT' rma) >>= f = ReaderT' $ \\r -> do\n",
    "    a <- rma r\n",
    "    runReaderT' (f a) r\n",
    "\n",
    "instance MonadTrans (ReaderT' r) where\n",
    "  lift :: Monad m => m a -> ReaderT' r m a\n",
    "  lift = ReaderT' . const\n",
    "\n",
    "instance (MonadIO m) => MonadIO (ReaderT' r m) where\n",
    "  liftIO :: IO a -> ReaderT' r m a\n",
    "  liftIO = lift . liftIO"
   ]
  },
  {
   "cell_type": "markdown",
   "metadata": {},
   "source": [
    "3. `StateT`"
   ]
  },
  {
   "cell_type": "code",
   "execution_count": 62,
   "metadata": {},
   "outputs": [],
   "source": [
    "instance (MonadIO m) => MonadIO (StateT' s m) where\n",
    "  liftIO = lift . liftIO"
   ]
  },
  {
   "cell_type": "markdown",
   "metadata": {},
   "source": [
    "## 26.11 Monad transformers in use\n",
    "## 26.12 Monads do not commute\n",
    "Monads in general do not commute.\n",
    "## 26.13 Transform if you want to\n",
    "When writing a program, start with the simplest thing, and eventually add structure later. Sometimes `liftIO` and plain `IO` is enough.\n",
    "## 26.14 Chapter exercises\n",
    "Write the code\n",
    "1. `rDec` is a function that should get its argument in the context of `Reader` and return a value decremented by one:"
   ]
  },
  {
   "cell_type": "code",
   "execution_count": 63,
   "metadata": {},
   "outputs": [
    {
     "data": {
      "text/plain": [
       "0"
      ]
     },
     "metadata": {},
     "output_type": "display_data"
    },
    {
     "data": {
      "text/plain": [
       "[0,1,2,3,4,5,6,7,8,9]"
      ]
     },
     "metadata": {},
     "output_type": "display_data"
    }
   ],
   "source": [
    "import Control.Monad.Trans.Reader (Reader(..), runReader, ask)\n",
    "\n",
    "rDec :: Num a => Reader a a\n",
    "rDec = do\n",
    "  x <- ask\n",
    "  pure $ x - 1\n",
    "  \n",
    "runReader rDec 1\n",
    "fmap (runReader rDec) [1..10]"
   ]
  },
  {
   "cell_type": "markdown",
   "metadata": {},
   "source": [
    "2. Once you have an `rDec` that works, make it and any inner lambdas point-free, if that’s not already the case."
   ]
  },
  {
   "cell_type": "code",
   "execution_count": 64,
   "metadata": {},
   "outputs": [
    {
     "data": {
      "text/plain": [
       "0"
      ]
     },
     "metadata": {},
     "output_type": "display_data"
    },
    {
     "data": {
      "text/plain": [
       "[0,1,2,3,4,5,6,7,8,9]"
      ]
     },
     "metadata": {},
     "output_type": "display_data"
    }
   ],
   "source": [
    "rDec' :: Num a => Reader a a\n",
    "rDec' = ReaderT $ pure . subtract 1\n",
    "\n",
    "runReader rDec' 1\n",
    "fmap (runReader rDec') [1..10]"
   ]
  },
  {
   "cell_type": "markdown",
   "metadata": {},
   "source": [
    "3. `rShow` is `show`, but in `Reader`:"
   ]
  },
  {
   "cell_type": "code",
   "execution_count": 65,
   "metadata": {},
   "outputs": [
    {
     "data": {
      "text/plain": [
       "Identity \"1\""
      ]
     },
     "metadata": {},
     "output_type": "display_data"
    },
    {
     "data": {
      "text/plain": [
       "[Identity \"1\",Identity \"2\",Identity \"3\",Identity \"4\",Identity \"5\",Identity \"6\",Identity \"7\",Identity \"8\",Identity \"9\",Identity \"10\"]"
      ]
     },
     "metadata": {},
     "output_type": "display_data"
    }
   ],
   "source": [
    "import Data.Functor.Identity (Identity)\n",
    "\n",
    "rShow :: Show a => ReaderT a Identity String\n",
    "rShow = show <$> ask\n",
    "\n",
    "runReaderT rShow 1\n",
    "fmap (runReaderT rShow) [1..10]"
   ]
  },
  {
   "cell_type": "markdown",
   "metadata": {},
   "source": [
    "4. Once you have an `rShow` that works, make it point-free."
   ]
  },
  {
   "cell_type": "code",
   "execution_count": 66,
   "metadata": {},
   "outputs": [
    {
     "data": {
      "text/plain": [
       "Identity \"1\""
      ]
     },
     "metadata": {},
     "output_type": "display_data"
    },
    {
     "data": {
      "text/plain": [
       "[Identity \"1\",Identity \"2\",Identity \"3\",Identity \"4\",Identity \"5\",Identity \"6\",Identity \"7\",Identity \"8\",Identity \"9\",Identity \"10\"]"
      ]
     },
     "metadata": {},
     "output_type": "display_data"
    }
   ],
   "source": [
    "rShow' :: Show a => ReaderT a Identity String\n",
    "rShow' = ReaderT $ pure . show\n",
    "\n",
    "runReaderT rShow 1\n",
    "fmap (runReaderT rShow) [1..10]"
   ]
  },
  {
   "cell_type": "markdown",
   "metadata": {},
   "source": [
    "5. `rPrintAndInc` will first print the input with a greeting, then return the input incremented by one:"
   ]
  },
  {
   "cell_type": "code",
   "execution_count": 67,
   "metadata": {},
   "outputs": [
    {
     "data": {
      "text/plain": [
       "Hej: 1\n",
       "2"
      ]
     },
     "metadata": {},
     "output_type": "display_data"
    },
    {
     "data": {
      "text/plain": [
       "Hej: 1\n",
       "Hej: 2\n",
       "Hej: 3\n",
       "Hej: 4\n",
       "Hej: 5\n",
       "Hej: 6\n",
       "Hej: 7\n",
       "Hej: 8\n",
       "Hej: 9\n",
       "Hej: 10\n",
       "[2,3,4,5,6,7,8,9,10,11]"
      ]
     },
     "metadata": {},
     "output_type": "display_data"
    }
   ],
   "source": [
    "rPrintAndInc :: (Num a, Show a) => ReaderT a IO a\n",
    "rPrintAndInc = ReaderT $ \\r -> do\n",
    "  putStrLn $ \"Hej: \" ++ show r\n",
    "  pure $ r + 1\n",
    "\n",
    "runReaderT rPrintAndInc 1\n",
    "traverse (runReaderT rPrintAndInc) [1..10]"
   ]
  },
  {
   "cell_type": "markdown",
   "metadata": {},
   "source": [
    "6. `sPrintIncAccum` first prints the input with a greeting, then “puts” the incremented input as the new state and returns the original input as a `String`:"
   ]
  },
  {
   "cell_type": "code",
   "execution_count": 68,
   "metadata": {},
   "outputs": [
    {
     "ename": "",
     "evalue": "",
     "output_type": "error",
     "traceback": [
      "<interactive>:3:8: error:\n    Ambiguous occurrence ‘get’\n    It could refer to either ‘ST.get’, imported from ‘Control.Monad.Trans.State’ at <interactive>:1:64-66 (and originally defined in ‘Control.Monad.Trans.State.Lazy’)\n                          or ‘WT.get’, imported from ‘Web.Scotty.Trans’ at <interactive>:1:40-42 (and originally defined in ‘scotty-0.11.5:Web.Scotty.Route’)"
     ]
    }
   ],
   "source": [
    "import Control.Monad.Trans.State as ST (StateT(..), runStateT, get, put)\n",
    "\n",
    "sPrintIncAccum :: (Num a, Show a) => StateT a IO String\n",
    "sPrintIncAccum = do\n",
    "  s <- get\n",
    "  liftIO $ print $ \"Hej: \" ++ show s\n",
    "  put $ s + 1\n",
    "  pure $ show s\n",
    "\n",
    "runStateT sPrintIncAccum 10\n",
    "mapM (runStateT sPrintIncAccum) [1..5]"
   ]
  },
  {
   "cell_type": "markdown",
   "metadata": {},
   "source": [
    "#### Fix the code\n",
    "The code won’t type check as written; fix it so that it does."
   ]
  },
  {
   "cell_type": "code",
   "execution_count": 69,
   "metadata": {},
   "outputs": [],
   "source": [
    "import Control.Monad (guard)\n",
    "\n",
    "isValid :: String -> Bool\n",
    "isValid v = '!' `elem` v\n",
    "\n",
    "maybeExcite :: MaybeT IO String\n",
    "maybeExcite = do\n",
    "  v <- liftIO getLine\n",
    "  guard $ isValid v\n",
    "  pure v\n",
    "\n",
    "doExcite :: IO ()\n",
    "doExcite = do\n",
    "  putStrLn \"say something excite!\"\n",
    "  excite <- runMaybeT maybeExcite\n",
    "  case excite of\n",
    "    Nothing -> putStrLn \"MOAR EXCITE\"\n",
    "    Just e -> putStrLn (\"Good, was very excite: \" ++ e)"
   ]
  },
  {
   "cell_type": "markdown",
   "metadata": {},
   "source": [
    "#### Hit counter\n",
    "We’re going to provide an initial scaffold of a scotty application that counts hits to specific URIs. It also prefixes the keys with a prefix defined on app initialization, retrieved via command line arguments:"
   ]
  },
  {
   "cell_type": "code",
   "execution_count": 70,
   "metadata": {},
   "outputs": [],
   "source": [
    "{-# LANGUAGE OverloadedStrings #-}\n",
    "\n",
    "import Control.Monad.Trans.Class\n",
    "import Control.Monad.Trans.Reader\n",
    "import Data.IORef\n",
    "import qualified Data.Map as M\n",
    "import Data.Maybe                     (fromMaybe)\n",
    "import Data.Text.Lazy                 (Text)\n",
    "import qualified Data.Text.Lazy as TL\n",
    "import System.Environment             (getArgs)\n",
    "import Web.Scotty.Trans         as WT (get)\n",
    "import Web.Scotty.Trans               (ActionT(..), ScottyT(..), scottyT, param, html)\n",
    "\n",
    "data Config = Config\n",
    "    { counts :: IORef (M.Map Text Integer)\n",
    "    , prefix :: Text\n",
    "    }\n",
    "\n",
    "type Scotty = ScottyT Text (ReaderT Config IO)\n",
    "type Handler = ActionT Text (ReaderT Config IO)\n",
    "\n",
    "bumpBoomp :: Text -> M.Map Text Integer -> (M.Map Text Integer, Integer)\n",
    "bumpBoomp k m = let\n",
    "    incremented = fromMaybe 0 (M.lookup k m) + 1\n",
    "  in\n",
    "    (M.insert k incremented m, incremented)\n",
    "\n",
    "app :: Scotty ()\n",
    "app = WT.get \"/:key\" $ do\n",
    "  unprefixed <- param \"key\"\n",
    "  config <- lift $ ReaderT pure\n",
    "  let key = prefix config <> unprefixed \n",
    "  newInteger <- liftIO $ atomicModifyIORef (counts config) (\\ref -> (ref, bumpBoomp key ref))\n",
    "  html $ mconcat [ \"<h1>Success! Count was: \"\n",
    "                 , TL.pack $ show newInteger\n",
    "                 , \"</h1>\"\n",
    "                 ]\n",
    "\n",
    "main :: IO ()\n",
    "main = do\n",
    "  [prefixArg] <- getArgs\n",
    "  counter <- newIORef M.empty\n",
    "  let config = Config counter $ TL.pack prefixArg\n",
    "      runR r = runReaderT r config\n",
    "  scottyT 3000 runR app"
   ]
  },
  {
   "cell_type": "markdown",
   "metadata": {},
   "source": [
    "#### Morra\n",
    "1. Write the game Morra using `StateT` and `IO`. The state being\n",
    "accumulated is the score of the player and the computer AI op-\n",
    "ponent. To start, make the computer choose its play randomly.\n",
    "On exit, report the scores for the player and the computer,\n",
    "congratulating the winner."
   ]
  },
  {
   "cell_type": "code",
   "execution_count": 71,
   "metadata": {},
   "outputs": [],
   "source": [
    "{-# LANGUAGE MultiWayIf #-}\n",
    "\n",
    "import Control.Monad.Trans.State as ST (modify)\n",
    "import System.Random                   (randomRIO)\n",
    "\n",
    "data Board = Board { player :: Int, opponent :: Int }\n",
    "                   \n",
    "instance Show Board where\n",
    "  show (Board player opponent) = mconcat [ \"Player: \", show player, \"\\n\", \"Opponent: \", show opponent]\n",
    "             \n",
    "type Morra = StateT Board IO\n",
    "\n",
    "playerWins :: Board -> Board\n",
    "playerWins (Board player opponent) = Board (player + 1) opponent\n",
    "\n",
    "opponentWins :: Board -> Board\n",
    "opponentWins (Board player opponent) = Board player (opponent + 1)\n",
    "\n",
    "morra :: Morra ()\n",
    "morra = do\n",
    "  playerHand <- read <$> liftIO getLine\n",
    "  computerHand <- liftIO $ randomRIO (0, 5)\n",
    "  let hand = computerHand + playerHand\n",
    "  playerGuess <- read <$> liftIO getLine\n",
    "  computerGuess <- liftIO $ randomRIO (0, 10)\n",
    "  if \n",
    "    | playerGuess == hand -> modify playerWins\n",
    "    | computerGuess == hand -> modify opponentWins\n",
    "  loop\n",
    "\n",
    "loop :: Morra ()\n",
    "loop = do\n",
    "  liftIO $ putStrLn \"Continue? (y or n)\"\n",
    "  choice <- liftIO getLine\n",
    "  case choice of\n",
    "    \"y\" -> morra  \n",
    "    \"n\" -> do board <- ST.get\n",
    "              liftIO $ print board\n",
    "    _   -> do liftIO $ putStrLn \"Invalid choice\"\n",
    "              loop\n",
    "\n",
    "main :: Morra ()\n",
    "main = morra"
   ]
  },
  {
   "cell_type": "markdown",
   "metadata": {},
   "source": [
    "2. Add a human vs. human mode to the game with interstitial screens between input prompts so the players can change out of the hot seat without seeing the other player’s answer."
   ]
  },
  {
   "cell_type": "code",
   "execution_count": 72,
   "metadata": {},
   "outputs": [],
   "source": [
    "import System.Console.ANSI (clearScreen)\n",
    "\n",
    "twoPlayersMorra :: Morra ()\n",
    "twoPlayersMorra = do\n",
    "  firstPlayerHand <- read <$> liftIO getLine\n",
    "  firstPlayerGuess <- read <$> liftIO getLine\n",
    "  liftIO clearScreen\n",
    "  secondPlayerHand <- read <$> liftIO getLine\n",
    "  secondPlayerGuess <- read <$> liftIO getLine\n",
    "  let hand = secondPlayerHand + firstPlayerHand\n",
    "  if \n",
    "    | firstPlayerGuess == hand -> ST.modify playerWins\n",
    "    | secondPlayerGuess == hand -> ST.modify opponentWins\n",
    "  loop\n",
    "\n",
    "main :: Morra ()\n",
    "main = do\n",
    "  liftIO $ putStrLn \"Number of players (1 or 2)? \"\n",
    "  players <- read <$> liftIO getLine\n",
    "  case players of\n",
    "    1 -> morra\n",
    "    2 -> twoPlayersMorra\n",
    "    _ -> do liftIO $ putStrLn \"Invalid choice\"\n",
    "            main"
   ]
  },
  {
   "cell_type": "markdown",
   "metadata": {},
   "source": [
    "3. Improve the computer AI slightly by making it remember 3-grams of the player’s behavior, adjusting its answer instead of deciding randomly when the player’s behavior matches a known behavior."
   ]
  },
  {
   "cell_type": "code",
   "execution_count": 73,
   "metadata": {},
   "outputs": [],
   "source": [
    "import qualified Data.Map as M (Map, empty, insert, lookup)\n",
    "import Data.Maybe              (isJust, fromJust)\n",
    "import Data.List               (isPrefixOf)\n",
    "\n",
    "morra' :: Morra ()\n",
    "morra' = do\n",
    "  historyRef <- liftIO $ newIORef []\n",
    "  playerHand <- read <$> liftIO getLine\n",
    "  liftIO $ modifyIORef historyRef (playerHand:)\n",
    "  playerGuess <- read <$> liftIO getLine\n",
    "  history <- liftIO $ readIORef historyRef\n",
    "  (computerHand, computerGuess) <- liftIO $ case predict history of\n",
    "    Just (c:_) -> pure (0, c)\n",
    "    Nothing -> do h <- randomRIO (0, 5)\n",
    "                  g <- randomRIO (0, 10)\n",
    "                  pure (h, g)\n",
    "  let hand = computerHand + playerHand\n",
    "  if \n",
    "    | playerGuess == hand -> ST.modify playerWins\n",
    "    | computerGuess == hand -> ST.modify opponentWins\n",
    "  loop\n",
    "\n",
    "predict :: [Int] -> Maybe [Int]\n",
    "predict xs = do\n",
    "  pre <- takeMaybe 2 xs\n",
    "  case followedWith pre xs of\n",
    "    [] -> Nothing\n",
    "    xxs -> Just xxs\n",
    "\n",
    "followedWith :: [Int] -> [Int] -> [Int]\n",
    "followedWith _ [] = []\n",
    "followedWith pre (x:xs)\n",
    "  | pre `isPrefixOf` xs = x : rest\n",
    "  | otherwise = rest\n",
    "  where\n",
    "    rest = followedWith pre xs\n",
    "\n",
    "takeMaybe :: Int -> [a] -> Maybe [a]\n",
    "takeMaybe 0 _  = Just []\n",
    "takeMaybe _ [] = Nothing\n",
    "takeMaybe n (x:xs) = (x:) <$> takeMaybe (n - 1) xs"
   ]
  },
  {
   "cell_type": "markdown",
   "metadata": {},
   "source": [
    "4. The 3-gram thing is pretty simple and dumb. Humans are bad at being random; they often have sub-patterns in their moves."
   ]
  },
  {
   "cell_type": "code",
   "execution_count": 74,
   "metadata": {},
   "outputs": [],
   "source": [
    "import qualified Data.Map as M (Map, empty, insert, lookup)\n",
    "import Data.Maybe              (isJust, fromJust)\n",
    "import Data.List               (isPrefixOf)\n",
    "\n",
    "morra' :: Morra ()\n",
    "morra' = do\n",
    "  historyRef <- liftIO $ newIORef []\n",
    "  playerHand <- read <$> liftIO getLine\n",
    "  liftIO $ modifyIORef historyRef (playerHand:)\n",
    "  playerGuess <- read <$> liftIO getLine\n",
    "  history <- liftIO $ readIORef historyRef\n",
    "  (computerHand, computerGuess) <- liftIO $ case predict history of\n",
    "    Just (c:_) -> pure (0, c)\n",
    "    Nothing -> do h <- randomRIO (0, 5)\n",
    "                  g <- randomRIO (0, 10)\n",
    "                  pure (h, g)\n",
    "  let hand = computerHand + playerHand\n",
    "  if \n",
    "    | playerGuess == hand -> ST.modify playerWins\n",
    "    | computerGuess == hand -> ST.modify opponentWins\n",
    "  loop\n",
    "\n",
    "predict :: [Int] -> Maybe [Int]\n",
    "predict xs = do\n",
    "  pre <- takeMaybe 4 xs\n",
    "  case followedWith pre xs of\n",
    "    [] -> do\n",
    "      pre' <- takeMaybe 3 xs\n",
    "      case followedWith pre' xs of\n",
    "        [] -> do\n",
    "          pre'' <- takeMaybe 2 xs\n",
    "          case followedWith pre'' xs of\n",
    "            [] -> Nothing\n",
    "            xxs -> Just xxs\n",
    "        xxs -> Just xxs\n",
    "    xxs -> Just xxs\n",
    "\n",
    "followedWith :: [Int] -> [Int] -> [Int]\n",
    "followedWith _ [] = []\n",
    "followedWith pre (x:xs)\n",
    "  | pre `isPrefixOf` xs = x : rest\n",
    "  | otherwise = rest\n",
    "  where\n",
    "    rest = followedWith pre xs\n",
    "\n",
    "takeMaybe :: Int -> [a] -> Maybe [a]\n",
    "takeMaybe 0 _  = Just []\n",
    "takeMaybe _ [] = Nothing\n",
    "takeMaybe n (x:xs) = (x:) <$> takeMaybe (n - 1) xs"
   ]
  },
  {
   "cell_type": "markdown",
   "metadata": {},
   "source": [
    "## 26.15 Definition\n",
    "- *leak*: something that consumes a resource in a way that renders a program unusable or irrecoverable\n",
    "- *memory leak*: consuming memory in a way that renders it unusable or unrecoverable by other programs or parts of a program"
   ]
  },
  {
   "cell_type": "code",
   "execution_count": 75,
   "metadata": {},
   "outputs": [
    {
     "data": {
      "text/plain": [
       "5\n",
       "6"
      ]
     },
     "metadata": {},
     "output_type": "display_data"
    }
   ],
   "source": [
    "import Data.IORef                        \n",
    "                                         \n",
    "newtype Counter = Counter { x :: IORef Int }\n",
    "\n",
    "i = 5\n",
    "\n",
    "do\n",
    "  iref <- newIORef i\n",
    "  c' <- readIORef iref\n",
    "  modifyIORef iref (+ i)\n",
    "  writeIORef iref 6\n",
    "  print(c')  \n",
    "  c'' <- readIORef iref\n",
    "  print(c'')  \n",
    "  return (Counter iref)"
   ]
  }
 ],
 "metadata": {
  "kernelspec": {
   "display_name": "Haskell",
   "language": "haskell",
   "name": "haskell"
  },
  "language_info": {
   "codemirror_mode": "ihaskell",
   "file_extension": ".hs",
   "name": "haskell",
   "pygments_lexer": "Haskell",
   "version": "8.6.5"
  }
 },
 "nbformat": 4,
 "nbformat_minor": 4
}
