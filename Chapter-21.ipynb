{
 "cells": [
  {
   "cell_type": "code",
   "execution_count": 2,
   "metadata": {},
   "outputs": [],
   "source": [
    ":opt no-lint"
   ]
  },
  {
   "cell_type": "code",
   "execution_count": 3,
   "metadata": {},
   "outputs": [],
   "source": [
    "import Test.QuickCheck\n",
    "import Test.QuickCheck.Checkers\n",
    "import Test.QuickCheck.Classes"
   ]
  },
  {
   "cell_type": "markdown",
   "metadata": {},
   "source": [
    "#  21 Traversable\n",
    "## 21.1 Traversable\n",
    "`Traversable` allows to traverse a data structure while transforming its elements like a functor, producing applicative effects along the way, and lift those potentially multiple instances of applicative structure outside of the traversable structure.\n",
    "\n",
    "## 21.2 The Traversable type class definition\n",
    "`Traversable` depends on `Applicative`, and thus `Functor`, and is superclassed by `Foldable`.\n",
    "It is defined by at least one of the functions:\n",
    "- `traverse` which maps each element of a structure to an action, evaluates the actions from left to right, and collects the results.\n",
    "- `sequenceA` which evaluates each action in the structure from left to right, and collect the results.\n",
    "The caller of such functions chooses the `Applicative` instance. \n",
    "\n",
    "## 21.3 sequenceA\n",
    "The effect of `sequenceA` is to flip two structures.\n",
    "\n",
    "#### Example:"
   ]
  },
  {
   "cell_type": "code",
   "execution_count": 43,
   "metadata": {},
   "outputs": [
    {
     "data": {
      "text/plain": [
       "[Just 1,Just 2,Just 3]"
      ]
     },
     "metadata": {},
     "output_type": "display_data"
    },
    {
     "data": {
      "text/plain": [
       "Just [1,2,3]"
      ]
     },
     "metadata": {},
     "output_type": "display_data"
    }
   ],
   "source": [
    "sequenceA $ Just [1,2,3]\n",
    "sequenceA [Just 1, Just 2, Just 3]"
   ]
  },
  {
   "cell_type": "markdown",
   "metadata": {},
   "source": [
    "## 21.4 traverse\n",
    "Features:\n",
    "- maps a function over some embedded value(s), like `fmap`\n",
    "- generates more structure, likie `=<<`\n",
    "- moreover, the additional structure can be of a different type\n",
    "- at the end, it will flip the two structures around, as `sequenceA` does\n",
    "\n",
    "#### Example:"
   ]
  },
  {
   "cell_type": "code",
   "execution_count": 44,
   "metadata": {},
   "outputs": [
    {
     "data": {
      "text/plain": [
       "Just [1,2,3]"
      ]
     },
     "metadata": {},
     "output_type": "display_data"
    }
   ],
   "source": [
    "traverse Just [1, 2, 3]"
   ]
  },
  {
   "cell_type": "markdown",
   "metadata": {},
   "source": [
    "### mapM is traverse\n",
    "`traverse` can be seen as an abstraction of the `[]` in `mapM` to any traversable data structure and generalizing the `Monad` requirement to only need an `Applicative`.\n",
    "## 21.5 So, what’s Traversable for?\n",
    "- to flip two type constructors\n",
    "- to map something and then flip them around\n",
    "- instead of `sequence` or `sequenceA` combined with a `map` or `fmap`\n",
    "- to fold a structure while producing effects\n",
    "\n",
    "## 21.6 Morse code revisited\n",
    "We can use `traverse` to map a computation that can potentially fail to a traversable structure and we what to result in a `Nothing` if at least one element lead the computation to fail.\n",
    "`traverse` is `sequence` (`Traversable` distinctive feature) composed with `fmap`, in the same way as `>>=` is `join` (`Monad` distinctive feature) composed with `fmap`.\n",
    "## 21.7 Axing tedious code\n",
    "The section shows how to use `traverse` to refactor a function where we need to map over a function while performing actions and combine the results.\n",
    "## 21.8 Do all the things\n",
    "The example shows how to use `traverse` in order to visit a list of URLs and return a single `IO` action containing the list of responses.\n",
    "### Strength for understanding\n",
    "The `Functor` instance can be recovered from the `Traversable` instance as follow:"
   ]
  },
  {
   "cell_type": "code",
   "execution_count": 45,
   "metadata": {},
   "outputs": [
    {
     "data": {
      "text/plain": [
       "[2,3,4]"
      ]
     },
     "metadata": {},
     "output_type": "display_data"
    }
   ],
   "source": [
    "import Data.Functor.Identity\n",
    "\n",
    "fmap' f t = runIdentity $ traverse (Identity . f) t\n",
    "fmap' (+1) [1, 2, 3]"
   ]
  },
  {
   "cell_type": "markdown",
   "metadata": {},
   "source": [
    "The `Foldable` instance can be recovered from the `Traversable` instance as follow:"
   ]
  },
  {
   "cell_type": "code",
   "execution_count": 46,
   "metadata": {},
   "outputs": [
    {
     "data": {
      "text/plain": [
       "6"
      ]
     },
     "metadata": {},
     "output_type": "display_data"
    }
   ],
   "source": [
    "import Data.Functor.Constant\n",
    "import Data.Monoid\n",
    "\n",
    "foldMap' f t = getConstant $ traverse (Constant . f) t\n",
    "getSum $ foldMap' Sum [1, 2, 3]"
   ]
  },
  {
   "cell_type": "markdown",
   "metadata": {},
   "source": [
    "## 21.9 Traversable instances\n",
    "The following two instances only requires `Functor`, thus underutilizing the `Traversable` constraints.\n",
    "### Either\n",
    "Produces an `Either` context inside an applicative context.\n",
    "### Tuple\n",
    "Produces an `Tuple` context inside an applicative context.\n",
    "## 21.10 Traversable laws\n",
    "#### `traverse` laws:\n",
    "1. Naturality: `t . traverse f = traverse (t . f)`\n",
    "2. Identity: `traverse Identity = Identity`\n",
    "3. Composition: `traverse (Compose . fmap g . f) = Compose . fmap (traverse g) . traverse f`\n",
    "\n",
    "#### `sequenceA` laws:\n",
    "1. Naturality: `t . sequenceA = sequenceA . fmap t`\n",
    "2. Identity: `sequenceA . fmap Identity = Identity`\n",
    "3. Composition: `sequenceA . fmap Compose = Compose . fmap sequenceA . sequenceA`\n",
    "\n",
    "## 21.11 Quality control\n",
    "The `Traversable` laws can be checked with `QuickCheck` and `checkers` libraries.\n",
    "## 21.12 Chapter exercises\n",
    "Traversable instances\n",
    "Write a `Traversable` instance and validate it with `QuickCheck`\n",
    "#### Identity"
   ]
  },
  {
   "cell_type": "code",
   "execution_count": 47,
   "metadata": {},
   "outputs": [
    {
     "data": {
      "text/plain": [
       "\n",
       "traversable:\n",
       "  fmap:    +++ OK, passed 500 tests.\n",
       "  foldMap: +++ OK, passed 500 tests."
      ]
     },
     "metadata": {},
     "output_type": "display_data"
    }
   ],
   "source": [
    "newtype Identity a = Identity a deriving (Eq, Ord, Show)\n",
    "\n",
    "instance Functor Identity where\n",
    "  fmap f (Identity x) = Identity $ f x\n",
    "  \n",
    "instance Foldable Identity where\n",
    "  foldMap f (Identity x) = f x\n",
    "\n",
    "instance Traversable Identity where\n",
    "  sequenceA (Identity x) = Identity <$> x\n",
    "  traverse f (Identity x) = Identity <$> f x\n",
    "  \n",
    "instance (Arbitrary a) => Arbitrary (Identity a) where\n",
    "  arbitrary = Identity <$> arbitrary\n",
    "      \n",
    "instance (Eq a) => EqProp (Identity a) where\n",
    "  (=-=) = eq\n",
    "\n",
    "type Trigger = (Int, Int, [Int])\n",
    "\n",
    "do\n",
    "  let trigger = undefined\n",
    "  quickBatch $ traversable (trigger :: Identity Trigger)"
   ]
  },
  {
   "cell_type": "markdown",
   "metadata": {},
   "source": [
    "#### Constant"
   ]
  },
  {
   "cell_type": "code",
   "execution_count": 82,
   "metadata": {},
   "outputs": [
    {
     "data": {
      "text/plain": [
       "\n",
       "traversable:\n",
       "  fmap:    +++ OK, passed 500 tests.\n",
       "  foldMap: +++ OK, passed 500 tests."
      ]
     },
     "metadata": {},
     "output_type": "display_data"
    }
   ],
   "source": [
    "newtype Constant a b = Constant { getConstant :: a } deriving (Eq, Show)\n",
    "\n",
    "instance Functor (Constant a) where\n",
    "  fmap _ (Constant x) = Constant x\n",
    "\n",
    "instance Foldable (Constant a) where\n",
    "  foldMap _ _ = mempty\n",
    "\n",
    "instance Traversable (Constant a) where\n",
    "  sequenceA (Constant x) = Constant <$> pure x\n",
    "  traverse _ (Constant x) = Constant <$> pure x\n",
    "\n",
    "instance (Arbitrary a, Arbitrary b) => Arbitrary (Constant a b) where\n",
    "  arbitrary = Constant <$> arbitrary\n",
    "\n",
    "instance (Eq a, Eq b) => EqProp (Constant a b) where\n",
    "  (=-=) = eq\n",
    "\n",
    "type Trigger = (Int, Int, [Int])\n",
    "\n",
    "do\n",
    "  let trigger = undefined\n",
    "  quickBatch $ traversable (trigger :: Constant Trigger Trigger)"
   ]
  },
  {
   "cell_type": "markdown",
   "metadata": {},
   "source": [
    "#### Maybe"
   ]
  },
  {
   "cell_type": "code",
   "execution_count": 49,
   "metadata": {},
   "outputs": [
    {
     "data": {
      "text/plain": [
       "\n",
       "traversable:\n",
       "  fmap:    +++ OK, passed 500 tests.\n",
       "  foldMap: +++ OK, passed 500 tests."
      ]
     },
     "metadata": {},
     "output_type": "display_data"
    }
   ],
   "source": [
    "data Optional a = Nada | Yep a deriving (Eq, Show)\n",
    "\n",
    "instance Functor Optional where\n",
    "  fmap _ Nada = Nada\n",
    "  fmap f (Yep x) = Yep $ f x\n",
    "\n",
    "instance Foldable Optional where\n",
    "  foldMap _ Nada = mempty\n",
    "  foldMap f (Yep x) = f x\n",
    "\n",
    "instance Traversable Optional where\n",
    "  sequenceA Nada = pure Nada\n",
    "  sequenceA (Yep x) = Yep <$> x\n",
    "  traverse _ Nada = pure Nada\n",
    "  traverse f (Yep x) = Yep <$> f x\n",
    "\n",
    "instance (Arbitrary a) => Arbitrary (Optional a) where\n",
    "  arbitrary = do\n",
    "    x <- arbitrary\n",
    "    elements [Nada, Yep x]\n",
    "\n",
    "instance (Eq a) => EqProp (Optional a) where\n",
    "  (=-=) = eq\n",
    "\n",
    "type Trigger = (Int, Int, [Int])\n",
    "\n",
    "do\n",
    "  let trigger = undefined\n",
    "  quickBatch $ traversable (trigger :: Optional Trigger)"
   ]
  },
  {
   "cell_type": "markdown",
   "metadata": {},
   "source": [
    "#### List"
   ]
  },
  {
   "cell_type": "code",
   "execution_count": 85,
   "metadata": {},
   "outputs": [
    {
     "data": {
      "text/plain": [
       "\n",
       "traversable:\n",
       "  fmap:    +++ OK, passed 500 tests.\n",
       "  foldMap: +++ OK, passed 500 tests."
      ]
     },
     "metadata": {},
     "output_type": "display_data"
    }
   ],
   "source": [
    "data List a = Nil | Cons a (List a) deriving (Eq, Show)\n",
    "\n",
    "instance Functor List where\n",
    "  fmap _ Nil = Nil\n",
    "  fmap f (Cons x xs) = Cons (f x) (fmap f xs)\n",
    "\n",
    "instance Foldable List where\n",
    "  foldMap _ Nil = mempty\n",
    "  foldMap f (Cons x xs) = f x <> foldMap f xs\n",
    "\n",
    "instance Traversable List where\n",
    "  sequenceA Nil = pure Nil\n",
    "  sequenceA (Cons x xs) = Cons <$> x <*>  sequenceA xs\n",
    "  traverse _ Nil = pure Nil\n",
    "  traverse f (Cons x xs) = Cons <$> f x <*>  traverse f xs\n",
    "\n",
    "instance (Arbitrary a) => Arbitrary (List a) where\n",
    "  arbitrary =  do\n",
    "  a <- arbitrary\n",
    "  b <- arbitrary\n",
    "  frequency [ (10, return $ Cons a b), (1, return Nil)]\n",
    "\n",
    "instance Eq a => EqProp (List a) where\n",
    "  xs =-= ys = xs' `eq` ys'\n",
    "    where\n",
    "      xs' = let l = xs in take' 100 l\n",
    "      ys' = let l = ys in take' 100 l\n",
    "\n",
    "take' :: Int -> List a -> List a\n",
    "take' 0 _ = Nil\n",
    "take' _ Nil = Nil\n",
    "take' n (Cons x xs) = Cons x (take' (n - 1) xs)\n",
    "\n",
    "type Trigger = (Int, Int, [Int])\n",
    "\n",
    "do\n",
    "  let trigger = undefined\n",
    "  quickBatch $ traversable (trigger :: List Trigger)"
   ]
  },
  {
   "cell_type": "markdown",
   "metadata": {},
   "source": [
    "#### Three"
   ]
  },
  {
   "cell_type": "code",
   "execution_count": 51,
   "metadata": {},
   "outputs": [
    {
     "data": {
      "text/plain": [
       "\n",
       "traversable:\n",
       "  fmap:    +++ OK, passed 500 tests.\n",
       "  foldMap: +++ OK, passed 500 tests."
      ]
     },
     "metadata": {},
     "output_type": "display_data"
    }
   ],
   "source": [
    "data Three a b c = Three a b c deriving (Eq, Show)\n",
    "\n",
    "instance Functor (Three a b) where\n",
    "  fmap f (Three x y z) = Three x y (f z)\n",
    "\n",
    "instance Foldable (Three a b) where\n",
    "  foldMap f (Three _ _ x) = f x\n",
    "\n",
    "instance Traversable (Three a b) where\n",
    "  sequenceA (Three x y z) = Three x y <$> z\n",
    "  traverse f (Three x y z) = Three x y <$> f z\n",
    "\n",
    "instance (Arbitrary a, Arbitrary b, Arbitrary c) => Arbitrary (Three a b c) where\n",
    "  arbitrary = Three <$> arbitrary <*> arbitrary <*> arbitrary\n",
    "\n",
    "instance (Eq a, Eq b, Eq c) => EqProp (Three a b c) where\n",
    "  (=-=) = eq\n",
    "\n",
    "type Trigger = (Int, Int, [Int])\n",
    "\n",
    "do\n",
    "  let trigger = undefined\n",
    "  quickBatch $ traversable (trigger :: Three Trigger Trigger Trigger)"
   ]
  },
  {
   "cell_type": "markdown",
   "metadata": {},
   "source": [
    "#### Pair"
   ]
  },
  {
   "cell_type": "code",
   "execution_count": 80,
   "metadata": {},
   "outputs": [
    {
     "data": {
      "text/plain": [
       "\n",
       "traversable:\n",
       "  fmap:    +++ OK, passed 500 tests.\n",
       "  foldMap: +++ OK, passed 500 tests."
      ]
     },
     "metadata": {},
     "output_type": "display_data"
    }
   ],
   "source": [
    "data Pair a b = Pair a b deriving (Eq, Show)\n",
    "\n",
    "instance Functor (Pair a) where\n",
    "  fmap f (Pair x y) = Pair x (f y)\n",
    "\n",
    "instance Foldable (Pair a) where\n",
    "  foldMap f (Pair _ x) = f x\n",
    "\n",
    "instance Traversable (Pair a) where\n",
    "  sequenceA (Pair x y) = Pair x <$> y\n",
    "  traverse f (Pair x y) = Pair x <$> f y\n",
    "\n",
    "instance (Arbitrary a, Arbitrary b) => Arbitrary (Pair a b) where\n",
    "  arbitrary = Pair <$> arbitrary <*> arbitrary\n",
    "\n",
    "instance (Eq a, Eq b) => EqProp (Pair a b) where\n",
    "  (=-=) = eq\n",
    "\n",
    "type Trigger = (Int, Int, [Int])\n",
    "\n",
    "do\n",
    "  let trigger = undefined\n",
    "  quickBatch $ traversable (trigger :: Three Trigger Trigger Trigger)"
   ]
  },
  {
   "cell_type": "markdown",
   "metadata": {},
   "source": [
    "#### Big"
   ]
  },
  {
   "cell_type": "code",
   "execution_count": 53,
   "metadata": {},
   "outputs": [
    {
     "data": {
      "text/plain": [
       "\n",
       "traversable:\n",
       "  fmap:    +++ OK, passed 500 tests.\n",
       "  foldMap: +++ OK, passed 500 tests."
      ]
     },
     "metadata": {},
     "output_type": "display_data"
    }
   ],
   "source": [
    "data Big a b = Big a b b deriving (Eq, Show)\n",
    "\n",
    "instance Functor (Big a) where\n",
    "  fmap f (Big x y z) = Big x (f y) (f z)\n",
    "\n",
    "instance Foldable (Big a) where\n",
    "  foldMap f (Big _ y z) = f y <> f z\n",
    "\n",
    "instance Traversable (Big a) where\n",
    "  sequenceA (Big x y z) = Big x <$> y <*> z\n",
    "  traverse f (Big x y z) = Big x <$> f y <*> f z\n",
    "\n",
    "instance (Arbitrary a, Arbitrary b) => Arbitrary (Big a b) where\n",
    "  arbitrary = Big <$> arbitrary <*> arbitrary <*> arbitrary\n",
    "\n",
    "instance (Eq a, Eq b) => EqProp (Big a b) where\n",
    "  (=-=) = eq\n",
    "\n",
    "type Trigger = (Int, Int, [Int])\n",
    "\n",
    "do\n",
    "  let trigger = undefined\n",
    "  quickBatch $ traversable (trigger :: Big Trigger Trigger)"
   ]
  },
  {
   "cell_type": "markdown",
   "metadata": {},
   "source": [
    "#### Bigger"
   ]
  },
  {
   "cell_type": "code",
   "execution_count": 54,
   "metadata": {},
   "outputs": [
    {
     "data": {
      "text/plain": [
       "\n",
       "traversable:\n",
       "  fmap:    +++ OK, passed 500 tests.\n",
       "  foldMap: +++ OK, passed 500 tests."
      ]
     },
     "metadata": {},
     "output_type": "display_data"
    }
   ],
   "source": [
    "data Bigger a b = Bigger a b b b  deriving (Eq, Show)\n",
    "\n",
    "instance Functor (Bigger a) where\n",
    "  fmap f (Bigger x y z t) = Bigger x (f y) (f z) (f t)\n",
    "\n",
    "instance Foldable (Bigger a) where\n",
    "  foldMap f (Bigger _ y z t) = f y <> f z <> f t\n",
    "\n",
    "instance Traversable (Bigger a) where\n",
    "  sequenceA (Bigger x y z t) = Bigger x <$> y <*> z <*> t\n",
    "  traverse f (Bigger x y z t) = Bigger x <$> f y <*> f z <*> f t\n",
    "\n",
    "instance (Arbitrary a, Arbitrary b) => Arbitrary (Bigger a b) where\n",
    "  arbitrary = Bigger <$> arbitrary <*> arbitrary <*> arbitrary  <*> arbitrary\n",
    "\n",
    "instance (Eq a, Eq b) => EqProp (Bigger a b) where\n",
    "  (=-=) = eq\n",
    "\n",
    "type Trigger = (Int, Int, [Int])\n",
    "\n",
    "do\n",
    "  let trigger = undefined\n",
    "  quickBatch $ traversable (trigger :: Bigger Trigger Trigger)"
   ]
  },
  {
   "cell_type": "markdown",
   "metadata": {},
   "source": [
    "#### S"
   ]
  },
  {
   "cell_type": "code",
   "execution_count": 4,
   "metadata": {},
   "outputs": [
    {
     "data": {
      "text/plain": [
       "\n",
       "traversable:\n",
       "  fmap:    +++ OK, passed 500 tests.\n",
       "  foldMap: +++ OK, passed 500 tests."
      ]
     },
     "metadata": {},
     "output_type": "display_data"
    }
   ],
   "source": [
    "{-# LANGUAGE FlexibleContexts #-}\n",
    "\n",
    "data S n a = S (n a) a deriving (Eq, Show)\n",
    "\n",
    "instance Functor n => Functor (S n) where\n",
    "  fmap f (S na x) = S (f <$> na) (f x)\n",
    "\n",
    "instance Foldable n => Foldable (S n) where\n",
    "  foldMap f (S na x) = foldMap f na <> f x\n",
    "\n",
    "instance Traversable n => Traversable (S n) where\n",
    "  sequenceA (S na x) = S <$> sequenceA na <*> x\n",
    "  traverse f (S na x) = S <$> traverse f na <*> f x\n",
    "\n",
    "instance (Functor n, Arbitrary (n a), Arbitrary a) => Arbitrary (S n a) where\n",
    "  arbitrary = S <$> arbitrary <*> arbitrary\n",
    "\n",
    "instance (Applicative n, Testable (n Property), Eq a, Eq (n a), EqProp a)=> EqProp (S n a) where\n",
    "  (=-=) = eq\n",
    "\n",
    "type Trigger = (Int, Int, [Int])\n",
    "\n",
    "do\n",
    "  let trigger = undefined\n",
    "  quickBatch $ traversable (trigger :: S Maybe Trigger)"
   ]
  },
  {
   "cell_type": "markdown",
   "metadata": {},
   "source": [
    "#### Instances for Tree\n",
    "This might be hard. Write the following instances for Tree:"
   ]
  },
  {
   "cell_type": "code",
   "execution_count": 86,
   "metadata": {},
   "outputs": [
    {
     "data": {
      "text/plain": [
       "\n",
       "traversable:\n",
       "  fmap:    +++ OK, passed 500 tests.\n",
       "  foldMap: +++ OK, passed 500 tests."
      ]
     },
     "metadata": {},
     "output_type": "display_data"
    }
   ],
   "source": [
    "data Tree a = Empty | Leaf a | Node (Tree a) a (Tree a) deriving (Eq, Show)\n",
    "\n",
    "instance Functor Tree where\n",
    "  fmap _ Empty = Empty\n",
    "  fmap f (Leaf x) = Leaf $ f x\n",
    "  fmap f (Node ls x rs) = Node (f <$> ls) (f x) (f <$> rs)\n",
    "\n",
    "instance Foldable Tree where\n",
    "  foldMap _ Empty = mempty\n",
    "  foldMap f (Leaf x) = f x\n",
    "  foldMap f (Node ls x rs) = foldMap f ls <> f x <> foldMap f rs\n",
    "  \n",
    "  foldr _ z Empty = z\n",
    "  foldr f z (Leaf x) = f x z\n",
    "  foldr f z (Node ls x rs) = f x (foldr f (foldr f z rs) ls)\n",
    "\n",
    "instance Traversable Tree where\n",
    "  sequenceA Empty = pure Empty\n",
    "  sequenceA (Leaf x) = Leaf <$> x\n",
    "  sequenceA (Node ls x rs) = Node <$> sequenceA ls <*> x <*>  sequenceA rs\n",
    "  \n",
    "  traverse _ Empty = pure Empty\n",
    "  traverse f (Leaf x) = Leaf <$> f x\n",
    "  traverse f (Node ls x rs) = Node <$> traverse f ls <*> f x <*>  traverse f rs\n",
    "\n",
    "instance (Arbitrary a) => Arbitrary (Tree a) where\n",
    "  arbitrary = do\n",
    "    ls <- arbitrary\n",
    "    x <- arbitrary\n",
    "    rs <- arbitrary\n",
    "    elements [ Empty, Leaf x, Node ls x rs]\n",
    "\n",
    "instance Eq a => EqProp (Tree a) where\n",
    "  xs =-= ys = xs' `eq` ys'\n",
    "    where\n",
    "      xs' = let l = xs in take' 100 l\n",
    "      ys' = let l = ys in take' 100 l\n",
    "\n",
    "take' :: Int -> Tree a -> Tree a\n",
    "take' 0 _ = Empty\n",
    "take' _ Empty = Empty\n",
    "take' _ (Leaf x) = Leaf x\n",
    "take' n (Node ls x rs) = Node (take' (n - 1) ls) x (take' (n - 1) rs)\n",
    "\n",
    "type Trigger = (Int, Int, [Int])\n",
    "\n",
    "do\n",
    "  let trigger = undefined\n",
    "  quickBatch $ traversable (trigger :: Tree Trigger)"
   ]
  }
 ],
 "metadata": {
  "kernelspec": {
   "display_name": "Haskell",
   "language": "haskell",
   "name": "haskell"
  },
  "language_info": {
   "codemirror_mode": "ihaskell",
   "file_extension": ".hs",
   "name": "haskell",
   "pygments_lexer": "Haskell",
   "version": "8.6.5"
  }
 },
 "nbformat": 4,
 "nbformat_minor": 4
}
