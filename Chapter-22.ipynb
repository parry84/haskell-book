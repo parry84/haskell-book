{
 "cells": [
  {
   "cell_type": "code",
   "execution_count": 2,
   "metadata": {},
   "outputs": [],
   "source": [
    ":opt no-lint"
   ]
  },
  {
   "cell_type": "markdown",
   "metadata": {},
   "source": [
    "#  22 Reader\n",
    "## 22.1 Reader\n",
    "`Reader` address the need to access global data. Passing such data as arguments would negatively impact code readability.\n",
    "\n",
    "## 22.2 A new beginning\n",
    "- The `Functor` of functions is function composition.\n",
    "- The `Applicative` and `Monad` of functions chain the argument forward before compositing (since they are variants of `Functor`, they retain core `Functor` functionality which is composition)\n",
    "\n",
    "`Reader` is a way of abstracting out function application, and it gives us a way to do computation in terms\n",
    "of an argument that hasn’t been supplied yet.\n",
    "### Short Exercise: Warming up"
   ]
  },
  {
   "cell_type": "code",
   "execution_count": 27,
   "metadata": {},
   "outputs": [
    {
     "data": {
      "text/plain": [
       "\"EILUJ\""
      ]
     },
     "metadata": {},
     "output_type": "display_data"
    },
    {
     "data": {
      "text/plain": [
       "\"SIRHC\""
      ]
     },
     "metadata": {},
     "output_type": "display_data"
    },
    {
     "data": {
      "text/plain": [
       "(\"JULIE\",\"eiluJ\")"
      ]
     },
     "metadata": {},
     "output_type": "display_data"
    },
    {
     "data": {
      "text/plain": [
       "(\"JULIE\",\"eiluJ\")"
      ]
     },
     "metadata": {},
     "output_type": "display_data"
    },
    {
     "data": {
      "text/plain": [
       "(\"JULIE\",\"eiluJ\")"
      ]
     },
     "metadata": {},
     "output_type": "display_data"
    }
   ],
   "source": [
    "import Data.Char\n",
    "\n",
    "cap :: String -> String\n",
    "cap = map toUpper\n",
    "\n",
    "rev :: String -> String\n",
    "rev = reverse\n",
    "\n",
    "composed :: String -> String\n",
    "composed = cap . rev\n",
    "composed \"Julie\"\n",
    "\n",
    "fmapped :: String -> String\n",
    "fmapped = fmap cap rev\n",
    "fmapped \"Chris\"\n",
    "\n",
    "tupled :: String -> (String, String)\n",
    "tupled = (,) <$> cap <*> rev\n",
    "tupled \"Julie\"\n",
    "\n",
    "tupled' :: String -> (String, String)\n",
    "tupled' = do\n",
    "  c <- cap\n",
    "  r <- rev\n",
    "  pure (c, r)\n",
    "tupled' \"Julie\"\n",
    "\n",
    "tupled'' :: String -> (String, String)\n",
    "tupled'' = cap >>= (\\c -> rev >>= (\\r -> pure (c, r)))\n",
    "tupled'' \"Julie\""
   ]
  },
  {
   "cell_type": "markdown",
   "metadata": {},
   "source": [
    "## 22.3 This is Reader\n",
    "`Reader`is based on function composition, because it lets us compose functions without explicitly having to recognize the argument that will eventually arrive.\n",
    "The term _Reader_, refers to the `Monad` instance.\n",
    "## 22.4 Breaking down the Functor of functions\n",
    "The instance is defined as:\n",
    "```haskell\n",
    "instance Functor ((->) r)\n",
    "```\n",
    "Since `(->)` as a kindness of `* -> * -> *`, we can only lift a partial applied function, where `r` is the input argument of the function.\n",
    "The composition based implementation can be verified with types as follow:\n",
    "```haskell\n",
    ".    ::              (b -> c) -> (a -> b) -> (a -> c)\n",
    "fmap :: Functor f => (b -> c) ->     f b  ->     f c\n",
    "```\n",
    "Hence, `f` is `((->) a)`\n",
    "## 22.5 But uh, Reader?\n",
    "`Reader` is a newtype wrapper for the function type:"
   ]
  },
  {
   "cell_type": "code",
   "execution_count": 28,
   "metadata": {},
   "outputs": [],
   "source": [
    "newtype Reader r a = Reader { runReader :: r -> a }"
   ]
  },
  {
   "cell_type": "markdown",
   "metadata": {},
   "source": [
    "Its `Functor` instance is:"
   ]
  },
  {
   "cell_type": "code",
   "execution_count": 30,
   "metadata": {},
   "outputs": [],
   "source": [
    "{-# LANGUAGE InstanceSigs #-}\n",
    "\n",
    "instance Functor (Reader r) where\n",
    "  fmap :: (a -> b) -> Reader r a -> Reader r b\n",
    "  fmap f (Reader ra) = Reader $ f . ra"
   ]
  },
  {
   "cell_type": "markdown",
   "metadata": {},
   "source": [
    "### Exercise: Ask\n",
    "Implement the following function."
   ]
  },
  {
   "cell_type": "code",
   "execution_count": 31,
   "metadata": {},
   "outputs": [],
   "source": [
    "ask :: Reader a a\n",
    "ask = Reader id"
   ]
  },
  {
   "cell_type": "markdown",
   "metadata": {},
   "source": [
    "## 22.6 Functions have an Applicative, too\n",
    "The term _Reader_ may sometimes refers to the `Applicative` or `Monad` associated with the partially applied function type, rather than to `Reader`.\n",
    "### Exercise: Reading comprehension\n",
    "1. Write `liftA2` yourself."
   ]
  },
  {
   "cell_type": "code",
   "execution_count": 32,
   "metadata": {},
   "outputs": [],
   "source": [
    "myLiftA2 :: Applicative f => (a -> b -> c) -> f a -> f b -> f c\n",
    "myLiftA2 abc fa fb = abc <$> fa <*> fb"
   ]
  },
  {
   "cell_type": "markdown",
   "metadata": {},
   "source": [
    "2. Write the following function."
   ]
  },
  {
   "cell_type": "code",
   "execution_count": 33,
   "metadata": {},
   "outputs": [],
   "source": [
    "asks :: (r -> a) -> Reader r a\n",
    "asks = Reader"
   ]
  },
  {
   "cell_type": "markdown",
   "metadata": {},
   "source": [
    "3. Implement the `Applicative` for `Reader`."
   ]
  },
  {
   "cell_type": "code",
   "execution_count": 34,
   "metadata": {},
   "outputs": [],
   "source": [
    "{-# LANGUAGE InstanceSigs #-}\n",
    "\n",
    "instance Applicative (Reader r) where\n",
    "  pure :: a -> Reader r a\n",
    "  pure a = Reader $ const a\n",
    "\n",
    "  (<*>) :: Reader r (a -> b) -> Reader r a -> Reader r b\n",
    "  (Reader rab) <*> (Reader ra) = Reader $ \\r -> rab r (ra r)"
   ]
  },
  {
   "cell_type": "markdown",
   "metadata": {},
   "source": [
    "## 22.7 The Monad of functions\n",
    "\n",
    "The structure is `((->) r)`, just like with `Functor` and `Applicative` instances.\n",
    "### Exercise: Reader Monad\n",
    "1. Implement the `Reader` `Monad`."
   ]
  },
  {
   "cell_type": "code",
   "execution_count": 35,
   "metadata": {},
   "outputs": [],
   "source": [
    "{-# LANGUAGE InstanceSigs #-}\n",
    "\n",
    "instance Monad (Reader r) where\n",
    "  return = pure\n",
    "  (>>=) :: Reader r a -> (a -> Reader r b) -> Reader r b\n",
    "  (Reader ra) >>= aRb = Reader $ \\r -> (runReader $ aRb (ra r)) r"
   ]
  },
  {
   "cell_type": "markdown",
   "metadata": {},
   "source": [
    "2. Rewrite the monadic `getDogRM` to use your `Reader` datatype."
   ]
  },
  {
   "cell_type": "code",
   "execution_count": 36,
   "metadata": {},
   "outputs": [
    {
     "data": {
      "text/html": [
       "<style>/* Styles used for the Hoogle display in the pager */\n",
       ".hoogle-doc {\n",
       "display: block;\n",
       "padding-bottom: 1.3em;\n",
       "padding-left: 0.4em;\n",
       "}\n",
       ".hoogle-code {\n",
       "display: block;\n",
       "font-family: monospace;\n",
       "white-space: pre;\n",
       "}\n",
       ".hoogle-text {\n",
       "display: block;\n",
       "}\n",
       ".hoogle-name {\n",
       "color: green;\n",
       "font-weight: bold;\n",
       "}\n",
       ".hoogle-head {\n",
       "font-weight: bold;\n",
       "}\n",
       ".hoogle-sub {\n",
       "display: block;\n",
       "margin-left: 0.4em;\n",
       "}\n",
       ".hoogle-package {\n",
       "font-weight: bold;\n",
       "font-style: italic;\n",
       "}\n",
       ".hoogle-module {\n",
       "font-weight: bold;\n",
       "}\n",
       ".hoogle-class {\n",
       "font-weight: bold;\n",
       "}\n",
       ".get-type {\n",
       "color: green;\n",
       "font-weight: bold;\n",
       "font-family: monospace;\n",
       "display: block;\n",
       "white-space: pre-wrap;\n",
       "}\n",
       ".show-type {\n",
       "color: green;\n",
       "font-weight: bold;\n",
       "font-family: monospace;\n",
       "margin-left: 1em;\n",
       "}\n",
       ".mono {\n",
       "font-family: monospace;\n",
       "display: block;\n",
       "}\n",
       ".err-msg {\n",
       "color: red;\n",
       "font-style: italic;\n",
       "font-family: monospace;\n",
       "white-space: pre;\n",
       "display: block;\n",
       "}\n",
       "#unshowable {\n",
       "color: red;\n",
       "font-weight: bold;\n",
       "}\n",
       ".err-msg.in.collapse {\n",
       "padding-top: 0.7em;\n",
       "}\n",
       ".highlight-code {\n",
       "white-space: pre;\n",
       "font-family: monospace;\n",
       "}\n",
       ".suggestion-warning { \n",
       "font-weight: bold;\n",
       "color: rgb(200, 130, 0);\n",
       "}\n",
       ".suggestion-error { \n",
       "font-weight: bold;\n",
       "color: red;\n",
       "}\n",
       ".suggestion-name {\n",
       "font-weight: bold;\n",
       "}\n",
       "</style><div class=\"suggestion-name\" style=\"clear:both;\">Use <$></div><div class=\"suggestion-row\" style=\"float: left;\"><div class=\"suggestion-warning\">Found:</div><div class=\"highlight-code\" id=\"haskell\">do name <- dogNameRM\n",
       "   addy <- addressRM\n",
       "   return \\$ Dog name addy</div></div><div class=\"suggestion-row\" style=\"float: left;\"><div class=\"suggestion-warning\">Why Not:</div><div class=\"highlight-code\" id=\"haskell\">do name <- dogNameRM\n",
       "   Dog name <\\$> addressRM</div></div>"
      ],
      "text/plain": [
       "Line 15: Use <$>\n",
       "Found:\n",
       "do name <- dogNameRM\n",
       "   addy <- addressRM\n",
       "   return $ Dog name addy\n",
       "Why not:\n",
       "do name <- dogNameRM\n",
       "   Dog name <$> addressRM"
      ]
     },
     "metadata": {},
     "output_type": "display_data"
    },
    {
     "data": {
      "text/plain": [
       "Dog {dogsName = DogName \"Argo\", dogsAddress = Address \"Colmar\"}"
      ]
     },
     "metadata": {},
     "output_type": "display_data"
    }
   ],
   "source": [
    "newtype HumanName = HumanName String deriving (Eq, Show)\n",
    "newtype DogName = DogName String deriving (Eq, Show)\n",
    "newtype Address = Address String deriving (Eq, Show)\n",
    "\n",
    "data Person = Person {humanName :: HumanName, dogName :: DogName, address :: Address} deriving (Eq, Show)\n",
    "data Dog = Dog {dogsName :: DogName, dogsAddress :: Address} deriving (Eq, Show)\n",
    "\n",
    "dogNameRM :: Reader Person DogName\n",
    "dogNameRM = dogName <$> ask\n",
    "\n",
    "addressRM :: Reader Person Address\n",
    "addressRM = address <$> ask\n",
    "\n",
    "getDogRM :: Reader Person Dog\n",
    "getDogRM = do\n",
    "  name <- dogNameRM\n",
    "  addy <- addressRM\n",
    "  return $ Dog name addy\n",
    "\n",
    "runReader getDogRM $ Person (HumanName \"Sebastian\") (DogName \"Argo\") (Address \"Colmar\")"
   ]
  },
  {
   "cell_type": "markdown",
   "metadata": {},
   "source": [
    "## 22.8 Reader Monad by itself is boring\n",
    "Discutere il paragrafo a pagina 865 in basso\n",
    "## 22.9 You can only change what comes below\n",
    "??? NON CHIARA LA FRASE ALL'INIZIO\n",
    "The type argument `r` is read-only"
   ]
  },
  {
   "cell_type": "code",
   "execution_count": 2,
   "metadata": {},
   "outputs": [],
   "source": [
    "import Control.Monad.Reader\n",
    "\n",
    "withReaderT :: (r' -> r)\n",
    "-- ^ The function to modify\n",
    "-- the environment\n",
    "  -> ReaderT r m a\n",
    "-- ^ Computation to run in the\n",
    "-- modified environment\n",
    "  -> ReaderT r' m a\n",
    "\n",
    "withReaderT f m = ReaderT $ runReaderT m . f\n",
    "\n",
    "-- come si usa??"
   ]
  },
  {
   "cell_type": "markdown",
   "metadata": {},
   "source": [
    "## 22.10 You tend to see ReaderT, not Reader\n",
    "`Reader` is typically used in a stack of multiple types providing a `Monad` instance. In that case it's a monad transformer and it's named `ReaderT`\n",
    "Moreover a `Reader` usually wraps a record of several values.\n",
    "## 22.11 Chapter exercises\n",
    "#### A warm-up stretch"
   ]
  },
  {
   "cell_type": "code",
   "execution_count": 38,
   "metadata": {},
   "outputs": [],
   "source": [
    "import Control.Applicative\n",
    "import Data.Maybe\n",
    "\n",
    "x = [1, 2, 3]\n",
    "y = [4, 5, 6]\n",
    "z = [7, 8, 9]\n",
    "\n",
    "-- zip x and y using 3 as the lookup key\n",
    "xs :: Maybe Integer\n",
    "xs = lookup 3 $ zip x y\n",
    "\n",
    "-- zip y and z using 6 as the lookup key\n",
    "ys :: Maybe Integer\n",
    "ys = lookup 6 $ zip y z\n",
    "\n",
    "-- zip x and y using 4 as the lookup key\n",
    "zs :: Maybe Integer\n",
    "zs = lookup 4 $ zip x y\n",
    "\n",
    "-- zip x and z using a variable lookup key\n",
    "z' :: Integer -> Maybe Integer\n",
    "z' n = lookup n $ zip x z"
   ]
  },
  {
   "cell_type": "markdown",
   "metadata": {},
   "source": [
    "Add the ability to make a `Maybe (,)` of values using `Applicative`."
   ]
  },
  {
   "cell_type": "code",
   "execution_count": 39,
   "metadata": {},
   "outputs": [],
   "source": [
    "x1 :: Maybe (Integer, Integer)\n",
    "x1 = (,) <$> xs <*> ys\n",
    "\n",
    "x2 :: Maybe (Integer, Integer)\n",
    "x2 = (,) <$> ys <*> zs\n",
    "\n",
    "x3 :: Integer -> (Maybe Integer, Maybe Integer)\n",
    "x3 n = (z' n, z' n)"
   ]
  },
  {
   "cell_type": "markdown",
   "metadata": {},
   "source": [
    "Make some helper functions."
   ]
  },
  {
   "cell_type": "code",
   "execution_count": 42,
   "metadata": {},
   "outputs": [
    {
     "data": {
      "text/plain": [
       "Just [3,2,1]\n",
       "[[1,4],[1,5],[1,6],[2,4],[2,5],[2,6],[3,4],[3,5],[3,6]]\n",
       "Just [6,9]\n",
       "Just 15\n",
       "Nothing\n",
       "False\n",
       "[False,False,False]"
      ]
     },
     "metadata": {},
     "output_type": "display_data"
    }
   ],
   "source": [
    "summed :: Num c => (c, c) -> c\n",
    "summed = uncurry (+)\n",
    "\n",
    "bolt :: Integer -> Bool\n",
    "bolt = (<3)\n",
    "\n",
    "do\n",
    "  print $ sequenceA [Just 3, Just 2, Just 1]\n",
    "  print $ sequenceA [x, y]\n",
    "  print $ sequenceA [xs, ys]\n",
    "  print $ summed <$> ((,) <$> xs <*> ys)\n",
    "  print $ fmap summed ((,) <$> xs <*> zs)\n",
    "  print $ bolt 7\n",
    "  print $ fmap bolt z"
   ]
  },
  {
   "cell_type": "markdown",
   "metadata": {},
   "source": [
    "The following combines `sequenceA` and `Reader` in a surprising way:"
   ]
  },
  {
   "cell_type": "code",
   "execution_count": 43,
   "metadata": {},
   "outputs": [
    {
     "data": {
      "text/plain": [
       "[True,True,False]"
      ]
     },
     "metadata": {},
     "output_type": "display_data"
    }
   ],
   "source": [
    "print $ sequenceA [(>3), (<8), even] 7\n",
    "  \n",
    "sequA :: Integral a => a -> [Bool]\n",
    "sequA = sequenceA [(>3), (<8), even]\n",
    "\n",
    "s' = summed <$> ((,) <$> xs <*> ys)"
   ]
  },
  {
   "cell_type": "markdown",
   "metadata": {},
   "source": [
    "1. Fold the `Boolean` conjunction operator over the list of results of `sequA` (applied to some value)."
   ]
  },
  {
   "cell_type": "code",
   "execution_count": 44,
   "metadata": {},
   "outputs": [
    {
     "data": {
      "text/plain": [
       "False"
      ]
     },
     "metadata": {},
     "output_type": "display_data"
    }
   ],
   "source": [
    "print $ and $ sequA 7"
   ]
  },
  {
   "cell_type": "markdown",
   "metadata": {},
   "source": [
    "2. Apply `sequA` to `s'` (you’ll need `fromMaybe`)."
   ]
  },
  {
   "cell_type": "code",
   "execution_count": 45,
   "metadata": {},
   "outputs": [
    {
     "data": {
      "text/plain": [
       "[True,False,False]"
      ]
     },
     "metadata": {},
     "output_type": "display_data"
    }
   ],
   "source": [
    "print $ sequA $ fromMaybe 0 s'"
   ]
  },
  {
   "cell_type": "markdown",
   "metadata": {},
   "source": [
    "3. Apply `bolt` to `ys` (you’ll need `fromMaybe`)."
   ]
  },
  {
   "cell_type": "code",
   "execution_count": 46,
   "metadata": {},
   "outputs": [
    {
     "data": {
      "text/plain": [
       "False"
      ]
     },
     "metadata": {},
     "output_type": "display_data"
    }
   ],
   "source": [
    "print $ bolt $ fromMaybe 0 ys"
   ]
  },
  {
   "cell_type": "markdown",
   "metadata": {},
   "source": [
    "#### Rewriting Shawty\n",
    "Instead of manually passing the database connection `rConn` from `main` to the `app` function, use `ReaderT` to make the database connection\n",
    "available."
   ]
  },
  {
   "cell_type": "code",
   "execution_count": 49,
   "metadata": {},
   "outputs": [],
   "source": [
    "{-# LANGUAGE OverloadedStrings #-}\n",
    "\n",
    "import Control.Monad (replicateM)\n",
    "import Control.Monad.IO.Class (liftIO)\n",
    "import qualified Data.ByteString.Char8 as BC\n",
    "import Data.Text.Encoding (decodeUtf8, encodeUtf8)\n",
    "import qualified Data.Text.Lazy as TL\n",
    "import qualified Database.Redis as R\n",
    "import Network.URI (URI, parseURI)\n",
    "import qualified System.Random as SR\n",
    "import Web.Scotty\n",
    "\n",
    "alphaNum :: String\n",
    "alphaNum = ['A'..'Z'] ++ ['0'..'9']\n",
    "\n",
    "randomElement :: String -> IO Char\n",
    "randomElement xs = do\n",
    "  let maxIndex :: Int\n",
    "      maxIndex = length xs - 1\n",
    "  -- Right of arrow is IO Int, so randomDigit is Int\n",
    "  randomDigit <- SR.randomRIO (0, maxIndex) :: IO Int\n",
    "  return (xs !! randomDigit)\n",
    "\n",
    "shortyGen :: IO String\n",
    "shortyGen =\n",
    "  replicateM 7 (randomElement alphaNum)\n",
    "\n",
    "saveURI :: R.Connection\n",
    "        -> BC.ByteString\n",
    "        -> BC.ByteString\n",
    "        -> IO (Either R.Reply R.Status)\n",
    "saveURI conn shortURI uri =\n",
    "  R.runRedis conn $ R.set shortURI uri\n",
    "\n",
    "getURI  :: R.Connection\n",
    "        -> BC.ByteString\n",
    "        -> IO (Either R.Reply (Maybe BC.ByteString))\n",
    "getURI conn shortURI = R.runRedis conn $ R.get shortURI\n",
    "\n",
    "linkShorty :: String -> String\n",
    "linkShorty shorty =\n",
    "  concat [ \"<a href=\\\"\"\n",
    "         , shorty\n",
    "         , \"\\\">Copy and paste your short URL</a>\"\n",
    "         ]\n",
    "\n",
    "shortyCreated :: Show a => a -> String -> TL.Text\n",
    "shortyCreated resp shawty =\n",
    "  TL.concat [ TL.pack (show resp)\n",
    "            , \" shorty is: \", TL.pack (linkShorty shawty)\n",
    "            ]\n",
    "\n",
    "shortyAintUri :: TL.Text -> TL.Text\n",
    "shortyAintUri uri =\n",
    "  TL.concat [ uri\n",
    "            , \" wasn't a url, did you forget http://?\"\n",
    "            ]\n",
    "\n",
    "shortyFound :: TL.Text -> TL.Text\n",
    "shortyFound tbs =\n",
    "  TL.concat [\"<a href=\\\"\", tbs, \"\\\">\", tbs, \"</a>\"]\n",
    "\n",
    "app :: R.Connection -> ScottyM ()\n",
    "app rConn = do\n",
    "  get \"/\" $ do\n",
    "    uri <- param \"uri\"\n",
    "    let parsedUri :: Maybe URI\n",
    "        parsedUri = parseURI (TL.unpack uri)\n",
    "    case parsedUri of\n",
    "      Just _  -> do\n",
    "        shawty <- liftIO shortyGen\n",
    "        let shorty = BC.pack shawty\n",
    "            uri' = encodeUtf8 (TL.toStrict uri)\n",
    "        resp <- liftIO (saveURI rConn shorty uri')\n",
    "        html (shortyCreated resp shawty)\n",
    "      Nothing -> text (shortyAintUri uri)\n",
    "  get \"/:short\" $ do\n",
    "    short <- param \"short\"\n",
    "    uri <- liftIO (getURI rConn short)\n",
    "    case uri of\n",
    "      Left reply -> text (TL.pack (show reply))\n",
    "      Right mbBS -> case mbBS of\n",
    "        Nothing -> text \"uri not found\"\n",
    "        Just bs -> html (shortyFound tbs)\n",
    "          where tbs :: TL.Text\n",
    "                tbs = TL.fromStrict (decodeUtf8 bs)\n",
    "\n",
    "appRM :: ReaderT R.Connection ScottyM ()\n",
    "appRM = ReaderT app\n",
    "  \n",
    "main :: IO ()\n",
    "main = do\n",
    "  rConn <- R.connect R.defaultConnectInfo\n",
    "  scotty 3000 $ runReaderT appRM rConn"
   ]
  },
  {
   "cell_type": "markdown",
   "metadata": {},
   "source": [
    "## 22.12 Definition\n",
    "A _monad transformer_ is a type that takes a monad as an argument and returns a monad as a result. It allows us to combine two monads into one that shares the behaviors of both."
   ]
  }
 ],
 "metadata": {
  "kernelspec": {
   "display_name": "Haskell",
   "language": "haskell",
   "name": "haskell"
  },
  "language_info": {
   "codemirror_mode": "ihaskell",
   "file_extension": ".hs",
   "name": "haskell",
   "pygments_lexer": "Haskell",
   "version": "8.6.5"
  }
 },
 "nbformat": 4,
 "nbformat_minor": 4
}
