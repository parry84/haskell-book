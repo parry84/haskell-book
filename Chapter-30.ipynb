{
 "cells": [
  {
   "cell_type": "markdown",
   "metadata": {},
   "source": [
    "# 30 When Things Go Wrong\n",
    "## 30.1 Exceptions\n",
    "Exceptions is another way of handling adverse conditions. Sometimes is faster than explicit dealing (through types).\n",
    "## 30.2 The Exception class and methods\n",
    "The types that encode the hierarchy of exceptions must have an instance of the `Exception` type class.\n",
    "Such class has a `Show` constraint (to print the exception) and a `Typeable` constraint to get type information at runtime.\n",
    "Its functions are typically used indirectly.\n",
    "`SomeException` is defined via GADT syntax, but could be defined as:\n",
    "```haskell\n",
    "{-# LANGUAGE ExistentialQuantification #-}\n",
    "\n",
    "data SomeException = forall e . Exception e => SomeException e\n",
    "```\n",
    "So, any type with an instance of the `Exception` type class can be that e and be handled as a `SomeException`.\n",
    "In that way, `SomeException` can handle different types without enumerating them in a sum type.\n",
    "The runtime type witness is necessary, since, when an exception is thrown, the call stack is unwinded until a `catch` that matches the type of catched exception (runtime match).\n",
    "## 30.3 This machine kills programs\n",
    "Unhandled exception are handled in `IO`.\n",
    "It is possible to explicitly handle them with `catch`.\n",
    "## 30.4 Want either? Try!\n",
    "We could lift exceptions into explicit `Either` values with the `try` function.\n",
    "## 30.5 The unbearable imprecision of trying\n",
    "Anyway `try` may not be able to catch every kind of exception.\n",
    "## 30.6 Why throwIO?\n",
    "The conventional way to throw an exception is to use `throwIO`, which embeds the exception in `IO` (you always handle exceptions in `IO`).\n",
    "The `throw` function skips the `IO` embedding.\n",
    "## 30.7 Making our own exception types\n",
    "We can define a custom exception by defining a data type and implementing the `Exception` instance for it (it can be derived).\n",
    "The data type can bear arguments in order to give a context to the exception.\n",
    "It is possible to handle more exception with a single handler by giving the `catch` function a list of pattern matchers or by defining a sum type.\n",
    "## 30.8 Surprising interaction with bottom\n",
    "Due to non-strictness:\n",
    "\n",
    "- The exception handling mechanism is not for, nor should be used for, catching bottoms.\n",
    "- Having caught an exception, even `SomeException`, without rethrowing an exception, doesn’t mean your program won’t fail.\n",
    "\n",
    "Hence, better to write total programs that don’t use bottom.\n",
    "## 30.9 Asynchronous exceptions\n",
    "Asynchronous exceptions as exceptions raised from a different thread than the one that receives the error.\n",
    "we use `mask_` in order to mask or delay exceptions thrown to the child thread until its action is complete. But in that way the exception may be thrown into the main thread.\n",
    "We don't need to catch everything. We could let the program die (as in Erlang philosophy)."
   ]
  }
 ],
 "metadata": {
  "kernelspec": {
   "display_name": "Haskell",
   "language": "haskell",
   "name": "haskell"
  },
  "language_info": {
   "codemirror_mode": "ihaskell",
   "file_extension": ".hs",
   "name": "haskell",
   "pygments_lexer": "Haskell",
   "version": "8.6.5"
  }
 },
 "nbformat": 4,
 "nbformat_minor": 4
}
