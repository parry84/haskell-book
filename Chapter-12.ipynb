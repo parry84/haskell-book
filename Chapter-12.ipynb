{
 "cells": [
  {
   "cell_type": "code",
   "execution_count": 136,
   "metadata": {},
   "outputs": [],
   "source": [
    ":opt no-lint"
   ]
  },
  {
   "cell_type": "markdown",
   "metadata": {},
   "source": [
    "# Chapter 12. Signaling adversity\n",
    "## 12.1 Signaling adversity\n",
    "* Datatypes to defend against wrong inputs\n",
    "* Maybe\n",
    "* Either\n",
    "* Higher-kindedness\n",
    "* Anamorphisms\n",
    "\n",
    "## 12.2 How I learned to stop worrying and love Nothing\n",
    "We can wrap output inside a `Maybe` to handle invalid inputs.\n",
    "Smart constructors for datatypes\n",
    "The same technique can be applied to constructor by defining a function that return a `Maybe` of a type.\n",
    "## 12.3 Bleathing either\n",
    "The `Either` sum datatype is useful to signal also _how_ an input is invalid. The `Left` data contructor is conventionally the error constructor becuase it has a stop semantic into the `Functor` instance.\n",
    "## 12.4 Kinds, a thousand stars in your types\n",
    "* The `::` syntax is used for both kind signatures and type signatures.\n",
    "* The `Maybe` and `Either` datatypes have non constant type constructors.\n",
    "* A **lifted** type is any that can be inhabited by _bottom_, while **unlifted** types aren't.\n",
    "* Kind `*` is the kind of all standard lifted types\n",
    "* Kind `#` is the kind of all unlifted types. I.e: native machine types, raw pointer, `newtype` types\n",
    "* Data constructors are functions. They can be recongnized with `:info`.\n",
    "\n",
    "## 12.5 Chapter Exercises\n",
    "### Determine the kinds\n",
    "1. Given `id :: a -> a` what is the kind of `a`? `*`\n",
    "2. `r :: a -> f a` What are the kinds of `a` and `f`? `a` is `*`,  `f` is `* -> *`\n",
    "\n",
    "### String processing\n",
    "1. Write a recursive function named `replaceThe` which takes a text/string, breaks it into words and replaces each instance of “the” with “a”. It’s intended only to replace exactly the word “the”. `notThe` is a suggested helper function for accomplishing this."
   ]
  },
  {
   "cell_type": "code",
   "execution_count": 137,
   "metadata": {},
   "outputs": [],
   "source": [
    "import Data.Maybe\n",
    "\n",
    "notThe :: String -> Maybe String\n",
    "notThe \"the\" = Nothing\n",
    "notThe x = Just x\n",
    "\n",
    "replaceThe :: String -> String\n",
    "replaceThe = unwords . (fmap (fromMaybe \"a\")) . (fmap notThe) . words\n",
    "\n",
    "--- WWWWW notThe ins't very useful"
   ]
  },
  {
   "cell_type": "markdown",
   "metadata": {},
   "source": [
    "2. Write a recursive function that takes a text/string, breaks it into words, and counts the number of instances of ”the” followed by a vowel-initial word."
   ]
  },
  {
   "cell_type": "code",
   "execution_count": 138,
   "metadata": {},
   "outputs": [],
   "source": [
    "countTheBeforeVowel :: String -> Integer\n",
    "countTheBeforeVowel = go . words \n",
    "\n",
    "go [] = 0\n",
    "go (\"the\":(c:cs):ws) \n",
    "  | isVowel c = 1 + go ws\n",
    "  | otherwise = go ws\n",
    "go (_:ws) = go ws\n",
    "\n",
    "isVowel = flip elem \"aeiouyAEIOUY\""
   ]
  },
  {
   "cell_type": "code",
   "execution_count": 139,
   "metadata": {},
   "outputs": [
    {
     "ename": "",
     "evalue": "",
     "output_type": "error",
     "traceback": [
      "Parse error (line 1, column 22): parse error on input ‘of’"
     ]
    }
   ],
   "source": [
    "3. Return the number of letters that are vowels in a word."
   ]
  },
  {
   "cell_type": "code",
   "execution_count": 140,
   "metadata": {},
   "outputs": [],
   "source": [
    "countVowels :: String -> Integer\n",
    "countVowels = foldl (\\n x -> if isVowel x then n + 1 else n) 0\n",
    "\n",
    "isVowel = flip elem \"aeiouyAEIOUY\""
   ]
  },
  {
   "cell_type": "markdown",
   "metadata": {},
   "source": [
    "### Validate the word\n",
    "Use the `Maybe` type to write a function that counts the number of vowels in a string and the number of consonants."
   ]
  },
  {
   "cell_type": "code",
   "execution_count": 141,
   "metadata": {},
   "outputs": [],
   "source": [
    "newtype Word' = Word' String deriving (Eq, Show)\n",
    "\n",
    "vowels = \"aeiou\"\n",
    "\n",
    "mkWord :: String -> Maybe Word'\n",
    "mkWord x\n",
    "  | countConsonants x >= countVowels x = Just (Word' x)\n",
    "  | otherwise = Nothing\n",
    "  \n",
    "countConsonants = foldl (\\n x -> if (not . isVowel) x then n + 1 else n) 0"
   ]
  },
  {
   "cell_type": "markdown",
   "metadata": {},
   "source": [
    "### It’s only Natural\n",
    "You’ll be presented with a datatype to represent the natural numbers. The only values representable with the naturals are whole numbers from zero to infinity. Your task will be to implement functions to convert Naturals to Integers and Integers to Naturals."
   ]
  },
  {
   "cell_type": "code",
   "execution_count": 142,
   "metadata": {},
   "outputs": [],
   "source": [
    "data Nat = Zero | Succ Nat deriving (Eq, Show)\n",
    "\n",
    "natToInteger :: Nat -> Integer\n",
    "natToInteger Zero = 0\n",
    "natToInteger (Succ x) = 1 + natToInteger x\n",
    "\n",
    "integerToNat :: Integer -> Maybe Nat\n",
    "integerToNat x\n",
    "  | x < 0 = Nothing\n",
    "  | otherwise = Just $ naturalToNat x\n",
    "\n",
    "naturalToNat :: Integer -> Nat\n",
    "naturalToNat 0 = Zero\n",
    "naturalToNat n = Succ $ naturalToNat (n - 1)\n"
   ]
  },
  {
   "cell_type": "markdown",
   "metadata": {},
   "source": [
    "### Small library for `Maybe`\n",
    "Write the following functions. This may take some time.\n",
    "1. Simple boolean checks for `Maybe` values."
   ]
  },
  {
   "cell_type": "code",
   "execution_count": 143,
   "metadata": {},
   "outputs": [],
   "source": [
    "isJust :: Maybe a -> Bool\n",
    "isJust (Just _) = True\n",
    "isJust Nothing = False\n",
    "\n",
    "isNothing :: Maybe a -> Bool\n",
    "isNothing = not . isJust"
   ]
  },
  {
   "cell_type": "markdown",
   "metadata": {},
   "source": [
    "2. The following is the `Maybe` catamorphism. You can turn a `Maybe` value into anything else with this."
   ]
  },
  {
   "cell_type": "code",
   "execution_count": 144,
   "metadata": {},
   "outputs": [],
   "source": [
    "mayybee :: b -> (a -> b) -> Maybe a -> b\n",
    "mayybee _ f (Just x) = f x\n",
    "mayybee x _ Nothing = x"
   ]
  },
  {
   "cell_type": "markdown",
   "metadata": {},
   "source": [
    "3. In case you just want to provide a fallback value."
   ]
  },
  {
   "cell_type": "code",
   "execution_count": 145,
   "metadata": {},
   "outputs": [],
   "source": [
    "fromMaybe :: a -> Maybe a -> a\n",
    "fromMaybe a b = mayybee a id b"
   ]
  },
  {
   "cell_type": "markdown",
   "metadata": {},
   "source": [
    "4. Converting between `List` and `Maybe`."
   ]
  },
  {
   "cell_type": "code",
   "execution_count": 146,
   "metadata": {},
   "outputs": [],
   "source": [
    "listToMaybe :: [a] -> Maybe a\n",
    "listToMaybe [] = Nothing\n",
    "listToMaybe (x:_) = Just x\n",
    "\n",
    "maybeToList :: Maybe a -> [a]\n",
    "maybeToList Nothing = []\n",
    "maybeToList (Just x) = [x]"
   ]
  },
  {
   "cell_type": "markdown",
   "metadata": {},
   "source": [
    "5. For when we want to drop the `Nothing` values from our list."
   ]
  },
  {
   "cell_type": "code",
   "execution_count": 147,
   "metadata": {},
   "outputs": [],
   "source": [
    "catMaybes :: [Maybe a] -> [a]\n",
    "catMaybes = concatMap maybeToList"
   ]
  },
  {
   "cell_type": "code",
   "execution_count": 148,
   "metadata": {},
   "outputs": [
    {
     "ename": "",
     "evalue": "",
     "output_type": "error",
     "traceback": [
      "Parse error (line 1, column 7): lexical error at character 'l'"
     ]
    }
   ],
   "source": [
    "6. You’ll see this called “sequence” later."
   ]
  },
  {
   "cell_type": "code",
   "execution_count": 149,
   "metadata": {},
   "outputs": [],
   "source": [
    "flipMaybe :: [Maybe a] -> Maybe [a]\n",
    "flipMaybe [] = Just []\n",
    "flipMaybe (Nothing:_) = Nothing\n",
    "flipMaybe (Just x:xs) = fmap (x:) $ flipMaybe xs"
   ]
  },
  {
   "cell_type": "markdown",
   "metadata": {},
   "source": [
    "### Small library for `Etiher`\n",
    "1. Try to eventually arrive at a solution that uses foldr, even if earlier versions don’t use foldr."
   ]
  },
  {
   "cell_type": "code",
   "execution_count": 150,
   "metadata": {},
   "outputs": [],
   "source": [
    "import Data.Either\n",
    "\n",
    "lefts' :: [Either a b] -> [a]\n",
    "lefts' = foldr (\\x acc -> if isLeft x then (getLeft x):acc else acc) []\n",
    "\n",
    "\n",
    "getLeft (Left x) = x"
   ]
  },
  {
   "cell_type": "markdown",
   "metadata": {},
   "source": [
    "2. Same as the last one. Use foldr eventually."
   ]
  },
  {
   "cell_type": "code",
   "execution_count": 151,
   "metadata": {},
   "outputs": [],
   "source": [
    "import Data.Either\n",
    "\n",
    "rights' :: [Either a b] -> [b]\n",
    "rights' = foldr (\\x acc -> if isRight x then (getRight x):acc else acc) []\n",
    "\n",
    "\n",
    "getRight (Right x) = x"
   ]
  },
  {
   "cell_type": "markdown",
   "metadata": {},
   "source": [
    "3."
   ]
  },
  {
   "cell_type": "code",
   "execution_count": 152,
   "metadata": {},
   "outputs": [],
   "source": [
    "partitionEithers' :: [Either a b] -> ([a], [b])\n",
    "partitionEithers' xs = (lefts' xs, rights' xs)"
   ]
  },
  {
   "cell_type": "markdown",
   "metadata": {},
   "source": [
    "4."
   ]
  },
  {
   "cell_type": "code",
   "execution_count": 153,
   "metadata": {},
   "outputs": [],
   "source": [
    "eitherMaybe' :: (b -> c) -> Either a b -> Maybe c\n",
    "eitherMaybe' f (Right x) =  Just $ f x\n",
    "eitherMaybe' _ (Left _) = Nothing"
   ]
  },
  {
   "cell_type": "markdown",
   "metadata": {},
   "source": [
    "5. This is a general catamorphism for `Either` values."
   ]
  },
  {
   "cell_type": "code",
   "execution_count": 154,
   "metadata": {},
   "outputs": [],
   "source": [
    "either' :: (a -> c) -> (b -> c) -> Either a b -> c\n",
    "either' _ f (Right x) =  f x\n",
    "either' f _ (Left x) = f x"
   ]
  },
  {
   "cell_type": "markdown",
   "metadata": {},
   "source": [
    "6. Same as before, but use the `either'` function you just wrote."
   ]
  },
  {
   "cell_type": "code",
   "execution_count": 155,
   "metadata": {},
   "outputs": [],
   "source": [
    "eitherMaybe'' :: (b -> c) -> Either a b -> Maybe c\n",
    "eitherMaybe'' f = either' (const Nothing) (Just . f)"
   ]
  },
  {
   "cell_type": "markdown",
   "metadata": {},
   "source": [
    "### Unfolds\n",
    "The dual of catamorphism is _anamorphism_\n",
    "\n",
    "1. Write the function `myIterate` using direct recursion."
   ]
  },
  {
   "cell_type": "code",
   "execution_count": 156,
   "metadata": {},
   "outputs": [],
   "source": [
    "myIterate :: (a -> a) -> a -> [a]\n",
    "myIterate f x = x:(myIterate f $ f x)"
   ]
  },
  {
   "cell_type": "markdown",
   "metadata": {},
   "source": [
    "2. Write the function `myUnfoldr` using direct recursion."
   ]
  },
  {
   "cell_type": "code",
   "execution_count": 157,
   "metadata": {},
   "outputs": [],
   "source": [
    "myUnfoldr :: (b -> Maybe (a, b)) -> b -> [a]\n",
    "myUnfoldr f state = case f state of\n",
    "  Just (a, b) -> a : myUnfoldr f b\n",
    "  Nothing -> []"
   ]
  },
  {
   "cell_type": "markdown",
   "metadata": {},
   "source": [
    "3. Rewrite `myIterate` into `betterIterate` using `myUnfoldr`."
   ]
  },
  {
   "cell_type": "code",
   "execution_count": 158,
   "metadata": {},
   "outputs": [],
   "source": [
    "betterIterate :: (a -> a) -> a -> [a]\n",
    "betterIterate f = myUnfoldr (\\x -> Just (x, f x))"
   ]
  },
  {
   "cell_type": "markdown",
   "metadata": {},
   "source": [
    "### Finally something other than a list!"
   ]
  },
  {
   "cell_type": "code",
   "execution_count": 159,
   "metadata": {},
   "outputs": [],
   "source": [
    "data BinaryTree a = Leaf | Node (BinaryTree a) a (BinaryTree a) deriving (Eq, Ord, Show)"
   ]
  },
  {
   "cell_type": "markdown",
   "metadata": {},
   "source": [
    "1. Write unfold for `BinaryTree`."
   ]
  },
  {
   "cell_type": "code",
   "execution_count": 160,
   "metadata": {},
   "outputs": [],
   "source": [
    "\n",
    "unfold :: (a -> Maybe (a, b, a)) -> a -> BinaryTree b\n",
    "unfold f state = case f state of\n",
    "  Just (a, b, a') -> Node (unfold f a) b (unfold f a')\n",
    "  Nothing -> Leaf"
   ]
  },
  {
   "cell_type": "markdown",
   "metadata": {},
   "source": [
    "2. Make a tree builder. Using the unfold function you’ve made for `BinaryTree`, write the following function:"
   ]
  },
  {
   "cell_type": "code",
   "execution_count": 161,
   "metadata": {},
   "outputs": [],
   "source": [
    "treeBuild :: Integer -> BinaryTree Integer\n",
    "treeBuild = unfold f\n",
    "  where\n",
    "    f :: (Num a, Eq a) => a -> Maybe (a, a, a)\n",
    "    f 0 = Nothing\n",
    "    f x = Just (x - 1, x - 1, x - 1)"
   ]
  },
  {
   "cell_type": "markdown",
   "metadata": {},
   "source": [
    "## 12.6 Definitions\n",
    "1. A higher-kinded type type is any type whose kind has a function arrow in it and which can be described as a type constructor. This is not to be confused with higher kinded _polymorphism_"
   ]
  }
 ],
 "metadata": {
  "kernelspec": {
   "display_name": "Haskell",
   "language": "haskell",
   "name": "haskell"
  },
  "language_info": {
   "codemirror_mode": "ihaskell",
   "file_extension": ".hs",
   "name": "haskell",
   "pygments_lexer": "Haskell",
   "version": "8.6.5"
  }
 },
 "nbformat": 4,
 "nbformat_minor": 4
}
